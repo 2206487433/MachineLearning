{
 "cells": [
  {
   "cell_type": "markdown",
   "metadata": {
    "slideshow": {
     "slide_type": "slide"
    }
   },
   "source": [
    "# 随机森林（Random Forests）"
   ]
  },
  {
   "cell_type": "markdown",
   "metadata": {
    "slideshow": {
     "slide_type": "slide"
    }
   },
   "source": [
    "- 鉴于决策树容易过拟合的缺点，随机森林采用多个决策树的投票机制来改善决策树 \n",
    "\n",
    "\n",
    "- 我们假设随机森林使用了m棵决策树，那么就需要产生m个一定数量的样本集来训练每一棵树，如果用全样本去训练m棵决策树显然是不可取的，全样本训练忽视了局部样本的规律，对于模型的泛化能力是有害的  \n",
    "\n",
    "\n",
    "- 产生n个样本的方法采用Bootstraping法，这是一种有放回的抽样方法，产生n个样本   \n",
    "\n",
    "\n",
    "- 而最终结果采用Bagging的策略来获得，即多数投票机制   "
   ]
  },
  {
   "cell_type": "markdown",
   "metadata": {
    "collapsed": true,
    "slideshow": {
     "slide_type": "slide"
    }
   },
   "source": [
    "### Bagging"
   ]
  },
  {
   "cell_type": "markdown",
   "metadata": {
    "slideshow": {
     "slide_type": "slide"
    }
   },
   "source": [
    "采用Bootstraping法，这是一种有放回的抽样方法，产生n个样本$D_t$"
   ]
  },
  {
   "cell_type": "markdown",
   "metadata": {
    "slideshow": {
     "slide_type": "slide"
    }
   },
   "source": [
    "** DT **"
   ]
  },
  {
   "cell_type": "markdown",
   "metadata": {
    "slideshow": {
     "slide_type": "slide"
    }
   },
   "source": [
    "然后对每个$D_t$都用决策树算法进行训练\n",
    "\n",
    "决策树算法：\n",
    "\n",
    "$g_t = \\sum_{c=1}^{C}[\\![b(x) = c]\\!]\\cdot G_c(x)$\n",
    "\n",
    "> $g_t$:为完整的树   \n",
    "> $b(x)$: $D_t$每个分支的条件   \n",
    "> $G_c(x)$: 表示第c个分支下的子树"
   ]
  },
  {
   "cell_type": "markdown",
   "metadata": {
    "slideshow": {
     "slide_type": "slide"
    }
   },
   "source": [
    "** RF **\n",
    "\n"
   ]
  },
  {
   "cell_type": "markdown",
   "metadata": {
    "slideshow": {
     "slide_type": "slide"
    }
   },
   "source": [
    "$RF = Bagging + DT$\n",
    "\n",
    "对上面的DT进行多数投票得到随机森林G\n",
    "\n",
    "$G = uniform(\\{g_t\\})$"
   ]
  },
  {
   "cell_type": "markdown",
   "metadata": {
    "collapsed": true,
    "slideshow": {
     "slide_type": "slide"
    }
   },
   "source": [
    "** 随机森林应用实例 **\n",
    "\n",
    "[随机森林应用实例](随机森林应用实例.ipynb)"
   ]
  },
  {
   "cell_type": "code",
   "execution_count": null,
   "metadata": {
    "collapsed": true
   },
   "outputs": [],
   "source": []
  }
 ],
 "metadata": {
  "celltoolbar": "Slideshow",
  "kernelspec": {
   "display_name": "Python 3",
   "language": "python",
   "name": "python3"
  },
  "language_info": {
   "codemirror_mode": {
    "name": "ipython",
    "version": 3
   },
   "file_extension": ".py",
   "mimetype": "text/x-python",
   "name": "python",
   "nbconvert_exporter": "python",
   "pygments_lexer": "ipython3",
   "version": "3.6.1"
  }
 },
 "nbformat": 4,
 "nbformat_minor": 2
}
