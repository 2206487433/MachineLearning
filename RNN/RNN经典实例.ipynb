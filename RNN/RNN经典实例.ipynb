{
 "cells": [
  {
   "cell_type": "markdown",
   "metadata": {
    "slideshow": {
     "slide_type": "slide"
    }
   },
   "source": [
    "# 航空公司客运流量预测"
   ]
  },
  {
   "cell_type": "markdown",
   "metadata": {
    "slideshow": {
     "slide_type": "slide"
    }
   },
   "source": [
    "### 数据集\n",
    "\n",
    "数据集有两列，分别是时间和客运流量，用到的主要是客运流量"
   ]
  },
  {
   "cell_type": "markdown",
   "metadata": {
    "slideshow": {
     "slide_type": "slide"
    }
   },
   "source": [
    "** 导入模块 **"
   ]
  },
  {
   "cell_type": "code",
   "execution_count": 31,
   "metadata": {
    "slideshow": {
     "slide_type": "fragment"
    }
   },
   "outputs": [
    {
     "name": "stderr",
     "output_type": "stream",
     "text": [
      "Using TensorFlow backend.\n"
     ]
    }
   ],
   "source": [
    "import pandas as pd\n",
    "import numpy as np\n",
    "import matplotlib.pyplot as plt\n",
    "from sklearn.preprocessing import MinMaxScaler\n",
    "from keras.models import Sequential\n",
    "from keras.layers import LSTM, Dense, Activation"
   ]
  },
  {
   "cell_type": "code",
   "execution_count": 93,
   "metadata": {
    "collapsed": true,
    "slideshow": {
     "slide_type": "fragment"
    }
   },
   "outputs": [],
   "source": [
    "import warnings\n",
    "warnings.filterwarnings('ignore')"
   ]
  },
  {
   "cell_type": "markdown",
   "metadata": {
    "slideshow": {
     "slide_type": "slide"
    }
   },
   "source": [
    "** 导入数据 **"
   ]
  },
  {
   "cell_type": "code",
   "execution_count": 94,
   "metadata": {
    "collapsed": true,
    "slideshow": {
     "slide_type": "fragment"
    }
   },
   "outputs": [],
   "source": [
    "#导入数据\n",
    "df = pd.read_csv('../DATA/airData.csv', sep=',')\n",
    "df = df.set_index('time')"
   ]
  },
  {
   "cell_type": "code",
   "execution_count": 95,
   "metadata": {
    "slideshow": {
     "slide_type": "fragment"
    }
   },
   "outputs": [
    {
     "data": {
      "text/html": [
       "<div>\n",
       "<style>\n",
       "    .dataframe thead tr:only-child th {\n",
       "        text-align: right;\n",
       "    }\n",
       "\n",
       "    .dataframe thead th {\n",
       "        text-align: left;\n",
       "    }\n",
       "\n",
       "    .dataframe tbody tr th {\n",
       "        vertical-align: top;\n",
       "    }\n",
       "</style>\n",
       "<table border=\"1\" class=\"dataframe\">\n",
       "  <thead>\n",
       "    <tr style=\"text-align: right;\">\n",
       "      <th></th>\n",
       "      <th>passengers</th>\n",
       "    </tr>\n",
       "    <tr>\n",
       "      <th>time</th>\n",
       "      <th></th>\n",
       "    </tr>\n",
       "  </thead>\n",
       "  <tbody>\n",
       "    <tr>\n",
       "      <th>1949-01</th>\n",
       "      <td>112</td>\n",
       "    </tr>\n",
       "    <tr>\n",
       "      <th>1949-02</th>\n",
       "      <td>118</td>\n",
       "    </tr>\n",
       "    <tr>\n",
       "      <th>1949-03</th>\n",
       "      <td>132</td>\n",
       "    </tr>\n",
       "    <tr>\n",
       "      <th>1949-04</th>\n",
       "      <td>129</td>\n",
       "    </tr>\n",
       "    <tr>\n",
       "      <th>1949-05</th>\n",
       "      <td>121</td>\n",
       "    </tr>\n",
       "    <tr>\n",
       "      <th>1949-06</th>\n",
       "      <td>135</td>\n",
       "    </tr>\n",
       "    <tr>\n",
       "      <th>1949-07</th>\n",
       "      <td>148</td>\n",
       "    </tr>\n",
       "    <tr>\n",
       "      <th>1949-08</th>\n",
       "      <td>148</td>\n",
       "    </tr>\n",
       "    <tr>\n",
       "      <th>1949-09</th>\n",
       "      <td>136</td>\n",
       "    </tr>\n",
       "    <tr>\n",
       "      <th>1949-10</th>\n",
       "      <td>119</td>\n",
       "    </tr>\n",
       "    <tr>\n",
       "      <th>1949-11</th>\n",
       "      <td>104</td>\n",
       "    </tr>\n",
       "    <tr>\n",
       "      <th>1949-12</th>\n",
       "      <td>118</td>\n",
       "    </tr>\n",
       "    <tr>\n",
       "      <th>1950-01</th>\n",
       "      <td>115</td>\n",
       "    </tr>\n",
       "    <tr>\n",
       "      <th>1950-02</th>\n",
       "      <td>126</td>\n",
       "    </tr>\n",
       "    <tr>\n",
       "      <th>1950-03</th>\n",
       "      <td>141</td>\n",
       "    </tr>\n",
       "    <tr>\n",
       "      <th>1950-04</th>\n",
       "      <td>135</td>\n",
       "    </tr>\n",
       "    <tr>\n",
       "      <th>1950-05</th>\n",
       "      <td>125</td>\n",
       "    </tr>\n",
       "    <tr>\n",
       "      <th>1950-06</th>\n",
       "      <td>149</td>\n",
       "    </tr>\n",
       "    <tr>\n",
       "      <th>1950-07</th>\n",
       "      <td>170</td>\n",
       "    </tr>\n",
       "    <tr>\n",
       "      <th>1950-08</th>\n",
       "      <td>170</td>\n",
       "    </tr>\n",
       "    <tr>\n",
       "      <th>1950-09</th>\n",
       "      <td>158</td>\n",
       "    </tr>\n",
       "    <tr>\n",
       "      <th>1950-10</th>\n",
       "      <td>133</td>\n",
       "    </tr>\n",
       "    <tr>\n",
       "      <th>1950-11</th>\n",
       "      <td>114</td>\n",
       "    </tr>\n",
       "    <tr>\n",
       "      <th>1950-12</th>\n",
       "      <td>140</td>\n",
       "    </tr>\n",
       "    <tr>\n",
       "      <th>1951-01</th>\n",
       "      <td>145</td>\n",
       "    </tr>\n",
       "    <tr>\n",
       "      <th>1951-02</th>\n",
       "      <td>150</td>\n",
       "    </tr>\n",
       "    <tr>\n",
       "      <th>1951-03</th>\n",
       "      <td>178</td>\n",
       "    </tr>\n",
       "    <tr>\n",
       "      <th>1951-04</th>\n",
       "      <td>163</td>\n",
       "    </tr>\n",
       "    <tr>\n",
       "      <th>1951-05</th>\n",
       "      <td>172</td>\n",
       "    </tr>\n",
       "    <tr>\n",
       "      <th>1951-06</th>\n",
       "      <td>178</td>\n",
       "    </tr>\n",
       "    <tr>\n",
       "      <th>...</th>\n",
       "      <td>...</td>\n",
       "    </tr>\n",
       "    <tr>\n",
       "      <th>1958-07</th>\n",
       "      <td>491</td>\n",
       "    </tr>\n",
       "    <tr>\n",
       "      <th>1958-08</th>\n",
       "      <td>505</td>\n",
       "    </tr>\n",
       "    <tr>\n",
       "      <th>1958-09</th>\n",
       "      <td>404</td>\n",
       "    </tr>\n",
       "    <tr>\n",
       "      <th>1958-10</th>\n",
       "      <td>359</td>\n",
       "    </tr>\n",
       "    <tr>\n",
       "      <th>1958-11</th>\n",
       "      <td>310</td>\n",
       "    </tr>\n",
       "    <tr>\n",
       "      <th>1958-12</th>\n",
       "      <td>337</td>\n",
       "    </tr>\n",
       "    <tr>\n",
       "      <th>1959-01</th>\n",
       "      <td>360</td>\n",
       "    </tr>\n",
       "    <tr>\n",
       "      <th>1959-02</th>\n",
       "      <td>342</td>\n",
       "    </tr>\n",
       "    <tr>\n",
       "      <th>1959-03</th>\n",
       "      <td>406</td>\n",
       "    </tr>\n",
       "    <tr>\n",
       "      <th>1959-04</th>\n",
       "      <td>396</td>\n",
       "    </tr>\n",
       "    <tr>\n",
       "      <th>1959-05</th>\n",
       "      <td>420</td>\n",
       "    </tr>\n",
       "    <tr>\n",
       "      <th>1959-06</th>\n",
       "      <td>472</td>\n",
       "    </tr>\n",
       "    <tr>\n",
       "      <th>1959-07</th>\n",
       "      <td>548</td>\n",
       "    </tr>\n",
       "    <tr>\n",
       "      <th>1959-08</th>\n",
       "      <td>559</td>\n",
       "    </tr>\n",
       "    <tr>\n",
       "      <th>1959-09</th>\n",
       "      <td>463</td>\n",
       "    </tr>\n",
       "    <tr>\n",
       "      <th>1959-10</th>\n",
       "      <td>407</td>\n",
       "    </tr>\n",
       "    <tr>\n",
       "      <th>1959-11</th>\n",
       "      <td>362</td>\n",
       "    </tr>\n",
       "    <tr>\n",
       "      <th>1959-12</th>\n",
       "      <td>405</td>\n",
       "    </tr>\n",
       "    <tr>\n",
       "      <th>1960-01</th>\n",
       "      <td>417</td>\n",
       "    </tr>\n",
       "    <tr>\n",
       "      <th>1960-02</th>\n",
       "      <td>391</td>\n",
       "    </tr>\n",
       "    <tr>\n",
       "      <th>1960-03</th>\n",
       "      <td>419</td>\n",
       "    </tr>\n",
       "    <tr>\n",
       "      <th>1960-04</th>\n",
       "      <td>461</td>\n",
       "    </tr>\n",
       "    <tr>\n",
       "      <th>1960-05</th>\n",
       "      <td>472</td>\n",
       "    </tr>\n",
       "    <tr>\n",
       "      <th>1960-06</th>\n",
       "      <td>535</td>\n",
       "    </tr>\n",
       "    <tr>\n",
       "      <th>1960-07</th>\n",
       "      <td>622</td>\n",
       "    </tr>\n",
       "    <tr>\n",
       "      <th>1960-08</th>\n",
       "      <td>606</td>\n",
       "    </tr>\n",
       "    <tr>\n",
       "      <th>1960-09</th>\n",
       "      <td>508</td>\n",
       "    </tr>\n",
       "    <tr>\n",
       "      <th>1960-10</th>\n",
       "      <td>461</td>\n",
       "    </tr>\n",
       "    <tr>\n",
       "      <th>1960-11</th>\n",
       "      <td>390</td>\n",
       "    </tr>\n",
       "    <tr>\n",
       "      <th>1960-12</th>\n",
       "      <td>432</td>\n",
       "    </tr>\n",
       "  </tbody>\n",
       "</table>\n",
       "<p>144 rows × 1 columns</p>\n",
       "</div>"
      ],
      "text/plain": [
       "         passengers\n",
       "time               \n",
       "1949-01         112\n",
       "1949-02         118\n",
       "1949-03         132\n",
       "1949-04         129\n",
       "1949-05         121\n",
       "1949-06         135\n",
       "1949-07         148\n",
       "1949-08         148\n",
       "1949-09         136\n",
       "1949-10         119\n",
       "1949-11         104\n",
       "1949-12         118\n",
       "1950-01         115\n",
       "1950-02         126\n",
       "1950-03         141\n",
       "1950-04         135\n",
       "1950-05         125\n",
       "1950-06         149\n",
       "1950-07         170\n",
       "1950-08         170\n",
       "1950-09         158\n",
       "1950-10         133\n",
       "1950-11         114\n",
       "1950-12         140\n",
       "1951-01         145\n",
       "1951-02         150\n",
       "1951-03         178\n",
       "1951-04         163\n",
       "1951-05         172\n",
       "1951-06         178\n",
       "...             ...\n",
       "1958-07         491\n",
       "1958-08         505\n",
       "1958-09         404\n",
       "1958-10         359\n",
       "1958-11         310\n",
       "1958-12         337\n",
       "1959-01         360\n",
       "1959-02         342\n",
       "1959-03         406\n",
       "1959-04         396\n",
       "1959-05         420\n",
       "1959-06         472\n",
       "1959-07         548\n",
       "1959-08         559\n",
       "1959-09         463\n",
       "1959-10         407\n",
       "1959-11         362\n",
       "1959-12         405\n",
       "1960-01         417\n",
       "1960-02         391\n",
       "1960-03         419\n",
       "1960-04         461\n",
       "1960-05         472\n",
       "1960-06         535\n",
       "1960-07         622\n",
       "1960-08         606\n",
       "1960-09         508\n",
       "1960-10         461\n",
       "1960-11         390\n",
       "1960-12         432\n",
       "\n",
       "[144 rows x 1 columns]"
      ]
     },
     "execution_count": 95,
     "metadata": {},
     "output_type": "execute_result"
    }
   ],
   "source": [
    "df.head()"
   ]
  },
  {
   "cell_type": "markdown",
   "metadata": {
    "slideshow": {
     "slide_type": "slide"
    }
   },
   "source": [
    "** 画图 **"
   ]
  },
  {
   "cell_type": "code",
   "execution_count": 96,
   "metadata": {
    "slideshow": {
     "slide_type": "fragment"
    }
   },
   "outputs": [
    {
     "data": {
      "image/png": "[encoded data removed]",
      "text/plain": [
       "<matplotlib.figure.Figure at 0x1d7841e04e0>"
      ]
     },
     "metadata": {},
     "output_type": "display_data"
    }
   ],
   "source": [
    "#画图\n",
    "df['passengers'].plot()\n",
    "plt.show()"
   ]
  },
  {
   "cell_type": "markdown",
   "metadata": {
    "slideshow": {
     "slide_type": "slide"
    }
   },
   "source": [
    "** 数据预处理 **"
   ]
  },
  {
   "cell_type": "code",
   "execution_count": 97,
   "metadata": {
    "collapsed": true,
    "slideshow": {
     "slide_type": "fragment"
    }
   },
   "outputs": [],
   "source": [
    "#只用客运流量一列\n",
    "df = pd.read_csv('DATA/data.csv', sep=',', usecols=[1])\n",
    "data_all = np.array(df).astype(float)"
   ]
  },
  {
   "cell_type": "code",
   "execution_count": 98,
   "metadata": {
    "collapsed": true,
    "slideshow": {
     "slide_type": "fragment"
    }
   },
   "outputs": [],
   "source": [
    "#数据归一化\n",
    "scaler = MinMaxScaler()\n",
    "data_all = scaler.fit_transform(data_all)"
   ]
  },
  {
   "cell_type": "markdown",
   "metadata": {
    "slideshow": {
     "slide_type": "slide"
    }
   },
   "source": [
    "**时间序列**"
   ]
  },
  {
   "cell_type": "code",
   "execution_count": 99,
   "metadata": {
    "slideshow": {
     "slide_type": "fragment"
    }
   },
   "outputs": [
    {
     "data": {
      "text/plain": [
       "array([[[ 0.01544402],\n",
       "        [ 0.02702703],\n",
       "        [ 0.05405405],\n",
       "        ..., \n",
       "        [ 0.06177606],\n",
       "        [ 0.02895753],\n",
       "        [ 0.        ]],\n",
       "\n",
       "       [[ 0.02702703],\n",
       "        [ 0.05405405],\n",
       "        [ 0.04826255],\n",
       "        ..., \n",
       "        [ 0.02895753],\n",
       "        [ 0.        ],\n",
       "        [ 0.02702703]],\n",
       "\n",
       "       [[ 0.05405405],\n",
       "        [ 0.04826255],\n",
       "        [ 0.03281853],\n",
       "        ..., \n",
       "        [ 0.        ],\n",
       "        [ 0.02702703],\n",
       "        [ 0.02123552]],\n",
       "\n",
       "       ..., \n",
       "       [[ 0.4980695 ],\n",
       "        [ 0.58108108],\n",
       "        [ 0.6042471 ],\n",
       "        ..., \n",
       "        [ 1.        ],\n",
       "        [ 0.96911197],\n",
       "        [ 0.77992278]],\n",
       "\n",
       "       [[ 0.58108108],\n",
       "        [ 0.6042471 ],\n",
       "        [ 0.55405405],\n",
       "        ..., \n",
       "        [ 0.96911197],\n",
       "        [ 0.77992278],\n",
       "        [ 0.68918919]],\n",
       "\n",
       "       [[ 0.6042471 ],\n",
       "        [ 0.55405405],\n",
       "        [ 0.60810811],\n",
       "        ..., \n",
       "        [ 0.77992278],\n",
       "        [ 0.68918919],\n",
       "        [ 0.55212355]]])"
      ]
     },
     "execution_count": 99,
     "metadata": {},
     "output_type": "execute_result"
    }
   ],
   "source": [
    "#时间序列\n",
    "sequence_length=10\n",
    "data = []\n",
    "for i in range(len(data_all) - sequence_length - 1):\n",
    "    data.append(data_all[i: i + sequence_length + 1])\n",
    "reshaped_data = np.array(data).astype('float64')\n",
    "reshaped_data"
   ]
  },
  {
   "cell_type": "markdown",
   "metadata": {
    "slideshow": {
     "slide_type": "slide"
    }
   },
   "source": [
    "** 训练集和测试集 **"
   ]
  },
  {
   "cell_type": "code",
   "execution_count": 100,
   "metadata": {
    "collapsed": true,
    "slideshow": {
     "slide_type": "fragment"
    }
   },
   "outputs": [],
   "source": [
    "split = 0.8\n",
    "np.random.shuffle(reshaped_data)\n",
    "x = reshaped_data[:, :-1]\n",
    "y = reshaped_data[:, -1]\n",
    "split_boundary = int(reshaped_data.shape[0] * split)\n",
    "train_x = x[: split_boundary]\n",
    "test_x = x[split_boundary:]\n",
    "\n",
    "train_y = y[: split_boundary]\n",
    "test_y = y[split_boundary:]"
   ]
  },
  {
   "cell_type": "code",
   "execution_count": 101,
   "metadata": {
    "collapsed": true,
    "slideshow": {
     "slide_type": "fragment"
    }
   },
   "outputs": [],
   "source": [
    "train_x = np.reshape(train_x, (train_x.shape[0], train_x.shape[1], 1))\n",
    "test_x = np.reshape(test_x, (test_x.shape[0], test_x.shape[1], 1))"
   ]
  },
  {
   "cell_type": "markdown",
   "metadata": {
    "slideshow": {
     "slide_type": "slide"
    }
   },
   "source": [
    "** 搭建LSTM模型 **"
   ]
  },
  {
   "cell_type": "code",
   "execution_count": 102,
   "metadata": {
    "slideshow": {
     "slide_type": "fragment"
    }
   },
   "outputs": [
    {
     "name": "stdout",
     "output_type": "stream",
     "text": [
      "[<keras.layers.recurrent.LSTM object at 0x000001D78422DC50>]\n"
     ]
    }
   ],
   "source": [
    "#搭建LSTM模型\n",
    "model = Sequential()\n",
    "model.add(LSTM(input_dim=1, output_dim=50, return_sequences=True))\n",
    "print(model.layers)\n",
    "model.add(LSTM(100, return_sequences=False))\n",
    "model.add(Dense(output_dim=1))\n",
    "model.add(Activation('linear'))\n",
    "\n",
    "model.compile(loss='mse', optimizer='rmsprop')"
   ]
  },
  {
   "cell_type": "markdown",
   "metadata": {
    "slideshow": {
     "slide_type": "slide"
    }
   },
   "source": [
    "** 模型训练 **"
   ]
  },
  {
   "cell_type": "code",
   "execution_count": 109,
   "metadata": {
    "slideshow": {
     "slide_type": "fragment"
    }
   },
   "outputs": [
    {
     "name": "stdout",
     "output_type": "stream",
     "text": [
      "Train on 95 samples, validate on 11 samples\n",
      "Epoch 1/100\n",
      "95/95 [==============================] - 0s 253us/step - loss: 0.0117 - val_loss: 0.0073\n",
      "Epoch 2/100\n",
      "95/95 [==============================] - 0s 248us/step - loss: 0.0121 - val_loss: 0.0093\n",
      "Epoch 3/100\n",
      "95/95 [==============================] - 0s 242us/step - loss: 0.0116 - val_loss: 0.0073\n",
      "Epoch 4/100\n",
      "95/95 [==============================] - 0s 253us/step - loss: 0.0120 - val_loss: 0.0092\n",
      "Epoch 5/100\n",
      "95/95 [==============================] - 0s 274us/step - loss: 0.0115 - val_loss: 0.0072\n",
      "Epoch 6/100\n",
      "95/95 [==============================] - 0s 258us/step - loss: 0.0119 - val_loss: 0.0091\n",
      "Epoch 7/100\n",
      "95/95 [==============================] - 0s 258us/step - loss: 0.0114 - val_loss: 0.0072\n",
      "Epoch 8/100\n",
      "95/95 [==============================] - 0s 248us/step - loss: 0.0118 - val_loss: 0.0090\n",
      "Epoch 9/100\n",
      "95/95 [==============================] - 0s 274us/step - loss: 0.0113 - val_loss: 0.0071\n",
      "Epoch 10/100\n",
      "95/95 [==============================] - 0s 263us/step - loss: 0.0117 - val_loss: 0.0089\n",
      "Epoch 11/100\n",
      "95/95 [==============================] - 0s 306us/step - loss: 0.0113 - val_loss: 0.0071\n",
      "Epoch 12/100\n",
      "95/95 [==============================] - 0s 253us/step - loss: 0.0116 - val_loss: 0.0088\n",
      "Epoch 13/100\n",
      "95/95 [==============================] - 0s 253us/step - loss: 0.0112 - val_loss: 0.0070\n",
      "Epoch 14/100\n",
      "95/95 [==============================] - 0s 290us/step - loss: 0.0115 - val_loss: 0.0087\n",
      "Epoch 15/100\n",
      "95/95 [==============================] - 0s 274us/step - loss: 0.0111 - val_loss: 0.0070\n",
      "Epoch 16/100\n",
      "95/95 [==============================] - 0s 263us/step - loss: 0.0114 - val_loss: 0.0086\n",
      "Epoch 17/100\n",
      "95/95 [==============================] - 0s 263us/step - loss: 0.0110 - val_loss: 0.0069\n",
      "Epoch 18/100\n",
      "95/95 [==============================] - 0s 258us/step - loss: 0.0113 - val_loss: 0.0085\n",
      "Epoch 19/100\n",
      "95/95 [==============================] - 0s 258us/step - loss: 0.0109 - val_loss: 0.0068\n",
      "Epoch 20/100\n",
      "95/95 [==============================] - 0s 306us/step - loss: 0.0112 - val_loss: 0.0084\n",
      "Epoch 21/100\n",
      "95/95 [==============================] - 0s 279us/step - loss: 0.0108 - val_loss: 0.0068\n",
      "Epoch 22/100\n",
      "95/95 [==============================] - 0s 279us/step - loss: 0.0111 - val_loss: 0.0083\n",
      "Epoch 23/100\n",
      "95/95 [==============================] - 0s 263us/step - loss: 0.0107 - val_loss: 0.0067\n",
      "Epoch 24/100\n",
      "95/95 [==============================] - 0s 279us/step - loss: 0.0110 - val_loss: 0.0082\n",
      "Epoch 25/100\n",
      "95/95 [==============================] - 0s 269us/step - loss: 0.0106 - val_loss: 0.0067\n",
      "Epoch 26/100\n",
      "95/95 [==============================] - 0s 263us/step - loss: 0.0109 - val_loss: 0.0081\n",
      "Epoch 27/100\n",
      "95/95 [==============================] - 0s 263us/step - loss: 0.0105 - val_loss: 0.0066\n",
      "Epoch 28/100\n",
      "95/95 [==============================] - 0s 258us/step - loss: 0.0108 - val_loss: 0.0079\n",
      "Epoch 29/100\n",
      "95/95 [==============================] - 0s 253us/step - loss: 0.0103 - val_loss: 0.0065\n",
      "Epoch 30/100\n",
      "95/95 [==============================] - 0s 269us/step - loss: 0.0107 - val_loss: 0.0078\n",
      "Epoch 31/100\n",
      "95/95 [==============================] - 0s 248us/step - loss: 0.0102 - val_loss: 0.0065\n",
      "Epoch 32/100\n",
      "95/95 [==============================] - 0s 253us/step - loss: 0.0105 - val_loss: 0.0077\n",
      "Epoch 33/100\n",
      "95/95 [==============================] - 0s 242us/step - loss: 0.0101 - val_loss: 0.0064\n",
      "Epoch 34/100\n",
      "95/95 [==============================] - 0s 258us/step - loss: 0.0104 - val_loss: 0.0076\n",
      "Epoch 35/100\n",
      "95/95 [==============================] - 0s 242us/step - loss: 0.0100 - val_loss: 0.0063\n",
      "Epoch 36/100\n",
      "95/95 [==============================] - 0s 253us/step - loss: 0.0103 - val_loss: 0.0074\n",
      "Epoch 37/100\n",
      "95/95 [==============================] - 0s 248us/step - loss: 0.0099 - val_loss: 0.0063\n",
      "Epoch 38/100\n",
      "95/95 [==============================] - 0s 237us/step - loss: 0.0102 - val_loss: 0.0073\n",
      "Epoch 39/100\n",
      "95/95 [==============================] - 0s 242us/step - loss: 0.0097 - val_loss: 0.0062\n",
      "Epoch 40/100\n",
      "95/95 [==============================] - 0s 242us/step - loss: 0.0100 - val_loss: 0.0072\n",
      "Epoch 41/100\n",
      "95/95 [==============================] - 0s 232us/step - loss: 0.0096 - val_loss: 0.0061\n",
      "Epoch 42/100\n",
      "95/95 [==============================] - 0s 263us/step - loss: 0.0099 - val_loss: 0.0070\n",
      "Epoch 43/100\n",
      "95/95 [==============================] - 0s 248us/step - loss: 0.0095 - val_loss: 0.0061\n",
      "Epoch 44/100\n",
      "95/95 [==============================] - 0s 242us/step - loss: 0.0097 - val_loss: 0.0069\n",
      "Epoch 45/100\n",
      "95/95 [==============================] - 0s 248us/step - loss: 0.0093 - val_loss: 0.0060\n",
      "Epoch 46/100\n",
      "95/95 [==============================] - 0s 248us/step - loss: 0.0096 - val_loss: 0.0067\n",
      "Epoch 47/100\n",
      "95/95 [==============================] - 0s 248us/step - loss: 0.0092 - val_loss: 0.0059\n",
      "Epoch 48/100\n",
      "95/95 [==============================] - 0s 253us/step - loss: 0.0095 - val_loss: 0.0066\n",
      "Epoch 49/100\n",
      "95/95 [==============================] - 0s 232us/step - loss: 0.0090 - val_loss: 0.0059\n",
      "Epoch 50/100\n",
      "95/95 [==============================] - 0s 258us/step - loss: 0.0093 - val_loss: 0.0064\n",
      "Epoch 51/100\n",
      "95/95 [==============================] - 0s 248us/step - loss: 0.0089 - val_loss: 0.0058\n",
      "Epoch 52/100\n",
      "95/95 [==============================] - 0s 248us/step - loss: 0.0092 - val_loss: 0.0063\n",
      "Epoch 53/100\n",
      "95/95 [==============================] - 0s 269us/step - loss: 0.0087 - val_loss: 0.0058\n",
      "Epoch 54/100\n",
      "95/95 [==============================] - 0s 258us/step - loss: 0.0090 - val_loss: 0.0061\n",
      "Epoch 55/100\n",
      "95/95 [==============================] - 0s 237us/step - loss: 0.0086 - val_loss: 0.0057\n",
      "Epoch 56/100\n",
      "95/95 [==============================] - 0s 248us/step - loss: 0.0088 - val_loss: 0.0060\n",
      "Epoch 57/100\n",
      "95/95 [==============================] - 0s 253us/step - loss: 0.0084 - val_loss: 0.0057\n",
      "Epoch 58/100\n",
      "95/95 [==============================] - 0s 232us/step - loss: 0.0087 - val_loss: 0.0058\n",
      "Epoch 59/100\n",
      "95/95 [==============================] - 0s 253us/step - loss: 0.0082 - val_loss: 0.0057\n",
      "Epoch 60/100\n",
      "95/95 [==============================] - 0s 263us/step - loss: 0.0085 - val_loss: 0.0057\n",
      "Epoch 61/100\n",
      "95/95 [==============================] - 0s 248us/step - loss: 0.0081 - val_loss: 0.0056\n",
      "Epoch 62/100\n",
      "95/95 [==============================] - 0s 237us/step - loss: 0.0083 - val_loss: 0.0055\n",
      "Epoch 63/100\n",
      "95/95 [==============================] - 0s 248us/step - loss: 0.0079 - val_loss: 0.0056\n",
      "Epoch 64/100\n",
      "95/95 [==============================] - 0s 279us/step - loss: 0.0082 - val_loss: 0.0053\n",
      "Epoch 65/100\n",
      "95/95 [==============================] - 0s 274us/step - loss: 0.0077 - val_loss: 0.0056\n",
      "Epoch 66/100\n",
      "95/95 [==============================] - 0s 295us/step - loss: 0.0080 - val_loss: 0.0052\n",
      "Epoch 67/100\n",
      "95/95 [==============================] - 0s 258us/step - loss: 0.0075 - val_loss: 0.0057\n",
      "Epoch 68/100\n",
      "95/95 [==============================] - 0s 242us/step - loss: 0.0078 - val_loss: 0.0051\n",
      "Epoch 69/100\n",
      "95/95 [==============================] - 0s 269us/step - loss: 0.0074 - val_loss: 0.0057\n",
      "Epoch 70/100\n",
      "95/95 [==============================] - 0s 253us/step - loss: 0.0076 - val_loss: 0.0049\n",
      "Epoch 71/100\n",
      "95/95 [==============================] - 0s 269us/step - loss: 0.0072 - val_loss: 0.0057\n",
      "Epoch 72/100\n",
      "95/95 [==============================] - 0s 279us/step - loss: 0.0075 - val_loss: 0.0048\n",
      "Epoch 73/100\n",
      "95/95 [==============================] - 0s 274us/step - loss: 0.0070 - val_loss: 0.0058\n",
      "Epoch 74/100\n",
      "95/95 [==============================] - 0s 258us/step - loss: 0.0073 - val_loss: 0.0047\n",
      "Epoch 75/100\n",
      "95/95 [==============================] - 0s 274us/step - loss: 0.0069 - val_loss: 0.0059\n",
      "Epoch 76/100\n",
      "95/95 [==============================] - 0s 248us/step - loss: 0.0071 - val_loss: 0.0046\n",
      "Epoch 77/100\n",
      "95/95 [==============================] - 0s 248us/step - loss: 0.0067 - val_loss: 0.0060\n",
      "Epoch 78/100\n",
      "95/95 [==============================] - 0s 284us/step - loss: 0.0070 - val_loss: 0.0046\n",
      "Epoch 79/100\n",
      "95/95 [==============================] - 0s 269us/step - loss: 0.0066 - val_loss: 0.0061\n",
      "Epoch 80/100\n",
      "95/95 [==============================] - 0s 248us/step - loss: 0.0069 - val_loss: 0.0045\n"
     ]
    },
    {
     "name": "stdout",
     "output_type": "stream",
     "text": [
      "Epoch 81/100\n",
      "95/95 [==============================] - 0s 279us/step - loss: 0.0064 - val_loss: 0.0062\n",
      "Epoch 82/100\n",
      "95/95 [==============================] - 0s 258us/step - loss: 0.0067 - val_loss: 0.0045\n",
      "Epoch 83/100\n",
      "95/95 [==============================] - 0s 279us/step - loss: 0.0063 - val_loss: 0.0063\n",
      "Epoch 84/100\n",
      "95/95 [==============================] - 0s 242us/step - loss: 0.0065 - val_loss: 0.0044\n",
      "Epoch 85/100\n",
      "95/95 [==============================] - 0s 264us/step - loss: 0.0062 - val_loss: 0.0064\n",
      "Epoch 86/100\n",
      "95/95 [==============================] - 0s 253us/step - loss: 0.0064 - val_loss: 0.0044\n",
      "Epoch 87/100\n",
      "95/95 [==============================] - 0s 258us/step - loss: 0.0061 - val_loss: 0.0065\n",
      "Epoch 88/100\n",
      "95/95 [==============================] - 0s 248us/step - loss: 0.0064 - val_loss: 0.0045\n",
      "Epoch 89/100\n",
      "95/95 [==============================] - 0s 274us/step - loss: 0.0060 - val_loss: 0.0066\n",
      "Epoch 90/100\n",
      "95/95 [==============================] - 0s 269us/step - loss: 0.0063 - val_loss: 0.0044\n",
      "Epoch 91/100\n",
      "95/95 [==============================] - 0s 253us/step - loss: 0.0059 - val_loss: 0.0067\n",
      "Epoch 92/100\n",
      "95/95 [==============================] - 0s 253us/step - loss: 0.0062 - val_loss: 0.0045\n",
      "Epoch 93/100\n",
      "95/95 [==============================] - 0s 258us/step - loss: 0.0058 - val_loss: 0.0067\n",
      "Epoch 94/100\n",
      "95/95 [==============================] - 0s 242us/step - loss: 0.0061 - val_loss: 0.0045\n",
      "Epoch 95/100\n",
      "95/95 [==============================] - 0s 290us/step - loss: 0.0057 - val_loss: 0.0068\n",
      "Epoch 96/100\n",
      "95/95 [==============================] - 0s 263us/step - loss: 0.0060 - val_loss: 0.0045\n",
      "Epoch 97/100\n",
      "95/95 [==============================] - 0s 242us/step - loss: 0.0057 - val_loss: 0.0069\n",
      "Epoch 98/100\n",
      "95/95 [==============================] - 0s 269us/step - loss: 0.0060 - val_loss: 0.0046\n",
      "Epoch 99/100\n",
      "95/95 [==============================] - 0s 258us/step - loss: 0.0056 - val_loss: 0.0069\n",
      "Epoch 100/100\n",
      "95/95 [==============================] - 0s 269us/step - loss: 0.0059 - val_loss: 0.0046\n"
     ]
    }
   ],
   "source": [
    "model.fit(train_x, train_y, batch_size=512, nb_epoch=100, validation_split=0.1)\n",
    "predict = model.predict(test_x)\n",
    "predict = np.reshape(predict, (predict.size, ))"
   ]
  },
  {
   "cell_type": "markdown",
   "metadata": {
    "slideshow": {
     "slide_type": "slide"
    }
   },
   "source": [
    "** 比较 **"
   ]
  },
  {
   "cell_type": "code",
   "execution_count": 110,
   "metadata": {
    "slideshow": {
     "slide_type": "fragment"
    }
   },
   "outputs": [
    {
     "data": {
      "image/png": "[encoded data removed]",
      "text/plain": [
       "<matplotlib.figure.Figure at 0x1d7841c3128>"
      ]
     },
     "metadata": {},
     "output_type": "display_data"
    }
   ],
   "source": [
    "predict_y = scaler.inverse_transform([[i] for i in predict])\n",
    "test = scaler.inverse_transform(test_y)\n",
    "\n",
    "plt.plot(predict_y, 'g:', label='prediction')\n",
    "plt.plot(test, 'r-', label='true')\n",
    "plt.legend(['predict', 'true'])\n",
    "plt.show()"
   ]
  },
  {
   "cell_type": "code",
   "execution_count": null,
   "metadata": {
    "collapsed": true
   },
   "outputs": [],
   "source": []
  }
 ],
 "metadata": {
  "celltoolbar": "Slideshow",
  "kernelspec": {
   "display_name": "Python 3",
   "language": "python",
   "name": "python3"
  },
  "language_info": {
   "codemirror_mode": {
    "name": "ipython",
    "version": 3
   },
   "file_extension": ".py",
   "mimetype": "text/x-python",
   "name": "python",
   "nbconvert_exporter": "python",
   "pygments_lexer": "ipython3",
   "version": "3.6.1"
  }
 },
 "nbformat": 4,
 "nbformat_minor": 2
}
