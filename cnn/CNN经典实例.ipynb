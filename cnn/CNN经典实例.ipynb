{
 "cells": [
  {
   "cell_type": "markdown",
   "metadata": {
    "slideshow": {
     "slide_type": "slide"
    }
   },
   "source": [
    "# MINST"
   ]
  },
  {
   "cell_type": "markdown",
   "metadata": {
    "slideshow": {
     "slide_type": "slide"
    }
   },
   "source": [
    "## 1 Data"
   ]
  },
  {
   "cell_type": "markdown",
   "metadata": {
    "slideshow": {
     "slide_type": "slide"
    }
   },
   "source": [
    "### 1.1 get data\n",
    "\n",
    "- use panadas to read data from .csv file"
   ]
  },
  {
   "cell_type": "code",
   "execution_count": 1,
   "metadata": {
    "collapsed": true,
    "slideshow": {
     "slide_type": "fragment"
    }
   },
   "outputs": [],
   "source": [
    "import pandas as pd"
   ]
  },
  {
   "cell_type": "code",
   "execution_count": 2,
   "metadata": {
    "collapsed": true,
    "slideshow": {
     "slide_type": "fragment"
    }
   },
   "outputs": [],
   "source": [
    "df = pd.read_csv('../DATA/train.csv')"
   ]
  },
  {
   "cell_type": "code",
   "execution_count": 3,
   "metadata": {
    "collapsed": true,
    "slideshow": {
     "slide_type": "fragment"
    }
   },
   "outputs": [],
   "source": [
    "labels = df.as_matrix(columns=['label'])"
   ]
  },
  {
   "cell_type": "code",
   "execution_count": 4,
   "metadata": {
    "collapsed": true,
    "slideshow": {
     "slide_type": "fragment"
    }
   },
   "outputs": [],
   "source": [
    "dataset = df.drop('label', axis=1).as_matrix()"
   ]
  },
  {
   "cell_type": "code",
   "execution_count": 5,
   "metadata": {
    "slideshow": {
     "slide_type": "fragment"
    }
   },
   "outputs": [
    {
     "name": "stdout",
     "output_type": "stream",
     "text": [
      "Got 4200 training examples(with 4200 labels).\n"
     ]
    }
   ],
   "source": [
    "print('Got', len(dataset), 'training examples(with', len(labels), 'labels).')"
   ]
  },
  {
   "cell_type": "code",
   "execution_count": 6,
   "metadata": {
    "slideshow": {
     "slide_type": "fragment"
    }
   },
   "outputs": [
    {
     "name": "stdout",
     "output_type": "stream",
     "text": [
      "Got 4200 training examples (with 4200 labels).\n"
     ]
    }
   ],
   "source": [
    "df = pd.read_csv('DATA/train.csv')\n",
    "labels = df.as_matrix(columns=['label'])#find lable to transform to matrix\n",
    "dataset = df.drop('label', axis=1).as_matrix()#transform dataset to matrxi without drop lable \n",
    "print('Got', len(dataset), 'training examples (with', len(labels), 'labels).')"
   ]
  },
  {
   "cell_type": "markdown",
   "metadata": {
    "slideshow": {
     "slide_type": "slide"
    }
   },
   "source": [
    "- split dataset into training and validation datasets"
   ]
  },
  {
   "cell_type": "code",
   "execution_count": 7,
   "metadata": {
    "collapsed": true,
    "slideshow": {
     "slide_type": "fragment"
    }
   },
   "outputs": [],
   "source": [
    "train_len = int(len(labels.ravel()) * 0.75)\n",
    "train_dataset = dataset[:train_len]\n",
    "train_labels = labels[:train_len]\n",
    "valid_dataset = dataset[train_len:]\n",
    "valid_labels = labels[train_len:]"
   ]
  },
  {
   "cell_type": "markdown",
   "metadata": {
    "slideshow": {
     "slide_type": "slide"
    }
   },
   "source": [
    "### 1.2 plot"
   ]
  },
  {
   "cell_type": "markdown",
   "metadata": {
    "slideshow": {
     "slide_type": "slide"
    }
   },
   "source": [
    "- we can use matplotlib to get better understanding of the data"
   ]
  },
  {
   "cell_type": "code",
   "execution_count": 8,
   "metadata": {
    "collapsed": true,
    "slideshow": {
     "slide_type": "fragment"
    }
   },
   "outputs": [],
   "source": [
    "import numpy as np\n",
    "import matplotlib.pyplot as plt"
   ]
  },
  {
   "cell_type": "code",
   "execution_count": 9,
   "metadata": {
    "collapsed": true,
    "slideshow": {
     "slide_type": "fragment"
    }
   },
   "outputs": [],
   "source": [
    "def display_sample(dataset, rows=4, colunms=5):\n",
    "    index = 1\n",
    "    for image in dataset[:rows*colunms]:\n",
    "        img = np.reshape(image, [28, 28])\n",
    "        plt.subplot(rows, colunms, index)\n",
    "        plt.axis('off')\n",
    "        plt.imshow(img)\n",
    "        index += 1\n",
    "    plt.show()"
   ]
  },
  {
   "cell_type": "code",
   "execution_count": 10,
   "metadata": {
    "slideshow": {
     "slide_type": "fragment"
    }
   },
   "outputs": [
    {
     "data": {
      "image/png": "[encoded data removed]",
      "text/plain": [
       "<matplotlib.figure.Figure at 0x1bfc8980b70>"
      ]
     },
     "metadata": {},
     "output_type": "display_data"
    }
   ],
   "source": [
    "display_sample(train_dataset)"
   ]
  },
  {
   "cell_type": "markdown",
   "metadata": {
    "slideshow": {
     "slide_type": "slide"
    }
   },
   "source": [
    "### 1.3 Data validation"
   ]
  },
  {
   "cell_type": "code",
   "execution_count": 11,
   "metadata": {
    "collapsed": true,
    "slideshow": {
     "slide_type": "fragment"
    }
   },
   "outputs": [],
   "source": [
    "def count_each_label(labels):\n",
    "    counters = np.zeros(10, int)\n",
    "    for i in range(len(labels)):\n",
    "        counters[labels[i]] += 1\n",
    "    for i in range(10):\n",
    "        print(i, ':', counters[i])\n",
    "    print('\\nmin:\\t%d' % np.min(counters))\n",
    "    print('mean:\\t%d' % np.mean(counters))\n",
    "    print('max:\\t%d' % np.max(counters))\n",
    "    print('stddev:\\t%.2f' % np.std(counters))"
   ]
  },
  {
   "cell_type": "code",
   "execution_count": 12,
   "metadata": {
    "slideshow": {
     "slide_type": "fragment"
    }
   },
   "outputs": [
    {
     "name": "stdout",
     "output_type": "stream",
     "text": [
      "0 : 319\n",
      "1 : 354\n",
      "2 : 343\n",
      "3 : 286\n",
      "4 : 310\n",
      "5 : 301\n",
      "6 : 320\n",
      "7 : 318\n",
      "8 : 295\n",
      "9 : 304\n",
      "\n",
      "min:\t286\n",
      "mean:\t315\n",
      "max:\t354\n",
      "stddev:\t19.84\n"
     ]
    }
   ],
   "source": [
    "count_each_label(train_labels)"
   ]
  },
  {
   "cell_type": "markdown",
   "metadata": {
    "slideshow": {
     "slide_type": "slide"
    }
   },
   "source": [
    "## 2 Logistic Regression"
   ]
  },
  {
   "cell_type": "markdown",
   "metadata": {
    "slideshow": {
     "slide_type": "slide"
    }
   },
   "source": [
    "- First, using off-the-shelf classifier,it can give you a how result"
   ]
  },
  {
   "cell_type": "code",
   "execution_count": 13,
   "metadata": {
    "collapsed": true,
    "slideshow": {
     "slide_type": "fragment"
    }
   },
   "outputs": [],
   "source": [
    "def off_the_shelf():\n",
    "    from sklearn.linear_model import LogisticRegression\n",
    "    \n",
    "    logreg = LogisticRegression(solver='sag', max_iter=256)\n",
    "    %time logreg.fit(train_dataset, train_labels.ravel())\n",
    "    \n",
    "    print('Acc on train dataset: {:.2%}'.format(logreg.score(train_dataset, train_labels)))\n",
    "    print('Acc on valid dataset: {:.2%}'.format(logreg.score(valid_dataset, valid_labels)))"
   ]
  },
  {
   "cell_type": "code",
   "execution_count": 14,
   "metadata": {
    "slideshow": {
     "slide_type": "fragment"
    }
   },
   "outputs": [
    {
     "name": "stderr",
     "output_type": "stream",
     "text": [
      "C:\\Users\\htfenght\\Anaconda3\\lib\\site-packages\\sklearn\\linear_model\\sag.py:286: ConvergenceWarning: The max_iter was reached which means the coef_ did not converge\n",
      "  \"the coef_ did not converge\", ConvergenceWarning)\n"
     ]
    },
    {
     "name": "stdout",
     "output_type": "stream",
     "text": [
      "Wall time: 1min 11s\n",
      "Acc on train dataset: 99.30%\n",
      "Acc on valid dataset: 86.57%\n"
     ]
    }
   ],
   "source": [
    "off_the_shelf()"
   ]
  },
  {
   "cell_type": "markdown",
   "metadata": {
    "slideshow": {
     "slide_type": "slide"
    }
   },
   "source": [
    "** one-Hot encoding **"
   ]
  },
  {
   "cell_type": "code",
   "execution_count": 15,
   "metadata": {
    "collapsed": true,
    "slideshow": {
     "slide_type": "fragment"
    }
   },
   "outputs": [],
   "source": [
    "def one_hot_encode(labels, classes=10):\n",
    "    one_hot = np.zeros([len(labels), 10])\n",
    "    for i in range(len(labels)):\n",
    "        one_hot[i, labels[i]] = 1.\n",
    "    return one_hot\n",
    "train_labels = one_hot_encode(train_labels)\n",
    "valid_labels = one_hot_encode(valid_labels)"
   ]
  },
  {
   "cell_type": "markdown",
   "metadata": {
    "collapsed": true,
    "slideshow": {
     "slide_type": "slide"
    }
   },
   "source": [
    "## 3 Multillayer Convolutional Network"
   ]
  },
  {
   "cell_type": "markdown",
   "metadata": {
    "slideshow": {
     "slide_type": "slide"
    }
   },
   "source": [
    "### 3.1 Model"
   ]
  },
  {
   "cell_type": "code",
   "execution_count": 16,
   "metadata": {
    "collapsed": true,
    "slideshow": {
     "slide_type": "fragment"
    }
   },
   "outputs": [],
   "source": [
    "import tensorflow as tf"
   ]
  },
  {
   "cell_type": "code",
   "execution_count": 17,
   "metadata": {
    "collapsed": true,
    "slideshow": {
     "slide_type": "fragment"
    }
   },
   "outputs": [],
   "source": [
    "class TFModel():\n",
    "    def __init__(self):\n",
    "        \n",
    "        def weight_variable(shape):\n",
    "            return tf.Variable(tf.truncated_normal(shape, stddev=0.1))\n",
    "        \n",
    "        def bias_variable(shape):\n",
    "            return tf.Variable(tf.constant(0.1, shape=shape))\n",
    "        \n",
    "        def conv2d(x, W):\n",
    "            return tf.nn.conv2d(x, W, strides=[1, 1, 1, 1], padding='SAME')\n",
    "        \n",
    "        def max_pool_2x2(x):\n",
    "            return tf.nn.max_pool(x, ksize=[1, 2, 2, 1],\n",
    "                                  strides=[1, 2, 2, 1], padding='SAME')\n",
    "        \n",
    "        # feed dictionary entries needed\n",
    "        self.x = tf.placeholder(tf.float32, shape=[None, 784])\n",
    "        self.t = tf.placeholder(tf.float32, shape=[None, 10])\n",
    "        self.keep_prob = tf.placeholder(tf.float32)\n",
    "        \n",
    "        # reshape inputs\n",
    "        x_img = tf.reshape(self.x, [-1, 28, 28, 1])\n",
    "        \n",
    "        # first convolutional layer\n",
    "        W_conv1 = weight_variable([5, 5, 1, 32])\n",
    "        b_conv1 = bias_variable([32])\n",
    "        \n",
    "        h_conv1 = tf.nn.relu(conv2d(x_img, W_conv1) + b_conv1)\n",
    "        h_pool1 = max_pool_2x2(h_conv1)\n",
    "        \n",
    "        # second convolutional layer\n",
    "        W_conv2 = weight_variable([5, 5, 32, 64])\n",
    "        b_conv2 = bias_variable([64])\n",
    "        \n",
    "        h_conv2 = tf.nn.relu(conv2d(h_pool1, W_conv2) + b_conv2)\n",
    "        h_pool2 = max_pool_2x2(h_conv2)\n",
    "        \n",
    "        # fully connected layer\n",
    "        W_fcl = weight_variable([7 * 7 * 64, 1024])\n",
    "        b_fcl = bias_variable([1024])\n",
    "        \n",
    "        h_pool2_flat = tf.reshape(h_pool2, [-1, 7*7*64])\n",
    "        h_fcl = tf.nn.relu(tf.matmul(h_pool2_flat, W_fcl) + b_fcl)\n",
    "        \n",
    "        # dropout layer\n",
    "        h_fcl_drop = tf.nn.dropout(h_fcl, self.keep_prob)\n",
    "        \n",
    "        # readout layer\n",
    "        W_fc2 = weight_variable([1024, 10])\n",
    "        b_fc2 = bias_variable([10])\n",
    "        \n",
    "        logits = tf.matmul(h_fcl_drop, W_fc2) + b_fc2\n",
    "        \n",
    "        # output\n",
    "        self.y = tf.nn.softmax(logits)\n",
    "        \n",
    "        cross_entropy = tf.nn.softmax_cross_entropy_with_logits(logits=logits, labels=self.t)\n",
    "        cost = tf.reduce_mean(cross_entropy)\n",
    "        self.train_step = tf.train.AdamOptimizer(1e-4).minimize(cost)\n",
    "        \n",
    "        correct_prediction = tf.equal(tf.argmax(self.y, 1), tf.argmax(self.t, 1))\n",
    "        self.accuracy = tf.reduce_mean(tf.cast(correct_prediction, tf.float32))"
   ]
  },
  {
   "cell_type": "markdown",
   "metadata": {
    "slideshow": {
     "slide_type": "slide"
    }
   },
   "source": [
    "### 3.2 Training"
   ]
  },
  {
   "cell_type": "code",
   "execution_count": 18,
   "metadata": {
    "collapsed": true
   },
   "outputs": [],
   "source": [
    "def shuffle(a, b):\n",
    "    p = np.random.permutation(len(a))\n",
    "    return a[p], b[p]"
   ]
  },
  {
   "cell_type": "code",
   "execution_count": 20,
   "metadata": {
    "collapsed": true,
    "slideshow": {
     "slide_type": "skip"
    }
   },
   "outputs": [],
   "source": [
    "#help(np.random.permutation)"
   ]
  },
  {
   "cell_type": "code",
   "execution_count": 21,
   "metadata": {
    "slideshow": {
     "slide_type": "fragment"
    }
   },
   "outputs": [
    {
     "name": "stdout",
     "output_type": "stream",
     "text": [
      "save directory created\n"
     ]
    }
   ],
   "source": [
    "import os\n",
    "\n",
    "save_dir = 'save'\n",
    "if not tf.gfile.Exists(save_dir):\n",
    "    tf.gfile.MakeDirs(save_dir)\n",
    "    print('save directory created')\n",
    "else:\n",
    "    print('save directory contains:', os.listdir(save_dir))\n",
    "\n",
    "save_path = os.path.join(save_dir, 'model.ckpt')"
   ]
  },
  {
   "cell_type": "markdown",
   "metadata": {
    "slideshow": {
     "slide_type": "slide"
    }
   },
   "source": [
    "**结果**"
   ]
  },
  {
   "cell_type": "code",
   "execution_count": 22,
   "metadata": {
    "slideshow": {
     "slide_type": "fragment"
    }
   },
   "outputs": [
    {
     "name": "stdout",
     "output_type": "stream",
     "text": [
      "save\\model.ckpt doesn`t exist\n",
      "step 0, training accuracy: 6%\n",
      "step 100, training accuracy: 92%\n",
      "step 200, training accuracy: 92%\n",
      "step 300, training accuracy: 98%\n",
      "step 400, training accuracy: 98%\n",
      "step 500, training accuracy: 98%\n",
      "step 600, training accuracy: 96%\n",
      "step 700, training accuracy: 100%\n",
      "step 800, training accuracy: 100%\n",
      "step 900, training accuracy: 98%\n",
      "step 1000, training accuracy: 100%\n",
      "step 1100, training accuracy: 100%\n",
      "step 1200, training accuracy: 100%\n",
      "step 1300, training accuracy: 100%\n",
      "step 1400, training accuracy: 100%\n",
      "step 1500, training accuracy: 100%\n",
      "step 1600, training accuracy: 98%\n",
      "step 1700, training accuracy: 100%\n",
      "step 1800, training accuracy: 100%\n",
      "step 1900, training accuracy: 100%\n",
      "step 2000, training accuracy: 100%\n",
      "step 2100, training accuracy: 100%\n",
      "step 2200, training accuracy: 100%\n",
      "step 2300, training accuracy: 100%\n",
      "step 2400, training accuracy: 100%\n",
      "step 2500, training accuracy: 100%\n",
      "step 2600, training accuracy: 100%\n",
      "step 2700, training accuracy: 100%\n",
      "step 2800, training accuracy: 100%\n",
      "step 2900, training accuracy: 100%\n",
      "test accuracy: 94.67%\n"
     ]
    }
   ],
   "source": [
    "batch_size = 50\n",
    "max_step = 3000\n",
    "keep_prob = 0.5\n",
    "\n",
    "with tf.Session() as sess:\n",
    "    m = TFModel()\n",
    "    sess.run(tf.global_variables_initializer())\n",
    "    saver = tf.train.Saver()\n",
    "\n",
    "    if tf.gfile.Exists(save_path):\n",
    "        saver.restore(sess, save_path)\n",
    "        print('model restored')\n",
    "    else:\n",
    "        print(save_path, 'doesn`t exist')\n",
    "\n",
    "    p_acc = 0\n",
    "    batch_start = 0\n",
    "    batch_end = batch_start + batch_size\n",
    "    for step in range(max_step):\n",
    "        if step % 100 == 0:\n",
    "            acc = sess.run(m.accuracy, {m.x : train_dataset[batch_start : batch_end],\n",
    "                                        m.t : train_labels[batch_start : batch_end],\n",
    "                                        m.keep_prob: 1.0})\n",
    "            print('step {}, training accuracy: {:.0%}'.format(step, acc))\n",
    "\n",
    "        \"\"\"c\n",
    "        if step % 1000 == 0:\n",
    "            acc = sess.run(m.accuracy, {m.x : valid_dataset,\n",
    "                                        m.t : valid_labels,\n",
    "                                        m.keep_prob: 1.0})\n",
    "            print('step {}, test accuracy: {:.2%}'.format(step, acc))\n",
    "            if acc > p_acc:\n",
    "                p_acc = acc\n",
    "                saver.save(sess, save_path)\n",
    "                print('model saved in', save_path)\n",
    "        \"\"\"\n",
    "\n",
    "        sess.run(m.train_step, {m.x : train_dataset[batch_start : batch_end],\n",
    "                                m.t : train_labels[batch_start : batch_end],\n",
    "                                m.keep_prob: keep_prob})\n",
    "\n",
    "        batch_start = batch_end\n",
    "        batch_end += batch_size\n",
    "        if batch_end > train_len:\n",
    "            batch_start = 0\n",
    "            batch_end = batch_start + batch_size\n",
    "            train_dataset, train_labels = shuffle(train_dataset, train_labels)\n",
    "    print('test accuracy: {:.2%}'.format(sess.run(m.accuracy, {m.x : valid_dataset,\n",
    "                                                               m.t : valid_labels,\n",
    "                                                               m.keep_prob: 1.0})))"
   ]
  }
 ],
 "metadata": {
  "celltoolbar": "Slideshow",
  "kernelspec": {
   "display_name": "Python 3",
   "language": "python",
   "name": "python3"
  },
  "language_info": {
   "codemirror_mode": {
    "name": "ipython",
    "version": 3
   },
   "file_extension": ".py",
   "mimetype": "text/x-python",
   "name": "python",
   "nbconvert_exporter": "python",
   "pygments_lexer": "ipython3",
   "version": "3.6.1"
  }
 },
 "nbformat": 4,
 "nbformat_minor": 2
}
