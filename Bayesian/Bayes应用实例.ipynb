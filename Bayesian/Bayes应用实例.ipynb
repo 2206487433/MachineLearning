{
 "cells": [
  {
   "cell_type": "markdown",
   "metadata": {
    "slideshow": {
     "slide_type": "slide"
    }
   },
   "source": [
    "# MINST for bayes"
   ]
  },
  {
   "cell_type": "markdown",
   "metadata": {
    "slideshow": {
     "slide_type": "slide"
    }
   },
   "source": [
    "### 数据集描述"
   ]
  },
  {
   "cell_type": "markdown",
   "metadata": {
    "slideshow": {
     "slide_type": "slide"
    }
   },
   "source": [
    "数据文件train.csv和test.csv包含从零到九的手绘数字的灰度图像。"
   ]
  },
  {
   "cell_type": "markdown",
   "metadata": {
    "slideshow": {
     "slide_type": "slide"
    }
   },
   "source": [
    "每个图像是高28个像素，宽28个像素，总共784像素，每个像素都有一个与之相关的像素值，用来表示像素的亮度，数字越高亮度越暗，这个值的范围是0-255"
   ]
  },
  {
   "cell_type": "markdown",
   "metadata": {
    "slideshow": {
     "slide_type": "slide"
    }
   },
   "source": [
    "训练集有785列，第一列是标签是用户绘制的真实数字，剩下的列是像素值，每一行是一个数字"
   ]
  },
  {
   "cell_type": "markdown",
   "metadata": {
    "slideshow": {
     "slide_type": "slide"
    }
   },
   "source": [
    "训练集中的每个像素列都有一个名称，如pixelx，其中x是0到783之间的整数。为了在图像上定位这个像素，假设我们已经将x分解为x = i * 28 + j，其中i和j是0到27之间的整数。然后，pixelx位于28 x 28矩阵的第i行和第j列（索引为零）。"
   ]
  },
  {
   "cell_type": "markdown",
   "metadata": {
    "slideshow": {
     "slide_type": "slide"
    }
   },
   "source": [
    "测试数据集（test.csv）与训练集相同，只是它不包含“标签”列。"
   ]
  },
  {
   "cell_type": "markdown",
   "metadata": {
    "slideshow": {
     "slide_type": "slide"
    }
   },
   "source": [
    "```\n",
    "000 001 002 003 ... 026 027   \n",
    "028 029 030 031 ... 054 055   \n",
    "056 057 058 059 ... 082 083   \n",
    " |   |   |   |  ...  |   |    \n",
    "728 729 730 731 ... 754 755   \n",
    "756 757 758 759 ... 782 783   \n",
    "```"
   ]
  },
  {
   "cell_type": "markdown",
   "metadata": {
    "slideshow": {
     "slide_type": "slide"
    }
   },
   "source": [
    "### 代码如下"
   ]
  },
  {
   "cell_type": "code",
   "execution_count": 2,
   "metadata": {
    "collapsed": true,
    "slideshow": {
     "slide_type": "fragment"
    }
   },
   "outputs": [],
   "source": [
    "from sklearn import neighbors\n",
    "import pandas as pd"
   ]
  },
  {
   "cell_type": "markdown",
   "metadata": {
    "slideshow": {
     "slide_type": "slide"
    }
   },
   "source": [
    "** 加载数据 **"
   ]
  },
  {
   "cell_type": "code",
   "execution_count": 4,
   "metadata": {
    "collapsed": true,
    "slideshow": {
     "slide_type": "fragment"
    }
   },
   "outputs": [],
   "source": [
    "df = pd.read_csv('../DATA/train.csv')\n",
    "labels = df.as_matrix(columns=['label'])#find lable to transform to matrix\n",
    "dataset = df.drop('label', axis=1).as_matrix()#transform dataset to matrxi without drop lable \n",
    "dataset = dataset / (28.0*28.0)"
   ]
  },
  {
   "cell_type": "markdown",
   "metadata": {
    "slideshow": {
     "slide_type": "slide"
    }
   },
   "source": [
    "** 把数据分为训练和验证集 **"
   ]
  },
  {
   "cell_type": "code",
   "execution_count": 5,
   "metadata": {
    "collapsed": true,
    "slideshow": {
     "slide_type": "fragment"
    }
   },
   "outputs": [],
   "source": [
    "train_len = int(len(labels.ravel()) * 0.75)\n",
    "train_dataset = dataset[:train_len]\n",
    "train_labels = labels[:train_len]\n",
    "valid_dataset = dataset[train_len:]\n",
    "valid_labels = labels[train_len:]"
   ]
  },
  {
   "cell_type": "code",
   "execution_count": 6,
   "metadata": {
    "slideshow": {
     "slide_type": "fragment"
    }
   },
   "outputs": [
    {
     "data": {
      "text/plain": [
       "1050"
      ]
     },
     "execution_count": 6,
     "metadata": {},
     "output_type": "execute_result"
    }
   ],
   "source": [
    " len(valid_labels.ravel())"
   ]
  },
  {
   "cell_type": "markdown",
   "metadata": {
    "slideshow": {
     "slide_type": "slide"
    }
   },
   "source": [
    "** 导入bayes **"
   ]
  },
  {
   "cell_type": "code",
   "execution_count": 7,
   "metadata": {
    "collapsed": true,
    "slideshow": {
     "slide_type": "fragment"
    }
   },
   "outputs": [],
   "source": [
    "from sklearn.naive_bayes import MultinomialNB, GaussianNB, BernoulliNB"
   ]
  },
  {
   "cell_type": "markdown",
   "metadata": {
    "slideshow": {
     "slide_type": "slide"
    }
   },
   "source": [
    "** 训练模型 **"
   ]
  },
  {
   "cell_type": "code",
   "execution_count": 98,
   "metadata": {
    "slideshow": {
     "slide_type": "fragment"
    }
   },
   "outputs": [
    {
     "data": {
      "text/plain": [
       "MultinomialNB(alpha=0.1, class_prior=None, fit_prior=True)"
      ]
     },
     "execution_count": 98,
     "metadata": {},
     "output_type": "execute_result"
    }
   ],
   "source": [
    "GNB = MultinomialNB(alpha=0.1)\n",
    "GNB.fit(train_dataset, train_labels.ravel())"
   ]
  },
  {
   "cell_type": "markdown",
   "metadata": {
    "slideshow": {
     "slide_type": "slide"
    }
   },
   "source": [
    "** 预测 **"
   ]
  },
  {
   "cell_type": "code",
   "execution_count": 99,
   "metadata": {
    "collapsed": true,
    "slideshow": {
     "slide_type": "fragment"
    }
   },
   "outputs": [],
   "source": [
    "predictions = [int(a) for a in GNB.predict(valid_dataset)]"
   ]
  },
  {
   "cell_type": "code",
   "execution_count": 100,
   "metadata": {
    "slideshow": {
     "slide_type": "fragment"
    }
   },
   "outputs": [
    {
     "name": "stdout",
     "output_type": "stream",
     "text": [
      "877 of 1050 values corrent. \n",
      "test accuracy: 0.835238\n"
     ]
    }
   ],
   "source": [
    "sum = 0\n",
    "for a,y in zip(predictions, valid_labels.ravel()):\n",
    "    if a == y:\n",
    "        sum += 1\n",
    "\n",
    "print(\"%s of %s values corrent. \\ntest accuracy: %f\" % (sum, len(valid_labels.ravel()), sum / len(valid_labels.ravel())))"
   ]
  },
  {
   "cell_type": "markdown",
   "metadata": {
    "slideshow": {
     "slide_type": "slide"
    }
   },
   "source": [
    "** 定义函数，进行多模型预测 **"
   ]
  },
  {
   "cell_type": "code",
   "execution_count": 118,
   "metadata": {
    "collapsed": true,
    "slideshow": {
     "slide_type": "fragment"
    }
   },
   "outputs": [],
   "source": [
    "classfiers = ((MultinomialNB, dict(alpha=0.1)),\n",
    "              (GaussianNB,{}),\n",
    "              (BernoulliNB,{}))\n",
    "\n",
    "def bayes(args):\n",
    "    for classfier, kwargs in args:\n",
    "        print(classfier.__name__)\n",
    "        sum = 0\n",
    "        model = classfier(**kwargs)\n",
    "        model.fit(train_dataset, train_labels.ravel())\n",
    "        predictions = [int(a) for a in model.predict(valid_dataset)]\n",
    "        for a,y in zip(predictions, valid_labels.ravel()):\n",
    "            if a == y:\n",
    "                sum += 1\n",
    "        print(\"%s \\n %s of %s values corrent. \\ntest accuracy: %f\" % (classfier, sum, len(valid_labels.ravel()), sum / len(valid_labels.ravel())))"
   ]
  },
  {
   "cell_type": "code",
   "execution_count": 119,
   "metadata": {
    "slideshow": {
     "slide_type": "fragment"
    }
   },
   "outputs": [
    {
     "name": "stdout",
     "output_type": "stream",
     "text": [
      "MultinomialNB\n",
      "<class 'sklearn.naive_bayes.MultinomialNB'> \n",
      " 877 of 1050 values corrent. \n",
      "test accuracy: 0.835238\n",
      "GaussianNB\n",
      "<class 'sklearn.naive_bayes.GaussianNB'> \n",
      " 619 of 1050 values corrent. \n",
      "test accuracy: 0.589524\n",
      "BernoulliNB\n",
      "<class 'sklearn.naive_bayes.BernoulliNB'> \n",
      " 874 of 1050 values corrent. \n",
      "test accuracy: 0.832381\n"
     ]
    }
   ],
   "source": [
    "bayes(classfiers)"
   ]
  },
  {
   "cell_type": "markdown",
   "metadata": {
    "collapsed": true,
    "slideshow": {
     "slide_type": "slide"
    }
   },
   "source": [
    "[文本分类](https://www.jiqizhixin.com/articles/2017-05-06-3)"
   ]
  },
  {
   "cell_type": "code",
   "execution_count": null,
   "metadata": {
    "collapsed": true
   },
   "outputs": [],
   "source": []
  }
 ],
 "metadata": {
  "celltoolbar": "Slideshow",
  "kernelspec": {
   "display_name": "Python 3",
   "language": "python",
   "name": "python3"
  },
  "language_info": {
   "codemirror_mode": {
    "name": "ipython",
    "version": 3
   },
   "file_extension": ".py",
   "mimetype": "text/x-python",
   "name": "python",
   "nbconvert_exporter": "python",
   "pygments_lexer": "ipython3",
   "version": "3.6.1"
  }
 },
 "nbformat": 4,
 "nbformat_minor": 2
}
