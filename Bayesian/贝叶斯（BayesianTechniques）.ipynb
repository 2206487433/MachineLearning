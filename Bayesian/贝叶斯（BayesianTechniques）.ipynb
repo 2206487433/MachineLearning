{
 "cells": [
  {
   "cell_type": "markdown",
   "metadata": {
    "slideshow": {
     "slide_type": "slide"
    }
   },
   "source": [
    "# 贝叶斯（Bayesian Techniques）\n",
    "\n",
    "- 朴素贝叶斯\n",
    "- 高斯贝叶斯分类器\n",
    "- 多项式贝叶斯分类器\n",
    "- 伯努利贝叶斯分类器"
   ]
  },
  {
   "cell_type": "markdown",
   "metadata": {
    "slideshow": {
     "slide_type": "slide"
    }
   },
   "source": [
    "贝叶斯定理：\n",
    "\n",
    "$P(B_i|A) = \\frac{P(A|B_i)P(B)}{\\sum_{j=1}^{n}P(A|B_i)P(B_j)}$"
   ]
  },
  {
   "cell_type": "markdown",
   "metadata": {
    "slideshow": {
     "slide_type": "slide"
    }
   },
   "source": [
    "### 朴素贝叶斯方法"
   ]
  },
  {
   "cell_type": "markdown",
   "metadata": {
    "slideshow": {
     "slide_type": "slide"
    }
   },
   "source": [
    "** 原理：**"
   ]
  },
  {
   "cell_type": "markdown",
   "metadata": {
    "slideshow": {
     "slide_type": "slide"
    }
   },
   "source": [
    "- 先验概率分布：$P(Y=c_k),k=1,2,...,K.$   \n",
    "- 条件概率分布：$P(X=\\vec{x}|Y=c_k)=P(X^{1}=x^{1},X^{2}=x^{2},...,X^{n}=x^{n}|Y=c_k)=\\Pi_{j=1}^{n} P(X^{i}=x^{i}|Y=c_k),k=1,2,...,K$"
   ]
  },
  {
   "cell_type": "markdown",
   "metadata": {
    "slideshow": {
     "slide_type": "slide"
    }
   },
   "source": [
    "根据贝叶斯定理：\n",
    "\n",
    "$P(Y=c_k|X=\\vec{x})=\\frac{P(X=\\vec{x}|Y=c_k)P(Y=c_k)}{\\sum_{j=1}^{K}P(X=\\vec{x}|Y=c_j)P(Y=c_j)}$"
   ]
  },
  {
   "cell_type": "markdown",
   "metadata": {
    "slideshow": {
     "slide_type": "slide"
    }
   },
   "source": [
    "考虑分类特征的条件独立性假设有：\n",
    "\n",
    "$P(Y=c_k|X=\\vec{x})=\\frac{P(Y=c_k)\\Pi_{j=1}^{n} P(X^{i}=x^{i}|Y=c_k)}{\\sum_{j=1}^{K}P(X=\\vec{x}|Y=c_j)P(Y=c_j)},k=1,2,...,K$"
   ]
  },
  {
   "cell_type": "markdown",
   "metadata": {
    "slideshow": {
     "slide_type": "slide"
    }
   },
   "source": [
    "于是朴素贝叶斯分类器表示为：\n",
    "\n",
    "$y = f(\\vec{x}) = arg \\max \\limits_{c_k} \\frac{P(Y=c_k)\\Pi_{j=1}^{n} P(X^{i}=x^{i}|Y=c_k)}{\\sum_{j=1}^{K}P(X=\\vec{x}|Y=c_j)P(Y=c_j)}$"
   ]
  },
  {
   "cell_type": "markdown",
   "metadata": {
    "slideshow": {
     "slide_type": "slide"
    }
   },
   "source": [
    "对于所有的$c_k$，上面的分母一样，所以：\n",
    "\n",
    "$y = f(\\vec{x}) = arg \\max \\limits_{c_k} P(Y=c_k)\\Pi_{j=1}^{n} P(X^{i}=x^{i}|Y=c_k)$"
   ]
  },
  {
   "cell_type": "markdown",
   "metadata": {
    "slideshow": {
     "slide_type": "slide"
    }
   },
   "source": [
    "** 朴素贝叶斯算法 **\n"
   ]
  },
  {
   "cell_type": "markdown",
   "metadata": {
    "slideshow": {
     "slide_type": "slide"
    }
   },
   "source": [
    "输入：\n",
    "\n",
    "- 训练集T=${(\\vec{x_1},y_1),(\\vec{x_2},y_2),...,(\\vec{x_N},y_N)}, \\vec{x_i} = (x_i^{(1)},x_i^{(2)},...,x_i^{(n)})^T, x_i^{(j)}$为第i个样本的第j个特征，其中$x_i^{(j)}\\in {a_{j1},a_{j2},...,a_{js_j}}, a_{jl}$为第j个特征可能取到的第l个值"
   ]
  },
  {
   "cell_type": "markdown",
   "metadata": {
    "slideshow": {
     "slide_type": "slide"
    }
   },
   "source": [
    "算法步骤"
   ]
  },
  {
   "cell_type": "markdown",
   "metadata": {
    "slideshow": {
     "slide_type": "slide"
    }
   },
   "source": [
    "- 计算先验概率的估计值以及条件概率的估计值"
   ]
  },
  {
   "cell_type": "markdown",
   "metadata": {
    "slideshow": {
     "slide_type": "slide"
    }
   },
   "source": [
    "$P(Y=c_k) = \\frac{\\sum_{i=1}^{N}I(y_i = c_k)}{N}, k=1,2,...,K$    \n",
    "$P(X^{(j)}=a_{jl}|Y=c_k) = \\frac{\\sum_{i=1}^{N}I(x_i^{(j)}=a_{jl},y_i = c_k)}{\\sum_{i=1}^{N}I(y_i = c_k)}$   \n",
    "$j = 1,2,...,n; l = 1,2,...,s_j; k = 1,2,...,K$"
   ]
  },
  {
   "cell_type": "markdown",
   "metadata": {
    "slideshow": {
     "slide_type": "slide"
    }
   },
   "source": [
    "- 对于给定的实例$\\vec{x} = (x^{(1)},x^{(2)},...,x^{(n)} )^T $,计算\n",
    "\n",
    "$P(Y=c_k)\\Pi_{j=1}^{n} P(X^{i}=x^{i}|Y=c_k),k=1,2,...,K$"
   ]
  },
  {
   "cell_type": "markdown",
   "metadata": {
    "slideshow": {
     "slide_type": "slide"
    }
   },
   "source": [
    "- 计算给并返回实例$\\vec{x}$的分类y：\n",
    "\n",
    "$y = f(\\vec{x}) = arg \\max \\limits_{c_k} P(Y=c_k)\\Pi_{j=1}^{n} P(X^{i}=x^{i}|Y=c_k)$"
   ]
  },
  {
   "cell_type": "markdown",
   "metadata": {
    "slideshow": {
     "slide_type": "slide"
    }
   },
   "source": [
    "** 贝叶斯估计 **"
   ]
  },
  {
   "cell_type": "markdown",
   "metadata": {
    "slideshow": {
     "slide_type": "slide"
    }
   },
   "source": [
    "条件概率$P(X^{(j)}=a_{jl}|Y=c_k)$的极大似然估计：\n",
    "\n",
    "$P(X^{(j)}=a_{jl}|Y=c_k) = \\frac{\\sum_{i=1}^{N}I(x_i^{(j)}=a_{jl},y_i = c_k)}{\\sum_{i=1}^{N}I(y_i = c_k)}$   \n",
    "$j = 1,2,...,n;$    \n",
    "$l = 1,2,...,s_j; $     \n",
    "$k = 1,2,...,K$"
   ]
  },
  {
   "cell_type": "markdown",
   "metadata": {
    "slideshow": {
     "slide_type": "slide"
    }
   },
   "source": [
    "用极大似然估计可能会出现分母为零的情况，此时可以采用贝叶斯估计：\n",
    "\n",
    "$P(X^{(j)}=a_{jl}|Y=c_k) = \\frac{\\sum_{i=1}^{N}I(x_i^{(j)}=a_{jl},y_i = c_k) + \\lambda}{\\sum_{i=1}^{N}I(y_i = c_k)+s_j\\lambda}$   \n",
    "$j = 1,2,...,n;$    \n",
    "$l = 1,2,...,s_j; $     \n",
    "$k = 1,2,...,K$"
   ]
  },
  {
   "cell_type": "markdown",
   "metadata": {
    "slideshow": {
     "slide_type": "slide"
    }
   },
   "source": [
    "它满足概率分布函数的条件：\n",
    "\n",
    "$P_{\\lambda}(X^{(j)}=a_{jl}|Y=c_k) > 0, l=1,2,...,s_j; k=1,2,...,K$   \n",
    "$\\sum_{l=1}^{s_j}P_{\\lambda}(X^{(j)}=a_{jl}|Y=c_k)=1$"
   ]
  },
  {
   "cell_type": "markdown",
   "metadata": {
    "slideshow": {
     "slide_type": "slide"
    }
   },
   "source": [
    "此时$P(Y=c_k)$的贝叶斯估计调整为：\n",
    "\n",
    "$P_{\\lambda}(Y=c_k) = \\frac{\\sum_{i=1}^{N}I(y_i = c_k)+\\lambda}{N+K\\lambda}$"
   ]
  },
  {
   "cell_type": "markdown",
   "metadata": {
    "slideshow": {
     "slide_type": "slide"
    }
   },
   "source": [
    "> 当$\\lambda=0$时，为极大似然估计   \n",
    "> 当$\\lambda=1$时，为拉普拉斯平滑"
   ]
  },
  {
   "cell_type": "markdown",
   "metadata": {
    "slideshow": {
     "slide_type": "slide"
    }
   },
   "source": [
    "### 高斯贝叶斯分类器"
   ]
  },
  {
   "cell_type": "markdown",
   "metadata": {
    "slideshow": {
     "slide_type": "slide"
    }
   },
   "source": [
    "它假设特征的条件概率分布满足高斯分布：\n",
    "\n",
    "$P(X^{(j)}|y=c_k) = \\frac{1}{\\sqrt{2\\pi\\sigma_k^2}}exp(-\\frac{(X^{(j)}-\\mu_k)^2}{2\\sigma_k^2})$"
   ]
  },
  {
   "cell_type": "markdown",
   "metadata": {
    "slideshow": {
     "slide_type": "slide"
    }
   },
   "source": [
    "### 多项式贝叶斯分类器\n"
   ]
  },
  {
   "cell_type": "markdown",
   "metadata": {
    "slideshow": {
     "slide_type": "slide"
    }
   },
   "source": [
    "它假设特征的条件概率分布满足多项式分布：\n",
    "\n",
    "$P(X^{(j)}|y=c_k) = \\frac{N_{kj}+\\alpha}{N_k + \\alpha n}$"
   ]
  },
  {
   "cell_type": "markdown",
   "metadata": {
    "slideshow": {
     "slide_type": "slide"
    }
   },
   "source": [
    "### 伯努利贝叶斯分类器"
   ]
  },
  {
   "cell_type": "markdown",
   "metadata": {
    "slideshow": {
     "slide_type": "slide"
    }
   },
   "source": [
    "它假设特征的条件概率分布满足伯努利分布：\n",
    "\n",
    "$P(X^{(j)}|y=c_k) = pX^{(j)} + (1-p)(1-X^{(j)})$"
   ]
  },
  {
   "cell_type": "markdown",
   "metadata": {
    "slideshow": {
     "slide_type": "slide"
    }
   },
   "source": [
    "** Bayes应用实例 **\n",
    "\n",
    "[Bayes应用实例](Bayes应用实例.ipynb)    \n",
    "[垃圾邮件处理](手写Bayes.ipynb)"
   ]
  },
  {
   "cell_type": "code",
   "execution_count": null,
   "metadata": {
    "collapsed": true
   },
   "outputs": [],
   "source": []
  }
 ],
 "metadata": {
  "celltoolbar": "Slideshow",
  "kernelspec": {
   "display_name": "Python 3",
   "language": "python",
   "name": "python3"
  },
  "language_info": {
   "codemirror_mode": {
    "name": "ipython",
    "version": 3
   },
   "file_extension": ".py",
   "mimetype": "text/x-python",
   "name": "python",
   "nbconvert_exporter": "python",
   "pygments_lexer": "ipython3",
   "version": "3.6.1"
  }
 },
 "nbformat": 4,
 "nbformat_minor": 2
}
