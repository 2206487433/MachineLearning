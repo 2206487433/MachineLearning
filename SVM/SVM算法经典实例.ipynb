{
 "cells": [
  {
   "cell_type": "markdown",
   "metadata": {
    "slideshow": {
     "slide_type": "slide"
    }
   },
   "source": [
    "# MINST for SVM"
   ]
  },
  {
   "cell_type": "markdown",
   "metadata": {
    "slideshow": {
     "slide_type": "slide"
    }
   },
   "source": [
    "** 导入模块 **"
   ]
  },
  {
   "cell_type": "code",
   "execution_count": 11,
   "metadata": {
    "collapsed": true,
    "slideshow": {
     "slide_type": "fragment"
    }
   },
   "outputs": [],
   "source": [
    "from sklearn import svm\n",
    "import pandas as pd\n",
    "import time"
   ]
  },
  {
   "cell_type": "markdown",
   "metadata": {
    "slideshow": {
     "slide_type": "slide"
    }
   },
   "source": [
    "** 导入数据 **"
   ]
  },
  {
   "cell_type": "code",
   "execution_count": 22,
   "metadata": {
    "collapsed": true,
    "slideshow": {
     "slide_type": "fragment"
    }
   },
   "outputs": [],
   "source": [
    "df = pd.read_csv('../DATA/train.csv')\n",
    "labels = df.as_matrix(columns=['label'])#find lable to transform to matrix\n",
    "dataset = df.drop('label', axis=1).as_matrix()#transform dataset to matrxi without drop lable \n",
    "dataset = dataset / (28.0*28.0)"
   ]
  },
  {
   "cell_type": "code",
   "execution_count": 23,
   "metadata": {
    "slideshow": {
     "slide_type": "fragment"
    }
   },
   "outputs": [
    {
     "data": {
      "text/plain": [
       "31500"
      ]
     },
     "execution_count": 23,
     "metadata": {},
     "output_type": "execute_result"
    }
   ],
   "source": [
    "int(len(labels.ravel()) * 0.75)"
   ]
  },
  {
   "cell_type": "markdown",
   "metadata": {
    "slideshow": {
     "slide_type": "slide"
    }
   },
   "source": [
    "** 数据分为训练和验证集 **"
   ]
  },
  {
   "cell_type": "code",
   "execution_count": 24,
   "metadata": {
    "collapsed": true,
    "slideshow": {
     "slide_type": "fragment"
    }
   },
   "outputs": [],
   "source": [
    "train_len = int(len(labels.ravel()) * 0.75)\n",
    "train_dataset = dataset[:train_len]\n",
    "train_labels = labels[:train_len]\n",
    "valid_dataset = dataset[train_len:]\n",
    "valid_labels = labels[train_len:]"
   ]
  },
  {
   "cell_type": "code",
   "execution_count": 25,
   "metadata": {
    "slideshow": {
     "slide_type": "fragment"
    }
   },
   "outputs": [
    {
     "data": {
      "text/plain": [
       "array([1, 0, 1, ..., 2, 9, 5])"
      ]
     },
     "execution_count": 25,
     "metadata": {},
     "output_type": "execute_result"
    }
   ],
   "source": [
    "train_labels.ravel()"
   ]
  },
  {
   "cell_type": "markdown",
   "metadata": {
    "slideshow": {
     "slide_type": "slide"
    }
   },
   "source": [
    "** 模型训练 **"
   ]
  },
  {
   "cell_type": "code",
   "execution_count": 26,
   "metadata": {
    "slideshow": {
     "slide_type": "fragment"
    }
   },
   "outputs": [
    {
     "name": "stdout",
     "output_type": "stream",
     "text": [
      "train-time: 115.624 s\n"
     ]
    }
   ],
   "source": [
    "t0 = time.time()\n",
    "clf = svm.SVC(C=10000.0,kernel='rbf')\n",
    "clf.fit(train_dataset, train_labels.ravel())\n",
    "print(\"train-time:\",round(time.time() - t0, 3), \"s\")"
   ]
  },
  {
   "cell_type": "markdown",
   "metadata": {
    "slideshow": {
     "slide_type": "slide"
    }
   },
   "source": [
    "** 模型预测 **"
   ]
  },
  {
   "cell_type": "code",
   "execution_count": 16,
   "metadata": {
    "collapsed": true,
    "slideshow": {
     "slide_type": "fragment"
    }
   },
   "outputs": [],
   "source": [
    "predictions = [int(a) for a in clf.predict(valid_dataset)]\n",
    "#predictions"
   ]
  },
  {
   "cell_type": "code",
   "execution_count": 17,
   "metadata": {},
   "outputs": [
    {
     "name": "stdout",
     "output_type": "stream",
     "text": [
      "950 of 1050 test values correct.\n",
      "test accuracy: 0.904762\n"
     ]
    }
   ],
   "source": [
    "sum = 0\n",
    "for a, y in zip(predictions, valid_labels.ravel()):\n",
    "    if a == y:\n",
    "        sum = sum + 1\n",
    "print (\"%s of %s test values correct.\\ntest accuracy: %f\" % (sum, len(valid_labels.ravel()), sum / len(valid_labels.ravel())))"
   ]
  },
  {
   "cell_type": "markdown",
   "metadata": {},
   "source": [
    "** 换参比较 **"
   ]
  },
  {
   "cell_type": "code",
   "execution_count": null,
   "metadata": {
    "collapsed": true
   },
   "outputs": [],
   "source": [
    "def svm_baseline(kernel):\n",
    "    sum = 0\n",
    "    t0 = time.time()\n",
    "    clf = svm.SVC(C=10000.0,kernel=kernel)\n",
    "    clf.fit(train_dataset, train_labels.ravel())\n",
    "    print(\"train-time:\",round(time.time() - t0, 3), \"s\")\n",
    "    predictions = [int(a) for a in clf.predict(valid_dataset)]\n",
    "    for a, y in zip(predictions, valid_labels.ravel()):\n",
    "        if a == y:\n",
    "            sum = sum + 1\n",
    "    print (\"%s of %s test values correct.\\ntest accuracy: %f\" % (sum, len(valid_labels.ravel()), sum / len(valid_labels.ravel())))"
   ]
  },
  {
   "cell_type": "code",
   "execution_count": 21,
   "metadata": {},
   "outputs": [
    {
     "name": "stdout",
     "output_type": "stream",
     "text": [
      "train-time: 2.6730403900146484 s\n",
      "951 of 1050 test values correct.\n",
      "test accuracy: 0.905714\n",
      "train-time: 2.0404305458068848 s\n",
      "950 of 1050 test values correct.\n",
      "test accuracy: 0.904762\n"
     ]
    }
   ],
   "source": [
    "kernels = ['rbf','linear']\n",
    "for kernel in kernels:\n",
    "    svm_baseline(kernel)"
   ]
  },
  {
   "cell_type": "markdown",
   "metadata": {
    "collapsed": true
   },
   "source": [
    "[SVM参数](https://zhuanlan.zhihu.com/p/31264935)"
   ]
  },
  {
   "cell_type": "code",
   "execution_count": null,
   "metadata": {
    "collapsed": true
   },
   "outputs": [],
   "source": []
  }
 ],
 "metadata": {
  "celltoolbar": "Slideshow",
  "kernelspec": {
   "display_name": "Python 3",
   "language": "python",
   "name": "python3"
  },
  "language_info": {
   "codemirror_mode": {
    "name": "ipython",
    "version": 3
   },
   "file_extension": ".py",
   "mimetype": "text/x-python",
   "name": "python",
   "nbconvert_exporter": "python",
   "pygments_lexer": "ipython3",
   "version": "3.6.1"
  }
 },
 "nbformat": 4,
 "nbformat_minor": 2
}
