{
 "cells": [
  {
   "cell_type": "markdown",
   "metadata": {
    "slideshow": {
     "slide_type": "slide"
    }
   },
   "source": [
    "# predicti_SOI"
   ]
  },
  {
   "cell_type": "markdown",
   "metadata": {
    "slideshow": {
     "slide_type": "slide"
    }
   },
   "source": [
    "** 数据集 ** \n",
    "\n",
    "\n",
    "- 两列数据的气象序列, 一列是时间，一列是南方涛动指数\n",
    "- 南方涛动（Southern Oscillation）是热带环流年际变化最突出、最重要的一个现象。主要指发生在东南太平洋与印度洋及印尼地区之间的反相气压振动。\n",
    "- 目的：通过以前的南方涛动指数（SOI），去预测后面"
   ]
  },
  {
   "cell_type": "markdown",
   "metadata": {
    "slideshow": {
     "slide_type": "slide"
    }
   },
   "source": [
    "** 导入模块 **"
   ]
  },
  {
   "cell_type": "code",
   "execution_count": 1,
   "metadata": {
    "slideshow": {
     "slide_type": "fragment"
    }
   },
   "outputs": [
    {
     "name": "stderr",
     "output_type": "stream",
     "text": [
      "Using TensorFlow backend.\n",
      "/home/htfeng/anaconda3/lib/python3.6/importlib/_bootstrap.py:205: RuntimeWarning: compiletime version 3.5 of module 'tensorflow.python.framework.fast_tensor_util' does not match runtime version 3.6\n",
      "  return f(*args, **kwds)\n"
     ]
    }
   ],
   "source": [
    "import pandas as pd\n",
    "import numpy as np\n",
    "import matplotlib.pyplot as plt\n",
    "from sklearn.preprocessing import MinMaxScaler\n",
    "from keras.models import Sequential\n",
    "from keras.layers import LSTM, Dense, Activation"
   ]
  },
  {
   "cell_type": "code",
   "execution_count": 2,
   "metadata": {
    "collapsed": true,
    "slideshow": {
     "slide_type": "fragment"
    }
   },
   "outputs": [],
   "source": [
    "import warnings\n",
    "warnings.filterwarnings('ignore')"
   ]
  },
  {
   "cell_type": "markdown",
   "metadata": {
    "slideshow": {
     "slide_type": "slide"
    }
   },
   "source": [
    "** 导入数据 **"
   ]
  },
  {
   "cell_type": "code",
   "execution_count": 3,
   "metadata": {
    "collapsed": true,
    "slideshow": {
     "slide_type": "fragment"
    }
   },
   "outputs": [],
   "source": [
    "#导入数据\n",
    "df = pd.read_csv('../DATA/soi.csv')\n",
    "df = df.set_index('time')"
   ]
  },
  {
   "cell_type": "code",
   "execution_count": 4,
   "metadata": {
    "slideshow": {
     "slide_type": "fragment"
    }
   },
   "outputs": [
    {
     "data": {
      "text/html": [
       "<div>\n",
       "<style>\n",
       "    .dataframe thead tr:only-child th {\n",
       "        text-align: right;\n",
       "    }\n",
       "\n",
       "    .dataframe thead th {\n",
       "        text-align: left;\n",
       "    }\n",
       "\n",
       "    .dataframe tbody tr th {\n",
       "        vertical-align: top;\n",
       "    }\n",
       "</style>\n",
       "<table border=\"1\" class=\"dataframe\">\n",
       "  <thead>\n",
       "    <tr style=\"text-align: right;\">\n",
       "      <th></th>\n",
       "      <th>SOI</th>\n",
       "    </tr>\n",
       "    <tr>\n",
       "      <th>time</th>\n",
       "      <th></th>\n",
       "    </tr>\n",
       "  </thead>\n",
       "  <tbody>\n",
       "    <tr>\n",
       "      <th>1951.0417</th>\n",
       "      <td>1.5</td>\n",
       "    </tr>\n",
       "    <tr>\n",
       "      <th>1951.1250</th>\n",
       "      <td>0.9</td>\n",
       "    </tr>\n",
       "    <tr>\n",
       "      <th>1951.2083</th>\n",
       "      <td>-0.1</td>\n",
       "    </tr>\n",
       "    <tr>\n",
       "      <th>1951.2917</th>\n",
       "      <td>-0.3</td>\n",
       "    </tr>\n",
       "    <tr>\n",
       "      <th>1951.3750</th>\n",
       "      <td>-0.7</td>\n",
       "    </tr>\n",
       "  </tbody>\n",
       "</table>\n",
       "</div>"
      ],
      "text/plain": [
       "           SOI\n",
       "time          \n",
       "1951.0417  1.5\n",
       "1951.1250  0.9\n",
       "1951.2083 -0.1\n",
       "1951.2917 -0.3\n",
       "1951.3750 -0.7"
      ]
     },
     "execution_count": 4,
     "metadata": {},
     "output_type": "execute_result"
    }
   ],
   "source": [
    "df.head()"
   ]
  },
  {
   "cell_type": "markdown",
   "metadata": {
    "slideshow": {
     "slide_type": "slide"
    }
   },
   "source": [
    "** 画图 **"
   ]
  },
  {
   "cell_type": "code",
   "execution_count": 5,
   "metadata": {
    "slideshow": {
     "slide_type": "fragment"
    }
   },
   "outputs": [
    {
     "data": {
      "image/png": "[encoded data removed]",
      "text/plain": [
       "<matplotlib.figure.Figure at 0x7f4f0b30af28>"
      ]
     },
     "metadata": {},
     "output_type": "display_data"
    }
   ],
   "source": [
    "#画图\n",
    "df['SOI'].plot()\n",
    "plt.show()"
   ]
  },
  {
   "cell_type": "markdown",
   "metadata": {
    "slideshow": {
     "slide_type": "slide"
    }
   },
   "source": [
    "** 数据预处理 **"
   ]
  },
  {
   "cell_type": "code",
   "execution_count": 9,
   "metadata": {
    "collapsed": true,
    "slideshow": {
     "slide_type": "fragment"
    }
   },
   "outputs": [],
   "source": [
    "#只用客运流量一列\n",
    "df = pd.read_csv('../DATA/soi.csv', sep=',', usecols=[1])\n",
    "data_all = np.array(df).astype(float)"
   ]
  },
  {
   "cell_type": "code",
   "execution_count": 10,
   "metadata": {
    "collapsed": true,
    "slideshow": {
     "slide_type": "fragment"
    }
   },
   "outputs": [],
   "source": [
    "#数据归一化\n",
    "scaler = MinMaxScaler()\n",
    "data_all = scaler.fit_transform(data_all)"
   ]
  },
  {
   "cell_type": "markdown",
   "metadata": {
    "slideshow": {
     "slide_type": "slide"
    }
   },
   "source": [
    "**时间序列 ** "
   ]
  },
  {
   "cell_type": "code",
   "execution_count": 11,
   "metadata": {
    "slideshow": {
     "slide_type": "fragment"
    }
   },
   "outputs": [
    {
     "data": {
      "text/plain": [
       "array([[[ 0.78461538],\n",
       "        [ 0.69230769],\n",
       "        [ 0.53846154],\n",
       "        ..., \n",
       "        [ 0.38461538],\n",
       "        [ 0.4       ],\n",
       "        [ 0.43076923]],\n",
       "\n",
       "       [[ 0.69230769],\n",
       "        [ 0.53846154],\n",
       "        [ 0.50769231],\n",
       "        ..., \n",
       "        [ 0.4       ],\n",
       "        [ 0.43076923],\n",
       "        [ 0.44615385]],\n",
       "\n",
       "       [[ 0.53846154],\n",
       "        [ 0.50769231],\n",
       "        [ 0.44615385],\n",
       "        ..., \n",
       "        [ 0.43076923],\n",
       "        [ 0.44615385],\n",
       "        [ 0.41538462]],\n",
       "\n",
       "       ..., \n",
       "       [[ 0.47692308],\n",
       "        [ 0.46153846],\n",
       "        [ 0.21538462],\n",
       "        ..., \n",
       "        [ 0.61538462],\n",
       "        [ 0.66153846],\n",
       "        [ 0.73846154]],\n",
       "\n",
       "       [[ 0.46153846],\n",
       "        [ 0.21538462],\n",
       "        [ 0.24615385],\n",
       "        ..., \n",
       "        [ 0.66153846],\n",
       "        [ 0.73846154],\n",
       "        [ 0.50769231]],\n",
       "\n",
       "       [[ 0.21538462],\n",
       "        [ 0.24615385],\n",
       "        [ 0.53846154],\n",
       "        ..., \n",
       "        [ 0.73846154],\n",
       "        [ 0.50769231],\n",
       "        [ 0.53846154]]])"
      ]
     },
     "execution_count": 11,
     "metadata": {},
     "output_type": "execute_result"
    }
   ],
   "source": [
    "#时间序列\n",
    "sequence_length=10\n",
    "data = []\n",
    "for i in range(len(data_all) - sequence_length - 1):\n",
    "    data.append(data_all[i: i + sequence_length + 1])\n",
    "reshaped_data = np.array(data).astype('float64')\n",
    "reshaped_data"
   ]
  },
  {
   "cell_type": "markdown",
   "metadata": {
    "slideshow": {
     "slide_type": "slide"
    }
   },
   "source": [
    "** 训练集和测试集 **"
   ]
  },
  {
   "cell_type": "code",
   "execution_count": 12,
   "metadata": {
    "collapsed": true,
    "slideshow": {
     "slide_type": "fragment"
    }
   },
   "outputs": [],
   "source": [
    "split = 0.8\n",
    "np.random.shuffle(reshaped_data)\n",
    "x = reshaped_data[:, :-1]\n",
    "y = reshaped_data[:, -1]\n",
    "split_boundary = int(reshaped_data.shape[0] * split)\n",
    "train_x = x[: split_boundary]\n",
    "test_x = x[split_boundary:]\n",
    "\n",
    "train_y = y[: split_boundary]\n",
    "test_y = y[split_boundary:]"
   ]
  },
  {
   "cell_type": "code",
   "execution_count": 13,
   "metadata": {
    "collapsed": true,
    "slideshow": {
     "slide_type": "fragment"
    }
   },
   "outputs": [],
   "source": [
    "train_x = np.reshape(train_x, (train_x.shape[0], train_x.shape[1], 1))\n",
    "test_x = np.reshape(test_x, (test_x.shape[0], test_x.shape[1], 1))"
   ]
  },
  {
   "cell_type": "markdown",
   "metadata": {
    "slideshow": {
     "slide_type": "slide"
    }
   },
   "source": [
    "** 搭建模型**"
   ]
  },
  {
   "cell_type": "code",
   "execution_count": 14,
   "metadata": {
    "slideshow": {
     "slide_type": "fragment"
    }
   },
   "outputs": [
    {
     "name": "stdout",
     "output_type": "stream",
     "text": [
      "[<keras.layers.recurrent.LSTM object at 0x7ff9208f85c0>]\n"
     ]
    }
   ],
   "source": [
    "#搭建LSTM模型\n",
    "model = Sequential()\n",
    "model.add(LSTM(input_dim=1, output_dim=50, return_sequences=True))\n",
    "print(model.layers)\n",
    "model.add(LSTM(100, return_sequences=False))\n",
    "model.add(Dense(output_dim=1))\n",
    "model.add(Activation('linear'))\n",
    "\n",
    "model.compile(loss='mse', optimizer='rmsprop')"
   ]
  },
  {
   "cell_type": "markdown",
   "metadata": {
    "slideshow": {
     "slide_type": "slide"
    }
   },
   "source": [
    "** 模型预测 **"
   ]
  },
  {
   "cell_type": "code",
   "execution_count": 15,
   "metadata": {
    "slideshow": {
     "slide_type": "fragment"
    }
   },
   "outputs": [
    {
     "name": "stdout",
     "output_type": "stream",
     "text": [
      "Train on 561 samples, validate on 63 samples\n",
      "Epoch 1/100\n",
      "561/561 [==============================] - 1s 1ms/step - loss: 0.3135 - val_loss: 0.0816\n",
      "Epoch 2/100\n",
      "561/561 [==============================] - 0s 289us/step - loss: 0.0622 - val_loss: 0.0210\n",
      "Epoch 3/100\n",
      "561/561 [==============================] - 0s 306us/step - loss: 0.0219 - val_loss: 0.0235\n",
      "Epoch 4/100\n",
      "561/561 [==============================] - 0s 298us/step - loss: 0.0238 - val_loss: 0.0188\n",
      "Epoch 5/100\n",
      "561/561 [==============================] - 0s 300us/step - loss: 0.0166 - val_loss: 0.0186\n",
      "Epoch 6/100\n",
      "561/561 [==============================] - 0s 318us/step - loss: 0.0169 - val_loss: 0.0187\n",
      "Epoch 7/100\n",
      "561/561 [==============================] - 0s 302us/step - loss: 0.0177 - val_loss: 0.0191\n",
      "Epoch 8/100\n",
      "561/561 [==============================] - 0s 313us/step - loss: 0.0183 - val_loss: 0.0184\n",
      "Epoch 9/100\n",
      "561/561 [==============================] - 0s 413us/step - loss: 0.0171 - val_loss: 0.0281\n",
      "Epoch 10/100\n",
      "561/561 [==============================] - 0s 378us/step - loss: 0.0299 - val_loss: 0.0182\n",
      "Epoch 11/100\n",
      "561/561 [==============================] - 0s 278us/step - loss: 0.0164 - val_loss: 0.0192\n",
      "Epoch 12/100\n",
      "561/561 [==============================] - 0s 303us/step - loss: 0.0162 - val_loss: 0.0193\n",
      "Epoch 13/100\n",
      "561/561 [==============================] - 0s 305us/step - loss: 0.0190 - val_loss: 0.0181\n",
      "Epoch 14/100\n",
      "561/561 [==============================] - 0s 301us/step - loss: 0.0169 - val_loss: 0.0195\n",
      "Epoch 15/100\n",
      "561/561 [==============================] - 0s 300us/step - loss: 0.0205 - val_loss: 0.0250\n",
      "Epoch 16/100\n",
      "561/561 [==============================] - 0s 346us/step - loss: 0.0265 - val_loss: 0.0178\n",
      "Epoch 17/100\n",
      "561/561 [==============================] - 0s 458us/step - loss: 0.0163 - val_loss: 0.0179\n",
      "Epoch 18/100\n",
      "561/561 [==============================] - 0s 291us/step - loss: 0.0172 - val_loss: 0.0191\n",
      "Epoch 19/100\n",
      "561/561 [==============================] - 0s 395us/step - loss: 0.0188 - val_loss: 0.0179\n",
      "Epoch 20/100\n",
      "561/561 [==============================] - 0s 443us/step - loss: 0.0158 - val_loss: 0.0177\n",
      "Epoch 21/100\n",
      "561/561 [==============================] - 0s 279us/step - loss: 0.0161 - val_loss: 0.0190\n",
      "Epoch 22/100\n",
      "561/561 [==============================] - 0s 318us/step - loss: 0.0199 - val_loss: 0.0217\n",
      "Epoch 23/100\n",
      "561/561 [==============================] - 0s 305us/step - loss: 0.0232 - val_loss: 0.0181\n",
      "Epoch 24/100\n",
      "561/561 [==============================] - 0s 319us/step - loss: 0.0179 - val_loss: 0.0175\n",
      "Epoch 25/100\n",
      "561/561 [==============================] - 0s 295us/step - loss: 0.0165 - val_loss: 0.0173\n",
      "Epoch 26/100\n",
      "561/561 [==============================] - 0s 328us/step - loss: 0.0160 - val_loss: 0.0173\n",
      "Epoch 27/100\n",
      "561/561 [==============================] - 0s 412us/step - loss: 0.0159 - val_loss: 0.0172\n",
      "Epoch 28/100\n",
      "561/561 [==============================] - 0s 377us/step - loss: 0.0164 - val_loss: 0.0204\n",
      "Epoch 29/100\n",
      "561/561 [==============================] - 0s 288us/step - loss: 0.0215 - val_loss: 0.0177\n",
      "Epoch 30/100\n",
      "561/561 [==============================] - 0s 313us/step - loss: 0.0173 - val_loss: 0.0171\n",
      "Epoch 31/100\n",
      "561/561 [==============================] - 0s 316us/step - loss: 0.0156 - val_loss: 0.0171\n",
      "Epoch 32/100\n",
      "561/561 [==============================] - 0s 305us/step - loss: 0.0155 - val_loss: 0.0172\n",
      "Epoch 33/100\n",
      "561/561 [==============================] - 0s 312us/step - loss: 0.0168 - val_loss: 0.0184\n",
      "Epoch 34/100\n",
      "561/561 [==============================] - 0s 308us/step - loss: 0.0191 - val_loss: 0.0185\n",
      "Epoch 35/100\n",
      "561/561 [==============================] - 0s 310us/step - loss: 0.0184 - val_loss: 0.0171\n",
      "Epoch 36/100\n",
      "561/561 [==============================] - 0s 318us/step - loss: 0.0151 - val_loss: 0.0171\n",
      "Epoch 37/100\n",
      "561/561 [==============================] - 0s 308us/step - loss: 0.0150 - val_loss: 0.0166\n",
      "Epoch 38/100\n",
      "561/561 [==============================] - 0s 464us/step - loss: 0.0155 - val_loss: 0.0169\n",
      "Epoch 39/100\n",
      "561/561 [==============================] - 0s 399us/step - loss: 0.0172 - val_loss: 0.0274\n",
      "Epoch 40/100\n",
      "561/561 [==============================] - 0s 416us/step - loss: 0.0306 - val_loss: 0.0165\n",
      "Epoch 41/100\n",
      "561/561 [==============================] - 0s 317us/step - loss: 0.0151 - val_loss: 0.0169\n",
      "Epoch 42/100\n",
      "561/561 [==============================] - 0s 315us/step - loss: 0.0148 - val_loss: 0.0164\n",
      "Epoch 43/100\n",
      "561/561 [==============================] - 0s 308us/step - loss: 0.0148 - val_loss: 0.0189\n",
      "Epoch 44/100\n",
      "561/561 [==============================] - 0s 304us/step - loss: 0.0156 - val_loss: 0.0230\n",
      "Epoch 45/100\n",
      "561/561 [==============================] - 0s 316us/step - loss: 0.0176 - val_loss: 0.0171\n",
      "Epoch 46/100\n",
      "561/561 [==============================] - 0s 308us/step - loss: 0.0146 - val_loss: 0.0162\n",
      "Epoch 47/100\n",
      "561/561 [==============================] - 0s 316us/step - loss: 0.0146 - val_loss: 0.0171\n",
      "Epoch 48/100\n",
      "561/561 [==============================] - 0s 309us/step - loss: 0.0145 - val_loss: 0.0175\n",
      "Epoch 49/100\n",
      "561/561 [==============================] - 0s 318us/step - loss: 0.0147 - val_loss: 0.0209\n",
      "Epoch 50/100\n",
      "561/561 [==============================] - 0s 312us/step - loss: 0.0175 - val_loss: 0.0409\n",
      "Epoch 51/100\n",
      "561/561 [==============================] - 0s 307us/step - loss: 0.0304 - val_loss: 0.0165\n",
      "Epoch 52/100\n",
      "561/561 [==============================] - 0s 317us/step - loss: 0.0143 - val_loss: 0.0213\n",
      "Epoch 53/100\n",
      "561/561 [==============================] - 0s 321us/step - loss: 0.0167 - val_loss: 0.0191\n",
      "Epoch 54/100\n",
      "561/561 [==============================] - 0s 329us/step - loss: 0.0153 - val_loss: 0.0180\n",
      "Epoch 55/100\n",
      "561/561 [==============================] - 0s 321us/step - loss: 0.0148 - val_loss: 0.0181\n",
      "Epoch 56/100\n",
      "561/561 [==============================] - 0s 318us/step - loss: 0.0150 - val_loss: 0.0245\n",
      "Epoch 57/100\n",
      "561/561 [==============================] - 0s 309us/step - loss: 0.0184 - val_loss: 0.0177\n",
      "Epoch 58/100\n",
      "561/561 [==============================] - 0s 332us/step - loss: 0.0145 - val_loss: 0.0163\n",
      "Epoch 59/100\n",
      "561/561 [==============================] - 0s 425us/step - loss: 0.0140 - val_loss: 0.0161\n",
      "Epoch 60/100\n",
      "561/561 [==============================] - 0s 410us/step - loss: 0.0139 - val_loss: 0.0214\n",
      "Epoch 61/100\n",
      "561/561 [==============================] - 0s 466us/step - loss: 0.0174 - val_loss: 0.0347\n",
      "Epoch 62/100\n",
      "561/561 [==============================] - 0s 482us/step - loss: 0.0264 - val_loss: 0.0218\n",
      "Epoch 63/100\n",
      "561/561 [==============================] - 0s 434us/step - loss: 0.0172 - val_loss: 0.0221\n",
      "Epoch 64/100\n",
      "561/561 [==============================] - 0s 366us/step - loss: 0.0168 - val_loss: 0.0152\n",
      "Epoch 65/100\n",
      "561/561 [==============================] - 0s 304us/step - loss: 0.0141 - val_loss: 0.0171\n",
      "Epoch 66/100\n",
      "561/561 [==============================] - 0s 320us/step - loss: 0.0184 - val_loss: 0.0159\n",
      "Epoch 67/100\n",
      "561/561 [==============================] - 0s 342us/step - loss: 0.0159 - val_loss: 0.0154\n",
      "Epoch 68/100\n",
      "561/561 [==============================] - 0s 485us/step - loss: 0.0136 - val_loss: 0.0176\n",
      "Epoch 69/100\n",
      "561/561 [==============================] - 0s 339us/step - loss: 0.0143 - val_loss: 0.0166\n",
      "Epoch 70/100\n",
      "561/561 [==============================] - 0s 488us/step - loss: 0.0140 - val_loss: 0.0207\n",
      "Epoch 71/100\n",
      "561/561 [==============================] - 0s 329us/step - loss: 0.0165 - val_loss: 0.0240\n",
      "Epoch 72/100\n",
      "561/561 [==============================] - 0s 328us/step - loss: 0.0188 - val_loss: 0.0226\n",
      "Epoch 73/100\n",
      "561/561 [==============================] - 0s 311us/step - loss: 0.0172 - val_loss: 0.0154\n",
      "Epoch 74/100\n",
      "561/561 [==============================] - 0s 347us/step - loss: 0.0133 - val_loss: 0.0158\n",
      "Epoch 75/100\n",
      "561/561 [==============================] - 0s 472us/step - loss: 0.0134 - val_loss: 0.0164\n",
      "Epoch 76/100\n",
      "561/561 [==============================] - 0s 298us/step - loss: 0.0139 - val_loss: 0.0250\n",
      "Epoch 77/100\n",
      "561/561 [==============================] - 0s 316us/step - loss: 0.0190 - val_loss: 0.0194\n",
      "Epoch 78/100\n",
      "561/561 [==============================] - 0s 339us/step - loss: 0.0153 - val_loss: 0.0163\n",
      "Epoch 79/100\n",
      "561/561 [==============================] - 0s 438us/step - loss: 0.0138 - val_loss: 0.0226\n",
      "Epoch 80/100\n",
      "561/561 [==============================] - 0s 331us/step - loss: 0.0172 - val_loss: 0.0158\n",
      "Epoch 81/100\n",
      "561/561 [==============================] - 0s 279us/step - loss: 0.0132 - val_loss: 0.0142\n",
      "Epoch 82/100\n",
      "561/561 [==============================] - 0s 380us/step - loss: 0.0143 - val_loss: 0.0174\n",
      "Epoch 83/100\n",
      "561/561 [==============================] - 0s 441us/step - loss: 0.0193 - val_loss: 0.0146\n",
      "Epoch 84/100\n",
      "561/561 [==============================] - 0s 268us/step - loss: 0.0153 - val_loss: 0.0164\n",
      "Epoch 85/100\n",
      "561/561 [==============================] - 0s 288us/step - loss: 0.0178 - val_loss: 0.0146\n",
      "Epoch 86/100\n",
      "561/561 [==============================] - 0s 293us/step - loss: 0.0147 - val_loss: 0.0145\n",
      "Epoch 87/100\n",
      "561/561 [==============================] - 0s 298us/step - loss: 0.0128 - val_loss: 0.0138\n",
      "Epoch 88/100\n",
      "561/561 [==============================] - 0s 295us/step - loss: 0.0132 - val_loss: 0.0137\n",
      "Epoch 89/100\n",
      "561/561 [==============================] - 0s 305us/step - loss: 0.0131 - val_loss: 0.0152\n",
      "Epoch 90/100\n",
      "561/561 [==============================] - 0s 292us/step - loss: 0.0159 - val_loss: 0.0137\n",
      "Epoch 91/100\n",
      "561/561 [==============================] - 0s 285us/step - loss: 0.0134 - val_loss: 0.0137\n",
      "Epoch 92/100\n",
      "561/561 [==============================] - 0s 465us/step - loss: 0.0135 - val_loss: 0.0146\n",
      "Epoch 93/100\n",
      "561/561 [==============================] - 0s 375us/step - loss: 0.0156 - val_loss: 0.0145\n",
      "Epoch 94/100\n",
      "561/561 [==============================] - 0s 281us/step - loss: 0.0148 - val_loss: 0.0137\n",
      "Epoch 95/100\n",
      "561/561 [==============================] - 0s 301us/step - loss: 0.0124 - val_loss: 0.0155\n",
      "Epoch 96/100\n",
      "561/561 [==============================] - 0s 422us/step - loss: 0.0130 - val_loss: 0.0172\n",
      "Epoch 97/100\n",
      "561/561 [==============================] - 0s 417us/step - loss: 0.0142 - val_loss: 0.0236\n",
      "Epoch 98/100\n",
      "561/561 [==============================] - 0s 295us/step - loss: 0.0182 - val_loss: 0.0172\n",
      "Epoch 99/100\n",
      "561/561 [==============================] - 0s 456us/step - loss: 0.0138 - val_loss: 0.0135\n",
      "Epoch 100/100\n",
      "561/561 [==============================] - 0s 325us/step - loss: 0.0123 - val_loss: 0.0131\n"
     ]
    }
   ],
   "source": [
    "model.fit(train_x, train_y, batch_size=512, nb_epoch=100, validation_split=0.1)\n",
    "predict = model.predict(test_x)\n",
    "predict = np.reshape(predict, (predict.size, ))"
   ]
  },
  {
   "cell_type": "markdown",
   "metadata": {
    "slideshow": {
     "slide_type": "slide"
    }
   },
   "source": [
    "** 画图比较**"
   ]
  },
  {
   "cell_type": "code",
   "execution_count": 18,
   "metadata": {
    "slideshow": {
     "slide_type": "fragment"
    }
   },
   "outputs": [
    {
     "data": {
      "image/png": "[encoded data removed]",
      "text/plain": [
       "<matplotlib.figure.Figure at 0x7ff91822c630>"
      ]
     },
     "metadata": {},
     "output_type": "display_data"
    }
   ],
   "source": [
    "predict_y = scaler.inverse_transform([[i] for i in predict])\n",
    "test = scaler.inverse_transform(test_y)\n",
    "\n",
    "plt.plot(predict_y[-50:], 'g:', label='prediction')\n",
    "plt.plot(test[-50:], 'r-', label='true')\n",
    "plt.legend(['predict', 'true'])\n",
    "plt.show()"
   ]
  },
  {
   "cell_type": "markdown",
   "metadata": {
    "slideshow": {
     "slide_type": "slide"
    }
   },
   "source": [
    "** 成绩 **"
   ]
  },
  {
   "cell_type": "code",
   "execution_count": 30,
   "metadata": {
    "collapsed": true,
    "slideshow": {
     "slide_type": "fragment"
    }
   },
   "outputs": [],
   "source": [
    "import math\n",
    "def model_score(model, X_train, y_train, X_test, y_test):\n",
    "    trainScore = model.evaluate(X_train, y_train, verbose=0)\n",
    "    print('Train Score: %.5f MSE (%.2f RMSE)' % (trainScore, math.sqrt(trainScore)))\n",
    "\n",
    "    testScore = model.evaluate(X_test, y_test, verbose=0)\n",
    "    print('Test Score: %.5f MSE (%.2f RMSE)' % (testScore, math.sqrt(testScore)))\n",
    "    return trainScore, testScore"
   ]
  },
  {
   "cell_type": "code",
   "execution_count": 31,
   "metadata": {
    "slideshow": {
     "slide_type": "fragment"
    }
   },
   "outputs": [
    {
     "name": "stdout",
     "output_type": "stream",
     "text": [
      "Train Score: 0.01282 MSE (0.11 RMSE)\n",
      "Test Score: 0.01582 MSE (0.13 RMSE)\n"
     ]
    },
    {
     "data": {
      "text/plain": [
       "(0.012823279947042465, 0.015821978538801337)"
      ]
     },
     "execution_count": 31,
     "metadata": {},
     "output_type": "execute_result"
    }
   ],
   "source": [
    "model_score(model, train_x, train_y, test_x, test_y)"
   ]
  },
  {
   "cell_type": "code",
   "execution_count": null,
   "metadata": {
    "collapsed": true
   },
   "outputs": [],
   "source": []
  }
 ],
 "metadata": {
  "celltoolbar": "Slideshow",
  "kernelspec": {
   "display_name": "Python 3",
   "language": "python",
   "name": "python3"
  },
  "language_info": {
   "codemirror_mode": {
    "name": "ipython",
    "version": 3
   },
   "file_extension": ".py",
   "mimetype": "text/x-python",
   "name": "python",
   "nbconvert_exporter": "python",
   "pygments_lexer": "ipython3",
   "version": "3.6.1"
  }
 },
 "nbformat": 4,
 "nbformat_minor": 2
}
