{
 "cells": [
  {
   "cell_type": "markdown",
   "metadata": {
    "slideshow": {
     "slide_type": "slide"
    }
   },
   "source": [
    "# predicti_SOI"
   ]
  },
  {
   "cell_type": "markdown",
   "metadata": {
    "slideshow": {
     "slide_type": "slide"
    }
   },
   "source": [
    "** 数据集 ** \n",
    "\n",
    "\n",
    "- 两列数据的气象序列, 一列是时间，一列是南方涛动指数\n",
    "- 南方涛动（Southern Oscillation）是热带环流年际变化最突出、最重要的一个现象。主要指发生在东南太平洋与印度洋及印尼地区之间的反相气压振动。\n",
    "- 目的：通过以前的南方涛动指数（SOI），去预测后面"
   ]
  },
  {
   "cell_type": "markdown",
   "metadata": {
    "slideshow": {
     "slide_type": "slide"
    }
   },
   "source": [
    "** 导入模块 **"
   ]
  },
  {
   "cell_type": "code",
   "execution_count": 1,
   "metadata": {
    "slideshow": {
     "slide_type": "fragment"
    }
   },
   "outputs": [
    {
     "name": "stderr",
     "output_type": "stream",
     "text": [
      "Using TensorFlow backend.\n",
      "/home/htfeng/anaconda3/lib/python3.6/importlib/_bootstrap.py:205: RuntimeWarning: compiletime version 3.5 of module 'tensorflow.python.framework.fast_tensor_util' does not match runtime version 3.6\n",
      "  return f(*args, **kwds)\n"
     ]
    }
   ],
   "source": [
    "import numpy as np\n",
    "import matplotlib.pyplot as plt\n",
    "import pandas as pd\n",
    "from pandas import datetime\n",
    "import math, time\n",
    "import itertools\n",
    "from sklearn import preprocessing\n",
    "import datetime\n",
    "from sklearn.metrics import mean_squared_error\n",
    "from math import sqrt\n",
    "from keras.models import Sequential\n",
    "from keras.layers.core import Dense, Dropout, Activation\n",
    "from keras.layers.recurrent import LSTM\n",
    "from keras.models import load_model\n",
    "import keras"
   ]
  },
  {
   "cell_type": "markdown",
   "metadata": {
    "slideshow": {
     "slide_type": "slide"
    }
   },
   "source": [
    "## 设置参数"
   ]
  },
  {
   "cell_type": "code",
   "execution_count": 2,
   "metadata": {
    "collapsed": true,
    "slideshow": {
     "slide_type": "fragment"
    }
   },
   "outputs": [],
   "source": [
    "seq_len = 22\n",
    "d = 0.2\n",
    "shape = [1, seq_len, 1] # feature, window, output\n",
    "neurons = [128, 128, 32, 1]\n",
    "epochs = 300"
   ]
  },
  {
   "cell_type": "markdown",
   "metadata": {
    "slideshow": {
     "slide_type": "slide"
    }
   },
   "source": [
    "## 导入数据"
   ]
  },
  {
   "cell_type": "code",
   "execution_count": 3,
   "metadata": {
    "collapsed": true,
    "slideshow": {
     "slide_type": "fragment"
    }
   },
   "outputs": [],
   "source": [
    "df = pd.read_csv('../DATA/soi.csv')\n",
    "df = df.set_index('time')"
   ]
  },
  {
   "cell_type": "code",
   "execution_count": 4,
   "metadata": {
    "slideshow": {
     "slide_type": "fragment"
    }
   },
   "outputs": [
    {
     "data": {
      "text/html": [
       "<div>\n",
       "<style>\n",
       "    .dataframe thead tr:only-child th {\n",
       "        text-align: right;\n",
       "    }\n",
       "\n",
       "    .dataframe thead th {\n",
       "        text-align: left;\n",
       "    }\n",
       "\n",
       "    .dataframe tbody tr th {\n",
       "        vertical-align: top;\n",
       "    }\n",
       "</style>\n",
       "<table border=\"1\" class=\"dataframe\">\n",
       "  <thead>\n",
       "    <tr style=\"text-align: right;\">\n",
       "      <th></th>\n",
       "      <th>SOI</th>\n",
       "    </tr>\n",
       "    <tr>\n",
       "      <th>time</th>\n",
       "      <th></th>\n",
       "    </tr>\n",
       "  </thead>\n",
       "  <tbody>\n",
       "    <tr>\n",
       "      <th>1951.0417</th>\n",
       "      <td>1.5</td>\n",
       "    </tr>\n",
       "    <tr>\n",
       "      <th>1951.1250</th>\n",
       "      <td>0.9</td>\n",
       "    </tr>\n",
       "    <tr>\n",
       "      <th>1951.2083</th>\n",
       "      <td>-0.1</td>\n",
       "    </tr>\n",
       "    <tr>\n",
       "      <th>1951.2917</th>\n",
       "      <td>-0.3</td>\n",
       "    </tr>\n",
       "    <tr>\n",
       "      <th>1951.3750</th>\n",
       "      <td>-0.7</td>\n",
       "    </tr>\n",
       "  </tbody>\n",
       "</table>\n",
       "</div>"
      ],
      "text/plain": [
       "           SOI\n",
       "time          \n",
       "1951.0417  1.5\n",
       "1951.1250  0.9\n",
       "1951.2083 -0.1\n",
       "1951.2917 -0.3\n",
       "1951.3750 -0.7"
      ]
     },
     "execution_count": 4,
     "metadata": {},
     "output_type": "execute_result"
    }
   ],
   "source": [
    "df.head()"
   ]
  },
  {
   "cell_type": "markdown",
   "metadata": {
    "slideshow": {
     "slide_type": "slide"
    }
   },
   "source": [
    "**  标准化 **"
   ]
  },
  {
   "cell_type": "code",
   "execution_count": 5,
   "metadata": {
    "collapsed": true,
    "slideshow": {
     "slide_type": "fragment"
    }
   },
   "outputs": [],
   "source": [
    "min_max_scaler = preprocessing.MinMaxScaler()\n",
    "df['SOI'] = min_max_scaler.fit_transform(df.SOI.values.reshape(-1,1))"
   ]
  },
  {
   "cell_type": "code",
   "execution_count": 6,
   "metadata": {
    "slideshow": {
     "slide_type": "fragment"
    }
   },
   "outputs": [
    {
     "data": {
      "text/html": [
       "<div>\n",
       "<style>\n",
       "    .dataframe thead tr:only-child th {\n",
       "        text-align: right;\n",
       "    }\n",
       "\n",
       "    .dataframe thead th {\n",
       "        text-align: left;\n",
       "    }\n",
       "\n",
       "    .dataframe tbody tr th {\n",
       "        vertical-align: top;\n",
       "    }\n",
       "</style>\n",
       "<table border=\"1\" class=\"dataframe\">\n",
       "  <thead>\n",
       "    <tr style=\"text-align: right;\">\n",
       "      <th></th>\n",
       "      <th>SOI</th>\n",
       "    </tr>\n",
       "    <tr>\n",
       "      <th>time</th>\n",
       "      <th></th>\n",
       "    </tr>\n",
       "  </thead>\n",
       "  <tbody>\n",
       "    <tr>\n",
       "      <th>1951.0417</th>\n",
       "      <td>0.784615</td>\n",
       "    </tr>\n",
       "    <tr>\n",
       "      <th>1951.1250</th>\n",
       "      <td>0.692308</td>\n",
       "    </tr>\n",
       "    <tr>\n",
       "      <th>1951.2083</th>\n",
       "      <td>0.538462</td>\n",
       "    </tr>\n",
       "    <tr>\n",
       "      <th>1951.2917</th>\n",
       "      <td>0.507692</td>\n",
       "    </tr>\n",
       "    <tr>\n",
       "      <th>1951.3750</th>\n",
       "      <td>0.446154</td>\n",
       "    </tr>\n",
       "  </tbody>\n",
       "</table>\n",
       "</div>"
      ],
      "text/plain": [
       "                SOI\n",
       "time               \n",
       "1951.0417  0.784615\n",
       "1951.1250  0.692308\n",
       "1951.2083  0.538462\n",
       "1951.2917  0.507692\n",
       "1951.3750  0.446154"
      ]
     },
     "execution_count": 6,
     "metadata": {},
     "output_type": "execute_result"
    }
   ],
   "source": [
    "df.head()"
   ]
  },
  {
   "cell_type": "markdown",
   "metadata": {
    "slideshow": {
     "slide_type": "slide"
    }
   },
   "source": [
    "**画图**"
   ]
  },
  {
   "cell_type": "code",
   "execution_count": 7,
   "metadata": {
    "slideshow": {
     "slide_type": "fragment"
    }
   },
   "outputs": [
    {
     "data": {
      "image/png": "[encoded data removed]",
      "text/plain": [
       "<matplotlib.figure.Figure at 0x7f59301136d8>"
      ]
     },
     "metadata": {},
     "output_type": "display_data"
    }
   ],
   "source": [
    "plt.plot(df.SOI, color='blue', label='Southern Oscillation')\n",
    "plt.legend(loc='best')\n",
    "plt.show()"
   ]
  },
  {
   "cell_type": "markdown",
   "metadata": {
    "slideshow": {
     "slide_type": "slide"
    }
   },
   "source": [
    "** 数据预处理 ** "
   ]
  },
  {
   "cell_type": "code",
   "execution_count": 28,
   "metadata": {
    "collapsed": true,
    "slideshow": {
     "slide_type": "fragment"
    }
   },
   "outputs": [],
   "source": [
    "amount_of_features = len(df.columns)\n",
    "data = df.as_matrix() \n",
    "sequence_length = seq_len + 1 # index starting from 0\n",
    "result = []"
   ]
  },
  {
   "cell_type": "code",
   "execution_count": 29,
   "metadata": {
    "collapsed": true,
    "slideshow": {
     "slide_type": "fragment"
    }
   },
   "outputs": [],
   "source": [
    "for index in range(len(data) - sequence_length): # maxmimum date = lastest date - sequence length\n",
    "        result.append(data[index: index + sequence_length]) # index : index + 22days"
   ]
  },
  {
   "cell_type": "code",
   "execution_count": 30,
   "metadata": {
    "collapsed": true,
    "slideshow": {
     "slide_type": "fragment"
    }
   },
   "outputs": [],
   "source": [
    "result = np.array(result)"
   ]
  },
  {
   "cell_type": "markdown",
   "metadata": {
    "slideshow": {
     "slide_type": "slide"
    }
   },
   "source": [
    "** 测试集和验证集 **"
   ]
  },
  {
   "cell_type": "code",
   "execution_count": 32,
   "metadata": {
    "collapsed": true,
    "slideshow": {
     "slide_type": "fragment"
    }
   },
   "outputs": [],
   "source": [
    "row = round(0.9 * result.shape[0]) # 90% split\n",
    "    \n",
    "train = result[:int(row), :] # 90% date\n",
    "X_train = train[:, :-1] # all data until day m\n",
    "y_train = train[:, -1][:,-1] # day m + 1 adjusted close price\n",
    "\n",
    "X_test = result[int(row):, :-1]\n",
    "y_test = result[int(row):, -1][:,-1] \n",
    "\n",
    "X_train = np.reshape(X_train, (X_train.shape[0], X_train.shape[1], amount_of_features))\n",
    "X_test = np.reshape(X_test, (X_test.shape[0], X_test.shape[1], amount_of_features))  \n"
   ]
  },
  {
   "cell_type": "code",
   "execution_count": 33,
   "metadata": {
    "slideshow": {
     "slide_type": "fragment"
    }
   },
   "outputs": [
    {
     "data": {
      "text/plain": [
       "(692, 22, 1)"
      ]
     },
     "execution_count": 33,
     "metadata": {},
     "output_type": "execute_result"
    }
   ],
   "source": [
    "X_train.shape[0], X_train.shape[1], X_train.shape[2]"
   ]
  },
  {
   "cell_type": "code",
   "execution_count": 36,
   "metadata": {
    "slideshow": {
     "slide_type": "fragment"
    }
   },
   "outputs": [
    {
     "data": {
      "text/plain": [
       "692"
      ]
     },
     "execution_count": 36,
     "metadata": {},
     "output_type": "execute_result"
    }
   ],
   "source": [
    "y_train.shape[0]"
   ]
  },
  {
   "cell_type": "markdown",
   "metadata": {
    "slideshow": {
     "slide_type": "slide"
    }
   },
   "source": [
    "## 构建神经网络"
   ]
  },
  {
   "cell_type": "code",
   "execution_count": 41,
   "metadata": {
    "collapsed": true,
    "slideshow": {
     "slide_type": "fragment"
    }
   },
   "outputs": [],
   "source": [
    "def build_model2(layers, neurons, d):\n",
    "    model = Sequential()\n",
    "    \n",
    "    model.add(LSTM(neurons[0], input_shape=(layers[1], layers[0]), return_sequences=True))\n",
    "    model.add(Dropout(d))\n",
    "        \n",
    "    model.add(LSTM(neurons[1], input_shape=(layers[1], layers[0]), return_sequences=False))\n",
    "    model.add(Dropout(d))\n",
    "        \n",
    "    model.add(Dense(neurons[2],kernel_initializer=\"uniform\",activation='relu'))        \n",
    "    model.add(Dense(neurons[3],kernel_initializer=\"uniform\",activation='linear'))\n",
    "    # model = load_model('my_LSTM_stock_model1000.h5')\n",
    "    # adam = keras.optimizers.Adam(decay=0.2)\n",
    "    model.compile(loss='mse',optimizer='adam', metrics=['accuracy'])\n",
    "    model.summary()\n",
    "    return model"
   ]
  },
  {
   "cell_type": "code",
   "execution_count": 42,
   "metadata": {
    "slideshow": {
     "slide_type": "fragment"
    }
   },
   "outputs": [
    {
     "name": "stdout",
     "output_type": "stream",
     "text": [
      "_________________________________________________________________\n",
      "Layer (type)                 Output Shape              Param #   \n",
      "=================================================================\n",
      "lstm_3 (LSTM)                (None, 22, 128)           66560     \n",
      "_________________________________________________________________\n",
      "dropout_3 (Dropout)          (None, 22, 128)           0         \n",
      "_________________________________________________________________\n",
      "lstm_4 (LSTM)                (None, 128)               131584    \n",
      "_________________________________________________________________\n",
      "dropout_4 (Dropout)          (None, 128)               0         \n",
      "_________________________________________________________________\n",
      "dense_3 (Dense)              (None, 32)                4128      \n",
      "_________________________________________________________________\n",
      "dense_4 (Dense)              (None, 1)                 33        \n",
      "=================================================================\n",
      "Total params: 202,305\n",
      "Trainable params: 202,305\n",
      "Non-trainable params: 0\n",
      "_________________________________________________________________\n"
     ]
    }
   ],
   "source": [
    "model = build_model2(shape, neurons, d)\n",
    "# layers = [4, 22, 1]"
   ]
  },
  {
   "cell_type": "markdown",
   "metadata": {
    "slideshow": {
     "slide_type": "slide"
    }
   },
   "source": [
    "** 模型训练 **"
   ]
  },
  {
   "cell_type": "code",
   "execution_count": 43,
   "metadata": {
    "scrolled": true,
    "slideshow": {
     "slide_type": "fragment"
    }
   },
   "outputs": [
    {
     "name": "stdout",
     "output_type": "stream",
     "text": [
      "Train on 622 samples, validate on 70 samples\n",
      "Epoch 1/300\n",
      "622/622 [==============================] - 5s 7ms/step - loss: 0.3424 - acc: 0.0016 - val_loss: 0.3457 - val_acc: 0.0000e+00\n",
      "Epoch 2/300\n",
      "622/622 [==============================] - 1s 1ms/step - loss: 0.3264 - acc: 0.0016 - val_loss: 0.3164 - val_acc: 0.0000e+00\n",
      "Epoch 3/300\n",
      "622/622 [==============================] - 1s 1ms/step - loss: 0.2957 - acc: 0.0016 - val_loss: 0.2479 - val_acc: 0.0000e+00\n",
      "Epoch 4/300\n",
      "622/622 [==============================] - 1s 1ms/step - loss: 0.2247 - acc: 0.0016 - val_loss: 0.1156 - val_acc: 0.0000e+00\n",
      "Epoch 5/300\n",
      "622/622 [==============================] - 1s 1ms/step - loss: 0.0980 - acc: 0.0016 - val_loss: 0.0249 - val_acc: 0.0000e+00\n",
      "Epoch 6/300\n",
      "622/622 [==============================] - 1s 1ms/step - loss: 0.0253 - acc: 0.0000e+00 - val_loss: 0.0374 - val_acc: 0.0000e+00\n",
      "Epoch 7/300\n",
      "622/622 [==============================] - 1s 1ms/step - loss: 0.0425 - acc: 0.0000e+00 - val_loss: 0.0395 - val_acc: 0.0000e+00\n",
      "Epoch 8/300\n",
      "622/622 [==============================] - 1s 1ms/step - loss: 0.0420 - acc: 0.0000e+00 - val_loss: 0.0247 - val_acc: 0.0000e+00\n",
      "Epoch 9/300\n",
      "622/622 [==============================] - 1s 1ms/step - loss: 0.0263 - acc: 0.0000e+00 - val_loss: 0.0219 - val_acc: 0.0000e+00\n",
      "Epoch 10/300\n",
      "622/622 [==============================] - 1s 1ms/step - loss: 0.0226 - acc: 0.0000e+00 - val_loss: 0.0281 - val_acc: 0.0000e+00\n",
      "Epoch 11/300\n",
      "622/622 [==============================] - 1s 1ms/step - loss: 0.0264 - acc: 0.0000e+00 - val_loss: 0.0321 - val_acc: 0.0000e+00\n",
      "Epoch 12/300\n",
      "622/622 [==============================] - 1s 1ms/step - loss: 0.0294 - acc: 0.0016 - val_loss: 0.0306 - val_acc: 0.0000e+00\n",
      "Epoch 13/300\n",
      "622/622 [==============================] - 1s 1ms/step - loss: 0.0281 - acc: 0.0016 - val_loss: 0.0261 - val_acc: 0.0000e+00\n",
      "Epoch 14/300\n",
      "622/622 [==============================] - 1s 1ms/step - loss: 0.0245 - acc: 0.0000e+00 - val_loss: 0.0222 - val_acc: 0.0000e+00\n",
      "Epoch 15/300\n",
      "622/622 [==============================] - 1s 1ms/step - loss: 0.0223 - acc: 0.0000e+00 - val_loss: 0.0212 - val_acc: 0.0000e+00\n",
      "Epoch 16/300\n",
      "622/622 [==============================] - 1s 1ms/step - loss: 0.0219 - acc: 0.0000e+00 - val_loss: 0.0220 - val_acc: 0.0000e+00\n",
      "Epoch 17/300\n",
      "622/622 [==============================] - 1s 2ms/step - loss: 0.0235 - acc: 0.0000e+00 - val_loss: 0.0223 - val_acc: 0.0000e+00\n",
      "Epoch 18/300\n",
      "622/622 [==============================] - 1s 1ms/step - loss: 0.0235 - acc: 0.0000e+00 - val_loss: 0.0216 - val_acc: 0.0000e+00\n",
      "Epoch 19/300\n",
      "622/622 [==============================] - 1s 1ms/step - loss: 0.0218 - acc: 0.0000e+00 - val_loss: 0.0213 - val_acc: 0.0000e+00\n",
      "Epoch 20/300\n",
      "622/622 [==============================] - 1s 1ms/step - loss: 0.0213 - acc: 0.0000e+00 - val_loss: 0.0222 - val_acc: 0.0000e+00\n",
      "Epoch 21/300\n",
      "622/622 [==============================] - 1s 2ms/step - loss: 0.0215 - acc: 0.0000e+00 - val_loss: 0.0237 - val_acc: 0.0000e+00\n",
      "Epoch 22/300\n",
      "622/622 [==============================] - 1s 1ms/step - loss: 0.0226 - acc: 0.0000e+00 - val_loss: 0.0241 - val_acc: 0.0000e+00\n",
      "Epoch 23/300\n",
      "622/622 [==============================] - 1s 1ms/step - loss: 0.0233 - acc: 0.0016 - val_loss: 0.0233 - val_acc: 0.0000e+00\n",
      "Epoch 24/300\n",
      "622/622 [==============================] - 1s 1ms/step - loss: 0.0219 - acc: 0.0000e+00 - val_loss: 0.0220 - val_acc: 0.0000e+00\n",
      "Epoch 25/300\n",
      "622/622 [==============================] - 1s 2ms/step - loss: 0.0217 - acc: 0.0000e+00 - val_loss: 0.0213 - val_acc: 0.0000e+00\n",
      "Epoch 26/300\n",
      "622/622 [==============================] - 1s 1ms/step - loss: 0.0220 - acc: 0.0000e+00 - val_loss: 0.0213 - val_acc: 0.0000e+00\n",
      "Epoch 27/300\n",
      "622/622 [==============================] - 1s 2ms/step - loss: 0.0219 - acc: 0.0000e+00 - val_loss: 0.0214 - val_acc: 0.0000e+00\n",
      "Epoch 28/300\n",
      "622/622 [==============================] - 1s 2ms/step - loss: 0.0218 - acc: 0.0000e+00 - val_loss: 0.0212 - val_acc: 0.0000e+00\n",
      "Epoch 29/300\n",
      "622/622 [==============================] - 1s 1ms/step - loss: 0.0226 - acc: 0.0000e+00 - val_loss: 0.0213 - val_acc: 0.0000e+00\n",
      "Epoch 30/300\n",
      "622/622 [==============================] - 1s 2ms/step - loss: 0.0216 - acc: 0.0000e+00 - val_loss: 0.0217 - val_acc: 0.0000e+00\n",
      "Epoch 31/300\n",
      "622/622 [==============================] - 1s 1ms/step - loss: 0.0215 - acc: 0.0000e+00 - val_loss: 0.0219 - val_acc: 0.0000e+00\n",
      "Epoch 32/300\n",
      "622/622 [==============================] - 1s 2ms/step - loss: 0.0210 - acc: 0.0000e+00 - val_loss: 0.0219 - val_acc: 0.0000e+00\n",
      "Epoch 33/300\n",
      "622/622 [==============================] - 1s 2ms/step - loss: 0.0219 - acc: 0.0000e+00 - val_loss: 0.0217 - val_acc: 0.0000e+00\n",
      "Epoch 34/300\n",
      "622/622 [==============================] - 1s 1ms/step - loss: 0.0218 - acc: 0.0000e+00 - val_loss: 0.0214 - val_acc: 0.0000e+00\n",
      "Epoch 35/300\n",
      "622/622 [==============================] - 1s 1ms/step - loss: 0.0213 - acc: 0.0000e+00 - val_loss: 0.0212 - val_acc: 0.0000e+00\n",
      "Epoch 36/300\n",
      "622/622 [==============================] - 1s 1ms/step - loss: 0.0220 - acc: 0.0000e+00 - val_loss: 0.0212 - val_acc: 0.0000e+00\n",
      "Epoch 37/300\n",
      "622/622 [==============================] - 1s 1ms/step - loss: 0.0220 - acc: 0.0000e+00 - val_loss: 0.0212 - val_acc: 0.0000e+00\n",
      "Epoch 38/300\n",
      "622/622 [==============================] - 1s 1ms/step - loss: 0.0217 - acc: 0.0000e+00 - val_loss: 0.0214 - val_acc: 0.0000e+00\n",
      "Epoch 39/300\n",
      "622/622 [==============================] - 1s 1ms/step - loss: 0.0219 - acc: 0.0000e+00 - val_loss: 0.0217 - val_acc: 0.0000e+00\n",
      "Epoch 40/300\n",
      "622/622 [==============================] - 1s 1ms/step - loss: 0.0217 - acc: 0.0000e+00 - val_loss: 0.0219 - val_acc: 0.0000e+00\n",
      "Epoch 41/300\n",
      "622/622 [==============================] - 1s 1ms/step - loss: 0.0216 - acc: 0.0000e+00 - val_loss: 0.0218 - val_acc: 0.0000e+00\n",
      "Epoch 42/300\n",
      "622/622 [==============================] - 1s 1ms/step - loss: 0.0219 - acc: 0.0000e+00 - val_loss: 0.0215 - val_acc: 0.0000e+00\n",
      "Epoch 43/300\n",
      "622/622 [==============================] - 1s 2ms/step - loss: 0.0210 - acc: 0.0000e+00 - val_loss: 0.0214 - val_acc: 0.0000e+00\n",
      "Epoch 44/300\n",
      "622/622 [==============================] - 1s 2ms/step - loss: 0.0214 - acc: 0.0000e+00 - val_loss: 0.0213 - val_acc: 0.0000e+00\n",
      "Epoch 45/300\n",
      "622/622 [==============================] - 1s 1ms/step - loss: 0.0211 - acc: 0.0000e+00 - val_loss: 0.0213 - val_acc: 0.0000e+00\n",
      "Epoch 46/300\n",
      "622/622 [==============================] - 1s 1ms/step - loss: 0.0217 - acc: 0.0000e+00 - val_loss: 0.0213 - val_acc: 0.0000e+00\n",
      "Epoch 47/300\n",
      "622/622 [==============================] - 1s 1ms/step - loss: 0.0210 - acc: 0.0000e+00 - val_loss: 0.0215 - val_acc: 0.0000e+00\n",
      "Epoch 48/300\n",
      "622/622 [==============================] - 1s 2ms/step - loss: 0.0215 - acc: 0.0000e+00 - val_loss: 0.0217 - val_acc: 0.0000e+00\n",
      "Epoch 49/300\n",
      "622/622 [==============================] - 1s 1ms/step - loss: 0.0213 - acc: 0.0000e+00 - val_loss: 0.0216 - val_acc: 0.0000e+00\n",
      "Epoch 50/300\n",
      "622/622 [==============================] - 1s 1ms/step - loss: 0.0212 - acc: 0.0000e+00 - val_loss: 0.0214 - val_acc: 0.0000e+00\n",
      "Epoch 51/300\n",
      "622/622 [==============================] - 1s 1ms/step - loss: 0.0211 - acc: 0.0000e+00 - val_loss: 0.0213 - val_acc: 0.0000e+00\n",
      "Epoch 52/300\n",
      "622/622 [==============================] - 1s 1ms/step - loss: 0.0223 - acc: 0.0000e+00 - val_loss: 0.0213 - val_acc: 0.0000e+00\n",
      "Epoch 53/300\n",
      "622/622 [==============================] - 1s 1ms/step - loss: 0.0219 - acc: 0.0000e+00 - val_loss: 0.0213 - val_acc: 0.0000e+00\n",
      "Epoch 54/300\n",
      "622/622 [==============================] - 1s 2ms/step - loss: 0.0215 - acc: 0.0000e+00 - val_loss: 0.0215 - val_acc: 0.0000e+00\n",
      "Epoch 55/300\n",
      "622/622 [==============================] - 1s 1ms/step - loss: 0.0215 - acc: 0.0000e+00 - val_loss: 0.0217 - val_acc: 0.0000e+00\n",
      "Epoch 56/300\n",
      "622/622 [==============================] - 1s 2ms/step - loss: 0.0216 - acc: 0.0000e+00 - val_loss: 0.0217 - val_acc: 0.0000e+00\n",
      "Epoch 57/300\n",
      "622/622 [==============================] - 1s 1ms/step - loss: 0.0213 - acc: 0.0000e+00 - val_loss: 0.0216 - val_acc: 0.0000e+00\n",
      "Epoch 58/300\n",
      "622/622 [==============================] - 1s 1ms/step - loss: 0.0211 - acc: 0.0000e+00 - val_loss: 0.0215 - val_acc: 0.0000e+00\n",
      "Epoch 59/300\n",
      "622/622 [==============================] - 1s 1ms/step - loss: 0.0217 - acc: 0.0000e+00 - val_loss: 0.0214 - val_acc: 0.0000e+00\n",
      "Epoch 60/300\n",
      "622/622 [==============================] - 1s 1ms/step - loss: 0.0206 - acc: 0.0000e+00 - val_loss: 0.0213 - val_acc: 0.0000e+00\n",
      "Epoch 61/300\n",
      "622/622 [==============================] - 1s 2ms/step - loss: 0.0215 - acc: 0.0000e+00 - val_loss: 0.0213 - val_acc: 0.0000e+00\n",
      "Epoch 62/300\n",
      "622/622 [==============================] - 1s 2ms/step - loss: 0.0214 - acc: 0.0000e+00 - val_loss: 0.0215 - val_acc: 0.0000e+00\n",
      "Epoch 63/300\n",
      "622/622 [==============================] - 1s 1ms/step - loss: 0.0212 - acc: 0.0000e+00 - val_loss: 0.0215 - val_acc: 0.0000e+00\n",
      "Epoch 64/300\n",
      "622/622 [==============================] - 1s 2ms/step - loss: 0.0213 - acc: 0.0000e+00 - val_loss: 0.0217 - val_acc: 0.0000e+00\n",
      "Epoch 65/300\n",
      "622/622 [==============================] - 1s 1ms/step - loss: 0.0215 - acc: 0.0000e+00 - val_loss: 0.0218 - val_acc: 0.0000e+00\n",
      "Epoch 66/300\n",
      "622/622 [==============================] - 1s 2ms/step - loss: 0.0213 - acc: 0.0000e+00 - val_loss: 0.0217 - val_acc: 0.0000e+00\n",
      "Epoch 67/300\n",
      "622/622 [==============================] - 1s 1ms/step - loss: 0.0217 - acc: 0.0000e+00 - val_loss: 0.0216 - val_acc: 0.0000e+00\n",
      "Epoch 68/300\n",
      "622/622 [==============================] - 1s 1ms/step - loss: 0.0213 - acc: 0.0000e+00 - val_loss: 0.0215 - val_acc: 0.0000e+00\n",
      "Epoch 69/300\n",
      "622/622 [==============================] - 1s 1ms/step - loss: 0.0209 - acc: 0.0000e+00 - val_loss: 0.0215 - val_acc: 0.0000e+00\n",
      "Epoch 70/300\n",
      "622/622 [==============================] - 1s 1ms/step - loss: 0.0218 - acc: 0.0000e+00 - val_loss: 0.0215 - val_acc: 0.0000e+00\n",
      "Epoch 71/300\n",
      "622/622 [==============================] - 1s 1ms/step - loss: 0.0215 - acc: 0.0000e+00 - val_loss: 0.0217 - val_acc: 0.0000e+00\n",
      "Epoch 72/300\n",
      "622/622 [==============================] - 1s 1ms/step - loss: 0.0211 - acc: 0.0000e+00 - val_loss: 0.0216 - val_acc: 0.0000e+00\n",
      "Epoch 73/300\n",
      "622/622 [==============================] - 1s 1ms/step - loss: 0.0220 - acc: 0.0000e+00 - val_loss: 0.0215 - val_acc: 0.0000e+00\n",
      "Epoch 74/300\n",
      "622/622 [==============================] - 1s 1ms/step - loss: 0.0219 - acc: 0.0000e+00 - val_loss: 0.0214 - val_acc: 0.0000e+00\n",
      "Epoch 75/300\n",
      "622/622 [==============================] - 1s 1ms/step - loss: 0.0211 - acc: 0.0000e+00 - val_loss: 0.0214 - val_acc: 0.0000e+00\n",
      "Epoch 76/300\n",
      "622/622 [==============================] - 1s 1ms/step - loss: 0.0212 - acc: 0.0000e+00 - val_loss: 0.0213 - val_acc: 0.0000e+00\n",
      "Epoch 77/300\n",
      "622/622 [==============================] - 1s 1ms/step - loss: 0.0218 - acc: 0.0000e+00 - val_loss: 0.0212 - val_acc: 0.0000e+00\n",
      "Epoch 78/300\n",
      "622/622 [==============================] - 1s 1ms/step - loss: 0.0215 - acc: 0.0000e+00 - val_loss: 0.0213 - val_acc: 0.0000e+00\n",
      "Epoch 79/300\n",
      "622/622 [==============================] - 1s 1ms/step - loss: 0.0214 - acc: 0.0000e+00 - val_loss: 0.0216 - val_acc: 0.0000e+00\n",
      "Epoch 80/300\n",
      "622/622 [==============================] - 1s 2ms/step - loss: 0.0216 - acc: 0.0000e+00 - val_loss: 0.0216 - val_acc: 0.0000e+00\n",
      "Epoch 81/300\n",
      "622/622 [==============================] - 1s 2ms/step - loss: 0.0212 - acc: 0.0000e+00 - val_loss: 0.0213 - val_acc: 0.0000e+00\n",
      "Epoch 82/300\n",
      "622/622 [==============================] - 1s 1ms/step - loss: 0.0212 - acc: 0.0000e+00 - val_loss: 0.0212 - val_acc: 0.0000e+00\n",
      "Epoch 83/300\n",
      "622/622 [==============================] - 1s 1ms/step - loss: 0.0216 - acc: 0.0000e+00 - val_loss: 0.0212 - val_acc: 0.0000e+00\n",
      "Epoch 84/300\n",
      "622/622 [==============================] - 1s 2ms/step - loss: 0.0220 - acc: 0.0000e+00 - val_loss: 0.0214 - val_acc: 0.0000e+00\n",
      "Epoch 85/300\n",
      "622/622 [==============================] - 1s 2ms/step - loss: 0.0216 - acc: 0.0000e+00 - val_loss: 0.0216 - val_acc: 0.0000e+00\n",
      "Epoch 86/300\n",
      "622/622 [==============================] - 1s 2ms/step - loss: 0.0216 - acc: 0.0000e+00 - val_loss: 0.0217 - val_acc: 0.0000e+00\n",
      "Epoch 87/300\n",
      "622/622 [==============================] - 1s 1ms/step - loss: 0.0217 - acc: 0.0000e+00 - val_loss: 0.0215 - val_acc: 0.0000e+00\n",
      "Epoch 88/300\n",
      "622/622 [==============================] - 1s 2ms/step - loss: 0.0213 - acc: 0.0000e+00 - val_loss: 0.0213 - val_acc: 0.0000e+00\n",
      "Epoch 89/300\n",
      "622/622 [==============================] - 1s 2ms/step - loss: 0.0209 - acc: 0.0000e+00 - val_loss: 0.0212 - val_acc: 0.0000e+00\n",
      "Epoch 90/300\n",
      "622/622 [==============================] - 1s 1ms/step - loss: 0.0208 - acc: 0.0000e+00 - val_loss: 0.0214 - val_acc: 0.0000e+00\n",
      "Epoch 91/300\n",
      "622/622 [==============================] - 1s 1ms/step - loss: 0.0213 - acc: 0.0000e+00 - val_loss: 0.0217 - val_acc: 0.0000e+00\n",
      "Epoch 92/300\n",
      "622/622 [==============================] - 1s 1ms/step - loss: 0.0212 - acc: 0.0000e+00 - val_loss: 0.0213 - val_acc: 0.0000e+00\n",
      "Epoch 93/300\n",
      "622/622 [==============================] - 1s 1ms/step - loss: 0.0209 - acc: 0.0000e+00 - val_loss: 0.0211 - val_acc: 0.0000e+00\n",
      "Epoch 94/300\n",
      "622/622 [==============================] - 1s 1ms/step - loss: 0.0210 - acc: 0.0000e+00 - val_loss: 0.0211 - val_acc: 0.0000e+00\n",
      "Epoch 95/300\n",
      "622/622 [==============================] - 1s 1ms/step - loss: 0.0217 - acc: 0.0000e+00 - val_loss: 0.0215 - val_acc: 0.0000e+00\n",
      "Epoch 96/300\n",
      "622/622 [==============================] - 1s 1ms/step - loss: 0.0211 - acc: 0.0000e+00 - val_loss: 0.0220 - val_acc: 0.0000e+00\n",
      "Epoch 97/300\n",
      "622/622 [==============================] - 1s 1ms/step - loss: 0.0211 - acc: 0.0000e+00 - val_loss: 0.0217 - val_acc: 0.0000e+00\n",
      "Epoch 98/300\n",
      "622/622 [==============================] - 1s 1ms/step - loss: 0.0203 - acc: 0.0000e+00 - val_loss: 0.0211 - val_acc: 0.0000e+00\n",
      "Epoch 99/300\n",
      "622/622 [==============================] - 1s 1ms/step - loss: 0.0213 - acc: 0.0000e+00 - val_loss: 0.0210 - val_acc: 0.0000e+00\n",
      "Epoch 100/300\n",
      "622/622 [==============================] - 1s 1ms/step - loss: 0.0212 - acc: 0.0000e+00 - val_loss: 0.0213 - val_acc: 0.0000e+00\n",
      "Epoch 101/300\n",
      "622/622 [==============================] - 1s 1ms/step - loss: 0.0212 - acc: 0.0000e+00 - val_loss: 0.0219 - val_acc: 0.0000e+00\n",
      "Epoch 102/300\n",
      "622/622 [==============================] - 1s 1ms/step - loss: 0.0211 - acc: 0.0000e+00 - val_loss: 0.0216 - val_acc: 0.0000e+00\n",
      "Epoch 103/300\n",
      "622/622 [==============================] - 1s 1ms/step - loss: 0.0206 - acc: 0.0000e+00 - val_loss: 0.0211 - val_acc: 0.0000e+00\n",
      "Epoch 104/300\n",
      "622/622 [==============================] - 1s 1ms/step - loss: 0.0205 - acc: 0.0000e+00 - val_loss: 0.0209 - val_acc: 0.0000e+00\n",
      "Epoch 105/300\n",
      "622/622 [==============================] - 1s 1ms/step - loss: 0.0208 - acc: 0.0000e+00 - val_loss: 0.0209 - val_acc: 0.0000e+00\n",
      "Epoch 106/300\n",
      "622/622 [==============================] - 1s 1ms/step - loss: 0.0209 - acc: 0.0000e+00 - val_loss: 0.0213 - val_acc: 0.0000e+00\n",
      "Epoch 107/300\n",
      "622/622 [==============================] - 1s 1ms/step - loss: 0.0213 - acc: 0.0000e+00 - val_loss: 0.0218 - val_acc: 0.0000e+00\n",
      "Epoch 108/300\n",
      "622/622 [==============================] - 1s 2ms/step - loss: 0.0214 - acc: 0.0000e+00 - val_loss: 0.0212 - val_acc: 0.0000e+00\n",
      "Epoch 109/300\n",
      "622/622 [==============================] - 1s 1ms/step - loss: 0.0208 - acc: 0.0016 - val_loss: 0.0209 - val_acc: 0.0000e+00\n",
      "Epoch 110/300\n",
      "622/622 [==============================] - 1s 1ms/step - loss: 0.0213 - acc: 0.0000e+00 - val_loss: 0.0210 - val_acc: 0.0000e+00\n",
      "Epoch 111/300\n",
      "622/622 [==============================] - 1s 1ms/step - loss: 0.0206 - acc: 0.0000e+00 - val_loss: 0.0211 - val_acc: 0.0000e+00\n",
      "Epoch 112/300\n",
      "622/622 [==============================] - 1s 1ms/step - loss: 0.0212 - acc: 0.0000e+00 - val_loss: 0.0211 - val_acc: 0.0000e+00\n",
      "Epoch 113/300\n",
      "622/622 [==============================] - 1s 1ms/step - loss: 0.0203 - acc: 0.0000e+00 - val_loss: 0.0212 - val_acc: 0.0000e+00\n",
      "Epoch 114/300\n",
      "622/622 [==============================] - 1s 1ms/step - loss: 0.0203 - acc: 0.0000e+00 - val_loss: 0.0210 - val_acc: 0.0000e+00\n",
      "Epoch 115/300\n",
      "622/622 [==============================] - 1s 1ms/step - loss: 0.0206 - acc: 0.0000e+00 - val_loss: 0.0213 - val_acc: 0.0000e+00\n"
     ]
    },
    {
     "name": "stdout",
     "output_type": "stream",
     "text": [
      "Epoch 116/300\n",
      "622/622 [==============================] - 1s 1ms/step - loss: 0.0205 - acc: 0.0000e+00 - val_loss: 0.0211 - val_acc: 0.0000e+00\n",
      "Epoch 117/300\n",
      "622/622 [==============================] - 1s 1ms/step - loss: 0.0197 - acc: 0.0000e+00 - val_loss: 0.0216 - val_acc: 0.0000e+00\n",
      "Epoch 118/300\n",
      "622/622 [==============================] - 1s 1ms/step - loss: 0.0204 - acc: 0.0000e+00 - val_loss: 0.0224 - val_acc: 0.0000e+00\n",
      "Epoch 119/300\n",
      "622/622 [==============================] - 1s 1ms/step - loss: 0.0208 - acc: 0.0000e+00 - val_loss: 0.0207 - val_acc: 0.0000e+00\n",
      "Epoch 120/300\n",
      "622/622 [==============================] - 1s 1ms/step - loss: 0.0200 - acc: 0.0016 - val_loss: 0.0205 - val_acc: 0.0000e+00\n",
      "Epoch 121/300\n",
      "622/622 [==============================] - 1s 1ms/step - loss: 0.0198 - acc: 0.0000e+00 - val_loss: 0.0218 - val_acc: 0.0000e+00\n",
      "Epoch 122/300\n",
      "622/622 [==============================] - 1s 1ms/step - loss: 0.0214 - acc: 0.0000e+00 - val_loss: 0.0216 - val_acc: 0.0000e+00\n",
      "Epoch 123/300\n",
      "622/622 [==============================] - 1s 1ms/step - loss: 0.0204 - acc: 0.0000e+00 - val_loss: 0.0203 - val_acc: 0.0000e+00\n",
      "Epoch 124/300\n",
      "622/622 [==============================] - 1s 1ms/step - loss: 0.0195 - acc: 0.0000e+00 - val_loss: 0.0205 - val_acc: 0.0000e+00\n",
      "Epoch 125/300\n",
      "622/622 [==============================] - 1s 1ms/step - loss: 0.0212 - acc: 0.0000e+00 - val_loss: 0.0206 - val_acc: 0.0000e+00\n",
      "Epoch 126/300\n",
      "622/622 [==============================] - 1s 1ms/step - loss: 0.0200 - acc: 0.0000e+00 - val_loss: 0.0222 - val_acc: 0.0000e+00\n",
      "Epoch 127/300\n",
      "622/622 [==============================] - 1s 1ms/step - loss: 0.0209 - acc: 0.0016 - val_loss: 0.0203 - val_acc: 0.0000e+00\n",
      "Epoch 128/300\n",
      "622/622 [==============================] - 1s 1ms/step - loss: 0.0196 - acc: 0.0000e+00 - val_loss: 0.0206 - val_acc: 0.0000e+00\n",
      "Epoch 129/300\n",
      "622/622 [==============================] - 1s 1ms/step - loss: 0.0209 - acc: 0.0000e+00 - val_loss: 0.0201 - val_acc: 0.0000e+00\n",
      "Epoch 130/300\n",
      "622/622 [==============================] - 1s 1ms/step - loss: 0.0200 - acc: 0.0000e+00 - val_loss: 0.0226 - val_acc: 0.0000e+00\n",
      "Epoch 131/300\n",
      "622/622 [==============================] - 1s 1ms/step - loss: 0.0210 - acc: 0.0016 - val_loss: 0.0214 - val_acc: 0.0000e+00\n",
      "Epoch 132/300\n",
      "622/622 [==============================] - 1s 1ms/step - loss: 0.0200 - acc: 0.0000e+00 - val_loss: 0.0205 - val_acc: 0.0000e+00\n",
      "Epoch 133/300\n",
      "622/622 [==============================] - 1s 1ms/step - loss: 0.0206 - acc: 0.0000e+00 - val_loss: 0.0199 - val_acc: 0.0000e+00\n",
      "Epoch 134/300\n",
      "622/622 [==============================] - 1s 1ms/step - loss: 0.0200 - acc: 0.0000e+00 - val_loss: 0.0216 - val_acc: 0.0000e+00\n",
      "Epoch 135/300\n",
      "622/622 [==============================] - 1s 1ms/step - loss: 0.0200 - acc: 0.0016 - val_loss: 0.0213 - val_acc: 0.0000e+00\n",
      "Epoch 136/300\n",
      "622/622 [==============================] - 1s 1ms/step - loss: 0.0207 - acc: 0.0000e+00 - val_loss: 0.0198 - val_acc: 0.0000e+00\n",
      "Epoch 137/300\n",
      "622/622 [==============================] - 1s 1ms/step - loss: 0.0199 - acc: 0.0000e+00 - val_loss: 0.0197 - val_acc: 0.0000e+00\n",
      "Epoch 138/300\n",
      "622/622 [==============================] - 1s 1ms/step - loss: 0.0195 - acc: 0.0000e+00 - val_loss: 0.0201 - val_acc: 0.0000e+00\n",
      "Epoch 139/300\n",
      "622/622 [==============================] - 1s 1ms/step - loss: 0.0191 - acc: 0.0000e+00 - val_loss: 0.0204 - val_acc: 0.0000e+00\n",
      "Epoch 140/300\n",
      "622/622 [==============================] - 1s 1ms/step - loss: 0.0193 - acc: 0.0000e+00 - val_loss: 0.0196 - val_acc: 0.0000e+00\n",
      "Epoch 141/300\n",
      "622/622 [==============================] - 1s 1ms/step - loss: 0.0189 - acc: 0.0000e+00 - val_loss: 0.0195 - val_acc: 0.0000e+00\n",
      "Epoch 142/300\n",
      "622/622 [==============================] - 1s 1ms/step - loss: 0.0185 - acc: 0.0000e+00 - val_loss: 0.0206 - val_acc: 0.0000e+00\n",
      "Epoch 143/300\n",
      "622/622 [==============================] - 1s 1ms/step - loss: 0.0190 - acc: 0.0016 - val_loss: 0.0197 - val_acc: 0.0000e+00\n",
      "Epoch 144/300\n",
      "622/622 [==============================] - 1s 1ms/step - loss: 0.0181 - acc: 0.0000e+00 - val_loss: 0.0203 - val_acc: 0.0000e+00\n",
      "Epoch 145/300\n",
      "622/622 [==============================] - 1s 1ms/step - loss: 0.0190 - acc: 0.0000e+00 - val_loss: 0.0193 - val_acc: 0.0000e+00\n",
      "Epoch 146/300\n",
      "622/622 [==============================] - 1s 1ms/step - loss: 0.0178 - acc: 0.0000e+00 - val_loss: 0.0194 - val_acc: 0.0000e+00\n",
      "Epoch 147/300\n",
      "622/622 [==============================] - 1s 2ms/step - loss: 0.0175 - acc: 0.0016 - val_loss: 0.0196 - val_acc: 0.0000e+00\n",
      "Epoch 148/300\n",
      "622/622 [==============================] - 1s 2ms/step - loss: 0.0175 - acc: 0.0000e+00 - val_loss: 0.0216 - val_acc: 0.0000e+00\n",
      "Epoch 149/300\n",
      "622/622 [==============================] - 1s 1ms/step - loss: 0.0188 - acc: 0.0016 - val_loss: 0.0184 - val_acc: 0.0000e+00\n",
      "Epoch 150/300\n",
      "622/622 [==============================] - 1s 1ms/step - loss: 0.0179 - acc: 0.0000e+00 - val_loss: 0.0184 - val_acc: 0.0000e+00\n",
      "Epoch 151/300\n",
      "622/622 [==============================] - 1s 2ms/step - loss: 0.0180 - acc: 0.0000e+00 - val_loss: 0.0200 - val_acc: 0.0000e+00\n",
      "Epoch 152/300\n",
      "622/622 [==============================] - 1s 2ms/step - loss: 0.0187 - acc: 0.0016 - val_loss: 0.0187 - val_acc: 0.0000e+00\n",
      "Epoch 153/300\n",
      "622/622 [==============================] - 1s 2ms/step - loss: 0.0178 - acc: 0.0000e+00 - val_loss: 0.0191 - val_acc: 0.0000e+00\n",
      "Epoch 154/300\n",
      "622/622 [==============================] - 1s 2ms/step - loss: 0.0171 - acc: 0.0016 - val_loss: 0.0192 - val_acc: 0.0000e+00\n",
      "Epoch 155/300\n",
      "622/622 [==============================] - 1s 2ms/step - loss: 0.0168 - acc: 0.0016 - val_loss: 0.0194 - val_acc: 0.0000e+00\n",
      "Epoch 156/300\n",
      "622/622 [==============================] - 1s 1ms/step - loss: 0.0182 - acc: 0.0016 - val_loss: 0.0193 - val_acc: 0.0000e+00\n",
      "Epoch 157/300\n",
      "622/622 [==============================] - 1s 1ms/step - loss: 0.0175 - acc: 0.0016 - val_loss: 0.0192 - val_acc: 0.0000e+00\n",
      "Epoch 158/300\n",
      "622/622 [==============================] - 1s 2ms/step - loss: 0.0174 - acc: 0.0016 - val_loss: 0.0179 - val_acc: 0.0000e+00\n",
      "Epoch 159/300\n",
      "622/622 [==============================] - 1s 2ms/step - loss: 0.0168 - acc: 0.0016 - val_loss: 0.0185 - val_acc: 0.0000e+00\n",
      "Epoch 160/300\n",
      "622/622 [==============================] - 1s 1ms/step - loss: 0.0174 - acc: 0.0016 - val_loss: 0.0188 - val_acc: 0.0000e+00\n",
      "Epoch 161/300\n",
      "622/622 [==============================] - 1s 1ms/step - loss: 0.0170 - acc: 0.0016 - val_loss: 0.0188 - val_acc: 0.0000e+00\n",
      "Epoch 162/300\n",
      "622/622 [==============================] - 1s 1ms/step - loss: 0.0162 - acc: 0.0016 - val_loss: 0.0192 - val_acc: 0.0000e+00\n",
      "Epoch 163/300\n",
      "622/622 [==============================] - 1s 1ms/step - loss: 0.0167 - acc: 0.0016 - val_loss: 0.0188 - val_acc: 0.0000e+00\n",
      "Epoch 164/300\n",
      "622/622 [==============================] - 1s 1ms/step - loss: 0.0160 - acc: 0.0016 - val_loss: 0.0185 - val_acc: 0.0000e+00\n",
      "Epoch 165/300\n",
      "622/622 [==============================] - 1s 1ms/step - loss: 0.0166 - acc: 0.0016 - val_loss: 0.0181 - val_acc: 0.0000e+00\n",
      "Epoch 166/300\n",
      "622/622 [==============================] - 1s 1ms/step - loss: 0.0155 - acc: 0.0016 - val_loss: 0.0180 - val_acc: 0.0000e+00\n",
      "Epoch 167/300\n",
      "622/622 [==============================] - 1s 1ms/step - loss: 0.0163 - acc: 0.0016 - val_loss: 0.0181 - val_acc: 0.0000e+00\n",
      "Epoch 168/300\n",
      "622/622 [==============================] - 1s 1ms/step - loss: 0.0158 - acc: 0.0016 - val_loss: 0.0180 - val_acc: 0.0000e+00\n",
      "Epoch 169/300\n",
      "622/622 [==============================] - 1s 1ms/step - loss: 0.0161 - acc: 0.0016 - val_loss: 0.0183 - val_acc: 0.0000e+00\n",
      "Epoch 170/300\n",
      "622/622 [==============================] - 1s 1ms/step - loss: 0.0154 - acc: 0.0016 - val_loss: 0.0181 - val_acc: 0.0000e+00\n",
      "Epoch 171/300\n",
      "622/622 [==============================] - 1s 1ms/step - loss: 0.0163 - acc: 0.0016 - val_loss: 0.0183 - val_acc: 0.0000e+00\n",
      "Epoch 172/300\n",
      "622/622 [==============================] - 1s 1ms/step - loss: 0.0159 - acc: 0.0016 - val_loss: 0.0176 - val_acc: 0.0000e+00\n",
      "Epoch 173/300\n",
      "622/622 [==============================] - 1s 1ms/step - loss: 0.0157 - acc: 0.0016 - val_loss: 0.0177 - val_acc: 0.0000e+00\n",
      "Epoch 174/300\n"
     ]
    },
    {
     "name": "stdout",
     "output_type": "stream",
     "text": [
      "622/622 [==============================] - 1s 1ms/step - loss: 0.0161 - acc: 0.0016 - val_loss: 0.0173 - val_acc: 0.0000e+00\n",
      "Epoch 175/300\n",
      "622/622 [==============================] - 1s 1ms/step - loss: 0.0156 - acc: 0.0016 - val_loss: 0.0174 - val_acc: 0.0000e+00\n",
      "Epoch 176/300\n",
      "622/622 [==============================] - 1s 1ms/step - loss: 0.0152 - acc: 0.0016 - val_loss: 0.0189 - val_acc: 0.0000e+00\n",
      "Epoch 177/300\n",
      "622/622 [==============================] - 1s 1ms/step - loss: 0.0161 - acc: 0.0016 - val_loss: 0.0183 - val_acc: 0.0000e+00\n",
      "Epoch 178/300\n",
      "622/622 [==============================] - 1s 2ms/step - loss: 0.0161 - acc: 0.0016 - val_loss: 0.0174 - val_acc: 0.0000e+00\n",
      "Epoch 179/300\n",
      "622/622 [==============================] - 1s 1ms/step - loss: 0.0155 - acc: 0.0016 - val_loss: 0.0172 - val_acc: 0.0000e+00\n",
      "Epoch 180/300\n",
      "622/622 [==============================] - 1s 1ms/step - loss: 0.0156 - acc: 0.0016 - val_loss: 0.0170 - val_acc: 0.0000e+00\n",
      "Epoch 181/300\n",
      "622/622 [==============================] - 1s 1ms/step - loss: 0.0161 - acc: 0.0016 - val_loss: 0.0168 - val_acc: 0.0000e+00\n",
      "Epoch 182/300\n",
      "622/622 [==============================] - 1s 1ms/step - loss: 0.0149 - acc: 0.0016 - val_loss: 0.0172 - val_acc: 0.0000e+00\n",
      "Epoch 183/300\n",
      "622/622 [==============================] - 1s 1ms/step - loss: 0.0151 - acc: 0.0016 - val_loss: 0.0192 - val_acc: 0.0000e+00\n",
      "Epoch 184/300\n",
      "622/622 [==============================] - 1s 1ms/step - loss: 0.0162 - acc: 0.0016 - val_loss: 0.0173 - val_acc: 0.0000e+00\n",
      "Epoch 185/300\n",
      "622/622 [==============================] - 1s 1ms/step - loss: 0.0149 - acc: 0.0016 - val_loss: 0.0172 - val_acc: 0.0000e+00\n",
      "Epoch 186/300\n",
      "622/622 [==============================] - 1s 1ms/step - loss: 0.0152 - acc: 0.0016 - val_loss: 0.0180 - val_acc: 0.0000e+00\n",
      "Epoch 187/300\n",
      "622/622 [==============================] - 1s 1ms/step - loss: 0.0149 - acc: 0.0016 - val_loss: 0.0173 - val_acc: 0.0000e+00\n",
      "Epoch 188/300\n",
      "622/622 [==============================] - 1s 1ms/step - loss: 0.0152 - acc: 0.0016 - val_loss: 0.0182 - val_acc: 0.0000e+00\n",
      "Epoch 189/300\n",
      "622/622 [==============================] - 1s 1ms/step - loss: 0.0148 - acc: 0.0016 - val_loss: 0.0169 - val_acc: 0.0000e+00\n",
      "Epoch 190/300\n",
      "622/622 [==============================] - 1s 1ms/step - loss: 0.0148 - acc: 0.0016 - val_loss: 0.0176 - val_acc: 0.0000e+00\n",
      "Epoch 191/300\n",
      "622/622 [==============================] - 1s 1ms/step - loss: 0.0154 - acc: 0.0016 - val_loss: 0.0170 - val_acc: 0.0000e+00\n",
      "Epoch 192/300\n",
      "622/622 [==============================] - 1s 1ms/step - loss: 0.0143 - acc: 0.0016 - val_loss: 0.0166 - val_acc: 0.0000e+00\n",
      "Epoch 193/300\n",
      "622/622 [==============================] - 1s 1ms/step - loss: 0.0141 - acc: 0.0016 - val_loss: 0.0197 - val_acc: 0.0000e+00\n",
      "Epoch 194/300\n",
      "622/622 [==============================] - 1s 1ms/step - loss: 0.0159 - acc: 0.0016 - val_loss: 0.0167 - val_acc: 0.0000e+00\n",
      "Epoch 195/300\n",
      "622/622 [==============================] - 1s 1ms/step - loss: 0.0142 - acc: 0.0016 - val_loss: 0.0166 - val_acc: 0.0000e+00\n",
      "Epoch 196/300\n",
      "622/622 [==============================] - 1s 1ms/step - loss: 0.0144 - acc: 0.0016 - val_loss: 0.0172 - val_acc: 0.0000e+00\n",
      "Epoch 197/300\n",
      "622/622 [==============================] - 1s 1ms/step - loss: 0.0147 - acc: 0.0016 - val_loss: 0.0163 - val_acc: 0.0000e+00\n",
      "Epoch 198/300\n",
      "622/622 [==============================] - 1s 1ms/step - loss: 0.0145 - acc: 0.0016 - val_loss: 0.0164 - val_acc: 0.0000e+00\n",
      "Epoch 199/300\n",
      "622/622 [==============================] - 1s 1ms/step - loss: 0.0136 - acc: 0.0016 - val_loss: 0.0166 - val_acc: 0.0000e+00\n",
      "Epoch 200/300\n",
      "622/622 [==============================] - 1s 1ms/step - loss: 0.0147 - acc: 0.0016 - val_loss: 0.0174 - val_acc: 0.0000e+00\n",
      "Epoch 201/300\n",
      "622/622 [==============================] - 1s 1ms/step - loss: 0.0138 - acc: 0.0016 - val_loss: 0.0173 - val_acc: 0.0000e+00\n",
      "Epoch 202/300\n",
      "622/622 [==============================] - 1s 1ms/step - loss: 0.0143 - acc: 0.0016 - val_loss: 0.0186 - val_acc: 0.0000e+00\n",
      "Epoch 203/300\n",
      "622/622 [==============================] - 1s 1ms/step - loss: 0.0145 - acc: 0.0016 - val_loss: 0.0171 - val_acc: 0.0000e+00\n",
      "Epoch 204/300\n",
      "622/622 [==============================] - 1s 1ms/step - loss: 0.0146 - acc: 0.0016 - val_loss: 0.0164 - val_acc: 0.0000e+00\n",
      "Epoch 205/300\n",
      "622/622 [==============================] - 1s 1ms/step - loss: 0.0134 - acc: 0.0016 - val_loss: 0.0172 - val_acc: 0.0000e+00\n",
      "Epoch 206/300\n",
      "622/622 [==============================] - 1s 1ms/step - loss: 0.0144 - acc: 0.0016 - val_loss: 0.0161 - val_acc: 0.0000e+00\n",
      "Epoch 207/300\n",
      "622/622 [==============================] - 1s 2ms/step - loss: 0.0139 - acc: 0.0016 - val_loss: 0.0161 - val_acc: 0.0000e+00\n",
      "Epoch 208/300\n",
      "622/622 [==============================] - 1s 2ms/step - loss: 0.0140 - acc: 0.0016 - val_loss: 0.0173 - val_acc: 0.0000e+00\n",
      "Epoch 209/300\n",
      "622/622 [==============================] - 1s 2ms/step - loss: 0.0141 - acc: 0.0016 - val_loss: 0.0166 - val_acc: 0.0000e+00\n",
      "Epoch 210/300\n",
      "622/622 [==============================] - 1s 2ms/step - loss: 0.0141 - acc: 0.0016 - val_loss: 0.0172 - val_acc: 0.0000e+00\n",
      "Epoch 211/300\n",
      "622/622 [==============================] - 1s 2ms/step - loss: 0.0138 - acc: 0.0016 - val_loss: 0.0168 - val_acc: 0.0000e+00\n",
      "Epoch 212/300\n",
      "622/622 [==============================] - 1s 1ms/step - loss: 0.0138 - acc: 0.0016 - val_loss: 0.0173 - val_acc: 0.0000e+00\n",
      "Epoch 213/300\n",
      "622/622 [==============================] - 1s 1ms/step - loss: 0.0147 - acc: 0.0016 - val_loss: 0.0185 - val_acc: 0.0000e+00\n",
      "Epoch 214/300\n",
      "622/622 [==============================] - 1s 1ms/step - loss: 0.0149 - acc: 0.0016 - val_loss: 0.0164 - val_acc: 0.0000e+00\n",
      "Epoch 215/300\n",
      "622/622 [==============================] - 1s 1ms/step - loss: 0.0145 - acc: 0.0016 - val_loss: 0.0162 - val_acc: 0.0000e+00\n",
      "Epoch 216/300\n",
      "622/622 [==============================] - 1s 1ms/step - loss: 0.0138 - acc: 0.0016 - val_loss: 0.0167 - val_acc: 0.0000e+00\n",
      "Epoch 217/300\n",
      "622/622 [==============================] - 1s 2ms/step - loss: 0.0134 - acc: 0.0016 - val_loss: 0.0163 - val_acc: 0.0000e+00\n",
      "Epoch 218/300\n",
      "622/622 [==============================] - 1s 1ms/step - loss: 0.0143 - acc: 0.0016 - val_loss: 0.0169 - val_acc: 0.0000e+00\n",
      "Epoch 219/300\n",
      "622/622 [==============================] - 1s 1ms/step - loss: 0.0140 - acc: 0.0016 - val_loss: 0.0164 - val_acc: 0.0000e+00\n",
      "Epoch 220/300\n",
      "622/622 [==============================] - 1s 1ms/step - loss: 0.0132 - acc: 0.0016 - val_loss: 0.0169 - val_acc: 0.0000e+00\n",
      "Epoch 221/300\n",
      "622/622 [==============================] - 1s 1ms/step - loss: 0.0156 - acc: 0.0016 - val_loss: 0.0171 - val_acc: 0.0000e+00\n",
      "Epoch 222/300\n",
      "622/622 [==============================] - 1s 1ms/step - loss: 0.0132 - acc: 0.0016 - val_loss: 0.0174 - val_acc: 0.0000e+00\n",
      "Epoch 223/300\n",
      "622/622 [==============================] - 1s 1ms/step - loss: 0.0138 - acc: 0.0016 - val_loss: 0.0164 - val_acc: 0.0000e+00\n",
      "Epoch 224/300\n",
      "622/622 [==============================] - 1s 1ms/step - loss: 0.0146 - acc: 0.0016 - val_loss: 0.0173 - val_acc: 0.0000e+00\n",
      "Epoch 225/300\n",
      "622/622 [==============================] - 1s 1ms/step - loss: 0.0142 - acc: 0.0016 - val_loss: 0.0164 - val_acc: 0.0000e+00\n",
      "Epoch 226/300\n",
      "622/622 [==============================] - 1s 1ms/step - loss: 0.0133 - acc: 0.0016 - val_loss: 0.0175 - val_acc: 0.0000e+00\n",
      "Epoch 227/300\n",
      "622/622 [==============================] - 1s 1ms/step - loss: 0.0159 - acc: 0.0016 - val_loss: 0.0175 - val_acc: 0.0000e+00\n",
      "Epoch 228/300\n",
      "622/622 [==============================] - 1s 1ms/step - loss: 0.0146 - acc: 0.0016 - val_loss: 0.0189 - val_acc: 0.0000e+00\n",
      "Epoch 229/300\n",
      "622/622 [==============================] - 1s 2ms/step - loss: 0.0149 - acc: 0.0016 - val_loss: 0.0159 - val_acc: 0.0000e+00\n",
      "Epoch 230/300\n",
      "622/622 [==============================] - 1s 2ms/step - loss: 0.0145 - acc: 0.0016 - val_loss: 0.0157 - val_acc: 0.0000e+00\n",
      "Epoch 231/300\n",
      "622/622 [==============================] - 1s 2ms/step - loss: 0.0137 - acc: 0.0016 - val_loss: 0.0172 - val_acc: 0.0000e+00\n",
      "Epoch 232/300\n",
      "622/622 [==============================] - 1s 2ms/step - loss: 0.0144 - acc: 0.0016 - val_loss: 0.0161 - val_acc: 0.0000e+00\n",
      "Epoch 233/300\n"
     ]
    },
    {
     "name": "stdout",
     "output_type": "stream",
     "text": [
      "622/622 [==============================] - 1s 1ms/step - loss: 0.0132 - acc: 0.0016 - val_loss: 0.0159 - val_acc: 0.0000e+00\n",
      "Epoch 234/300\n",
      "622/622 [==============================] - 1s 1ms/step - loss: 0.0137 - acc: 0.0016 - val_loss: 0.0163 - val_acc: 0.0000e+00\n",
      "Epoch 235/300\n",
      "622/622 [==============================] - 1s 1ms/step - loss: 0.0129 - acc: 0.0016 - val_loss: 0.0165 - val_acc: 0.0000e+00\n",
      "Epoch 236/300\n",
      "622/622 [==============================] - 1s 1ms/step - loss: 0.0132 - acc: 0.0016 - val_loss: 0.0166 - val_acc: 0.0000e+00\n",
      "Epoch 237/300\n",
      "622/622 [==============================] - 1s 1ms/step - loss: 0.0139 - acc: 0.0016 - val_loss: 0.0166 - val_acc: 0.0000e+00\n",
      "Epoch 238/300\n",
      "622/622 [==============================] - 1s 1ms/step - loss: 0.0131 - acc: 0.0016 - val_loss: 0.0161 - val_acc: 0.0000e+00\n",
      "Epoch 239/300\n",
      "622/622 [==============================] - 1s 1ms/step - loss: 0.0130 - acc: 0.0016 - val_loss: 0.0166 - val_acc: 0.0000e+00\n",
      "Epoch 240/300\n",
      "622/622 [==============================] - 1s 1ms/step - loss: 0.0138 - acc: 0.0016 - val_loss: 0.0164 - val_acc: 0.0000e+00\n",
      "Epoch 241/300\n",
      "622/622 [==============================] - 1s 1ms/step - loss: 0.0135 - acc: 0.0016 - val_loss: 0.0156 - val_acc: 0.0000e+00\n",
      "Epoch 242/300\n",
      "622/622 [==============================] - 1s 1ms/step - loss: 0.0135 - acc: 0.0016 - val_loss: 0.0159 - val_acc: 0.0000e+00\n",
      "Epoch 243/300\n",
      "622/622 [==============================] - 1s 1ms/step - loss: 0.0132 - acc: 0.0016 - val_loss: 0.0167 - val_acc: 0.0000e+00\n",
      "Epoch 244/300\n",
      "622/622 [==============================] - 1s 1ms/step - loss: 0.0133 - acc: 0.0016 - val_loss: 0.0160 - val_acc: 0.0000e+00\n",
      "Epoch 245/300\n",
      "622/622 [==============================] - 1s 1ms/step - loss: 0.0140 - acc: 0.0016 - val_loss: 0.0158 - val_acc: 0.0000e+00\n",
      "Epoch 246/300\n",
      "622/622 [==============================] - 1s 1ms/step - loss: 0.0130 - acc: 0.0016 - val_loss: 0.0182 - val_acc: 0.0000e+00\n",
      "Epoch 247/300\n",
      "622/622 [==============================] - 1s 1ms/step - loss: 0.0145 - acc: 0.0016 - val_loss: 0.0157 - val_acc: 0.0000e+00\n",
      "Epoch 248/300\n",
      "622/622 [==============================] - 1s 1ms/step - loss: 0.0133 - acc: 0.0016 - val_loss: 0.0156 - val_acc: 0.0000e+00\n",
      "Epoch 249/300\n",
      "622/622 [==============================] - 1s 1ms/step - loss: 0.0132 - acc: 0.0016 - val_loss: 0.0169 - val_acc: 0.0000e+00\n",
      "Epoch 250/300\n",
      "622/622 [==============================] - 1s 1ms/step - loss: 0.0137 - acc: 0.0016 - val_loss: 0.0157 - val_acc: 0.0000e+00\n",
      "Epoch 251/300\n",
      "622/622 [==============================] - 1s 1ms/step - loss: 0.0130 - acc: 0.0016 - val_loss: 0.0158 - val_acc: 0.0000e+00\n",
      "Epoch 252/300\n",
      "622/622 [==============================] - 1s 2ms/step - loss: 0.0128 - acc: 0.0016 - val_loss: 0.0167 - val_acc: 0.0000e+00\n",
      "Epoch 253/300\n",
      "622/622 [==============================] - 1s 2ms/step - loss: 0.0132 - acc: 0.0016 - val_loss: 0.0163 - val_acc: 0.0000e+00\n",
      "Epoch 254/300\n",
      "622/622 [==============================] - 1s 2ms/step - loss: 0.0136 - acc: 0.0016 - val_loss: 0.0156 - val_acc: 0.0000e+00\n",
      "Epoch 255/300\n",
      "622/622 [==============================] - 1s 2ms/step - loss: 0.0129 - acc: 0.0016 - val_loss: 0.0169 - val_acc: 0.0000e+00\n",
      "Epoch 256/300\n",
      "622/622 [==============================] - 1s 1ms/step - loss: 0.0136 - acc: 0.0016 - val_loss: 0.0155 - val_acc: 0.0000e+00\n",
      "Epoch 257/300\n",
      "622/622 [==============================] - 1s 1ms/step - loss: 0.0128 - acc: 0.0016 - val_loss: 0.0157 - val_acc: 0.0000e+00\n",
      "Epoch 258/300\n",
      "622/622 [==============================] - 1s 1ms/step - loss: 0.0134 - acc: 0.0016 - val_loss: 0.0160 - val_acc: 0.0000e+00\n",
      "Epoch 259/300\n",
      "622/622 [==============================] - 1s 1ms/step - loss: 0.0132 - acc: 0.0016 - val_loss: 0.0158 - val_acc: 0.0000e+00\n",
      "Epoch 260/300\n",
      "622/622 [==============================] - 1s 1ms/step - loss: 0.0132 - acc: 0.0016 - val_loss: 0.0155 - val_acc: 0.0000e+00\n",
      "Epoch 261/300\n",
      "622/622 [==============================] - 1s 1ms/step - loss: 0.0129 - acc: 0.0016 - val_loss: 0.0160 - val_acc: 0.0000e+00\n",
      "Epoch 262/300\n",
      "622/622 [==============================] - 1s 1ms/step - loss: 0.0124 - acc: 0.0016 - val_loss: 0.0165 - val_acc: 0.0000e+00\n",
      "Epoch 263/300\n",
      "622/622 [==============================] - 1s 1ms/step - loss: 0.0131 - acc: 0.0016 - val_loss: 0.0158 - val_acc: 0.0000e+00\n",
      "Epoch 264/300\n",
      "622/622 [==============================] - 1s 1ms/step - loss: 0.0126 - acc: 0.0016 - val_loss: 0.0160 - val_acc: 0.0000e+00\n",
      "Epoch 265/300\n",
      "622/622 [==============================] - 1s 1ms/step - loss: 0.0131 - acc: 0.0016 - val_loss: 0.0162 - val_acc: 0.0000e+00\n",
      "Epoch 266/300\n",
      "622/622 [==============================] - 1s 1ms/step - loss: 0.0128 - acc: 0.0016 - val_loss: 0.0157 - val_acc: 0.0000e+00\n",
      "Epoch 267/300\n",
      "622/622 [==============================] - 1s 1ms/step - loss: 0.0128 - acc: 0.0016 - val_loss: 0.0158 - val_acc: 0.0000e+00\n",
      "Epoch 268/300\n",
      "622/622 [==============================] - 1s 1ms/step - loss: 0.0129 - acc: 0.0016 - val_loss: 0.0159 - val_acc: 0.0000e+00\n",
      "Epoch 269/300\n",
      "622/622 [==============================] - 1s 1ms/step - loss: 0.0125 - acc: 0.0016 - val_loss: 0.0158 - val_acc: 0.0000e+00\n",
      "Epoch 270/300\n",
      "622/622 [==============================] - 1s 1ms/step - loss: 0.0129 - acc: 0.0016 - val_loss: 0.0158 - val_acc: 0.0000e+00\n",
      "Epoch 271/300\n",
      "622/622 [==============================] - 1s 1ms/step - loss: 0.0127 - acc: 0.0016 - val_loss: 0.0162 - val_acc: 0.0000e+00\n",
      "Epoch 272/300\n",
      "622/622 [==============================] - 1s 1ms/step - loss: 0.0125 - acc: 0.0016 - val_loss: 0.0159 - val_acc: 0.0000e+00\n",
      "Epoch 273/300\n",
      "622/622 [==============================] - 1s 1ms/step - loss: 0.0127 - acc: 0.0016 - val_loss: 0.0156 - val_acc: 0.0000e+00\n",
      "Epoch 274/300\n",
      "622/622 [==============================] - 1s 1ms/step - loss: 0.0131 - acc: 0.0016 - val_loss: 0.0157 - val_acc: 0.0000e+00\n",
      "Epoch 275/300\n",
      "622/622 [==============================] - 1s 1ms/step - loss: 0.0124 - acc: 0.0016 - val_loss: 0.0155 - val_acc: 0.0000e+00\n",
      "Epoch 276/300\n",
      "622/622 [==============================] - 1s 1ms/step - loss: 0.0129 - acc: 0.0016 - val_loss: 0.0161 - val_acc: 0.0000e+00\n",
      "Epoch 277/300\n",
      "622/622 [==============================] - 1s 1ms/step - loss: 0.0129 - acc: 0.0016 - val_loss: 0.0166 - val_acc: 0.0000e+00\n",
      "Epoch 278/300\n",
      "622/622 [==============================] - 1s 1ms/step - loss: 0.0131 - acc: 0.0016 - val_loss: 0.0154 - val_acc: 0.0000e+00\n",
      "Epoch 279/300\n",
      "622/622 [==============================] - 1s 1ms/step - loss: 0.0127 - acc: 0.0016 - val_loss: 0.0154 - val_acc: 0.0000e+00\n",
      "Epoch 280/300\n",
      "622/622 [==============================] - 1s 1ms/step - loss: 0.0127 - acc: 0.0016 - val_loss: 0.0163 - val_acc: 0.0000e+00\n",
      "Epoch 281/300\n",
      "622/622 [==============================] - 1s 1ms/step - loss: 0.0127 - acc: 0.0016 - val_loss: 0.0154 - val_acc: 0.0000e+00\n",
      "Epoch 282/300\n",
      "622/622 [==============================] - 1s 1ms/step - loss: 0.0122 - acc: 0.0016 - val_loss: 0.0155 - val_acc: 0.0000e+00\n",
      "Epoch 283/300\n",
      "622/622 [==============================] - 1s 1ms/step - loss: 0.0127 - acc: 0.0016 - val_loss: 0.0159 - val_acc: 0.0000e+00\n",
      "Epoch 284/300\n",
      "622/622 [==============================] - 1s 1ms/step - loss: 0.0124 - acc: 0.0016 - val_loss: 0.0155 - val_acc: 0.0000e+00\n",
      "Epoch 285/300\n",
      "622/622 [==============================] - 1s 1ms/step - loss: 0.0127 - acc: 0.0016 - val_loss: 0.0157 - val_acc: 0.0000e+00\n",
      "Epoch 286/300\n",
      "622/622 [==============================] - 1s 1ms/step - loss: 0.0123 - acc: 0.0016 - val_loss: 0.0163 - val_acc: 0.0000e+00\n",
      "Epoch 287/300\n",
      "622/622 [==============================] - 1s 1ms/step - loss: 0.0131 - acc: 0.0016 - val_loss: 0.0157 - val_acc: 0.0000e+00\n",
      "Epoch 288/300\n",
      "622/622 [==============================] - 1s 1ms/step - loss: 0.0124 - acc: 0.0016 - val_loss: 0.0162 - val_acc: 0.0000e+00\n",
      "Epoch 289/300\n",
      "622/622 [==============================] - 1s 1ms/step - loss: 0.0127 - acc: 0.0016 - val_loss: 0.0160 - val_acc: 0.0000e+00\n",
      "Epoch 290/300\n",
      "622/622 [==============================] - 1s 1ms/step - loss: 0.0127 - acc: 0.0016 - val_loss: 0.0160 - val_acc: 0.0000e+00\n",
      "Epoch 291/300\n",
      "622/622 [==============================] - 1s 1ms/step - loss: 0.0127 - acc: 0.0016 - val_loss: 0.0164 - val_acc: 0.0000e+00\n",
      "Epoch 292/300\n"
     ]
    },
    {
     "name": "stdout",
     "output_type": "stream",
     "text": [
      "622/622 [==============================] - 1s 1ms/step - loss: 0.0132 - acc: 0.0016 - val_loss: 0.0155 - val_acc: 0.0000e+00\n",
      "Epoch 293/300\n",
      "622/622 [==============================] - 1s 1ms/step - loss: 0.0134 - acc: 0.0016 - val_loss: 0.0151 - val_acc: 0.0000e+00\n",
      "Epoch 294/300\n",
      "622/622 [==============================] - 1s 1ms/step - loss: 0.0130 - acc: 0.0016 - val_loss: 0.0162 - val_acc: 0.0000e+00\n",
      "Epoch 295/300\n",
      "622/622 [==============================] - 1s 1ms/step - loss: 0.0131 - acc: 0.0016 - val_loss: 0.0152 - val_acc: 0.0000e+00\n",
      "Epoch 296/300\n",
      "622/622 [==============================] - 1s 1ms/step - loss: 0.0125 - acc: 0.0016 - val_loss: 0.0152 - val_acc: 0.0000e+00\n",
      "Epoch 297/300\n",
      "622/622 [==============================] - 1s 1ms/step - loss: 0.0128 - acc: 0.0016 - val_loss: 0.0157 - val_acc: 0.0000e+00\n",
      "Epoch 298/300\n",
      "622/622 [==============================] - 1s 1ms/step - loss: 0.0122 - acc: 0.0016 - val_loss: 0.0156 - val_acc: 0.0000e+00\n",
      "Epoch 299/300\n",
      "622/622 [==============================] - 1s 1ms/step - loss: 0.0128 - acc: 0.0016 - val_loss: 0.0164 - val_acc: 0.0000e+00\n",
      "Epoch 300/300\n",
      "622/622 [==============================] - 1s 1ms/step - loss: 0.0132 - acc: 0.0016 - val_loss: 0.0159 - val_acc: 0.0000e+00\n"
     ]
    },
    {
     "data": {
      "text/plain": [
       "<keras.callbacks.History at 0x7fc2e5a033c8>"
      ]
     },
     "execution_count": 43,
     "metadata": {},
     "output_type": "execute_result"
    }
   ],
   "source": [
    "model.fit(\n",
    "    X_train,\n",
    "    y_train,\n",
    "    batch_size=512,\n",
    "    epochs=epochs,\n",
    "    validation_split=0.1,\n",
    "    verbose=1)"
   ]
  },
  {
   "cell_type": "markdown",
   "metadata": {
    "slideshow": {
     "slide_type": "slide"
    }
   },
   "source": [
    "** 查看成绩 **"
   ]
  },
  {
   "cell_type": "code",
   "execution_count": 44,
   "metadata": {
    "collapsed": true,
    "slideshow": {
     "slide_type": "fragment"
    }
   },
   "outputs": [],
   "source": [
    "def model_score(model, X_train, y_train, X_test, y_test):\n",
    "    trainScore = model.evaluate(X_train, y_train, verbose=0)\n",
    "    print('Train Score: %.5f MSE (%.2f RMSE)' % (trainScore[0], math.sqrt(trainScore[0])))\n",
    "\n",
    "    testScore = model.evaluate(X_test, y_test, verbose=0)\n",
    "    print('Test Score: %.5f MSE (%.2f RMSE)' % (testScore[0], math.sqrt(testScore[0])))\n",
    "    return trainScore[0], testScore[0]"
   ]
  },
  {
   "cell_type": "code",
   "execution_count": 45,
   "metadata": {
    "slideshow": {
     "slide_type": "fragment"
    }
   },
   "outputs": [
    {
     "name": "stdout",
     "output_type": "stream",
     "text": [
      "Train Score: 0.01199 MSE (0.11 RMSE)\n",
      "Test Score: 0.01360 MSE (0.12 RMSE)\n"
     ]
    },
    {
     "data": {
      "text/plain": [
       "(0.011987031448223343, 0.013604858986936606)"
      ]
     },
     "execution_count": 45,
     "metadata": {},
     "output_type": "execute_result"
    }
   ],
   "source": [
    "model_score(model, X_train, y_train, X_test, y_test)"
   ]
  },
  {
   "cell_type": "markdown",
   "metadata": {
    "slideshow": {
     "slide_type": "slide"
    }
   },
   "source": [
    "** 模型预测 **"
   ]
  },
  {
   "cell_type": "code",
   "execution_count": 46,
   "metadata": {
    "collapsed": true,
    "slideshow": {
     "slide_type": "fragment"
    }
   },
   "outputs": [],
   "source": [
    "def percentage_difference(model, X_test, y_test):\n",
    "    percentage_diff=[]\n",
    "\n",
    "    p = model.predict(X_test)\n",
    "    for u in range(len(y_test)): # for each data index in test data\n",
    "        pr = p[u][0] # pr = prediction on day u\n",
    "\n",
    "        percentage_diff.append((pr-y_test[u]/pr)*100)\n",
    "    return p"
   ]
  },
  {
   "cell_type": "code",
   "execution_count": 49,
   "metadata": {
    "collapsed": true,
    "slideshow": {
     "slide_type": "fragment"
    }
   },
   "outputs": [],
   "source": [
    "p = percentage_difference(model, X_test, y_test)"
   ]
  },
  {
   "cell_type": "markdown",
   "metadata": {
    "slideshow": {
     "slide_type": "slide"
    }
   },
   "source": [
    "## 画出预测"
   ]
  },
  {
   "cell_type": "code",
   "execution_count": 53,
   "metadata": {
    "slideshow": {
     "slide_type": "fragment"
    }
   },
   "outputs": [
    {
     "name": "stderr",
     "output_type": "stream",
     "text": [
      "/home/htfeng/anaconda3/lib/python3.6/site-packages/sklearn/preprocessing/data.py:374: DeprecationWarning: Passing 1d arrays as data is deprecated in 0.17 and will raise ValueError in 0.19. Reshape your data either using X.reshape(-1, 1) if your data has a single feature or X.reshape(1, -1) if it contains a single sample.\n",
      "  warnings.warn(DEPRECATION_MSG_1D, DeprecationWarning)\n"
     ]
    },
    {
     "data": {
      "image/png": "[encoded data removed]",
      "text/plain": [
       "<matplotlib.figure.Figure at 0x7fc2ead89748>"
      ]
     },
     "metadata": {},
     "output_type": "display_data"
    }
   ],
   "source": [
    "import matplotlib.pyplot as plt2\n",
    "newp = min_max_scaler.inverse_transform(p)\n",
    "newy_test = min_max_scaler.inverse_transform(y_test)\n",
    "plt2.plot(newp, color='red', label='Prediction')\n",
    "plt2.plot(newy_test,color='blue', label='Actual')\n",
    "plt2.legend(loc='best')\n",
    "plt2.title('The test result for {}'.format(df.SOI.name))\n",
    "plt2.xlabel('Days')\n",
    "plt2.ylabel('Adjusted Close')\n",
    "plt2.show()"
   ]
  },
  {
   "cell_type": "code",
   "execution_count": 58,
   "metadata": {
    "slideshow": {
     "slide_type": "skip"
    }
   },
   "outputs": [
    {
     "data": {
      "text/plain": [
       "array([[ 0.29806727],\n",
       "       [ 0.70551831],\n",
       "       [ 1.01686919],\n",
       "       [ 1.26270843],\n",
       "       [ 1.33758783],\n",
       "       [ 1.27755749],\n",
       "       [ 1.42857039],\n",
       "       [ 1.50486743],\n",
       "       [ 1.61121464],\n",
       "       [ 1.66706276]], dtype=float32)"
      ]
     },
     "execution_count": 58,
     "metadata": {},
     "output_type": "execute_result"
    }
   ],
   "source": [
    "newp[:10]"
   ]
  },
  {
   "cell_type": "code",
   "execution_count": 59,
   "metadata": {
    "slideshow": {
     "slide_type": "skip"
    }
   },
   "outputs": [
    {
     "data": {
      "text/plain": [
       "array([ 1.8,  1.8,  2.2,  1.7,  1.3,  2.9,  2.3,  2.7,  2.5,  1.9])"
      ]
     },
     "execution_count": 59,
     "metadata": {},
     "output_type": "execute_result"
    }
   ],
   "source": [
    "newy_test[:10]"
   ]
  },
  {
   "cell_type": "code",
   "execution_count": null,
   "metadata": {
    "collapsed": true,
    "slideshow": {
     "slide_type": "skip"
    }
   },
   "outputs": [],
   "source": []
  }
 ],
 "metadata": {
  "celltoolbar": "Slideshow",
  "kernelspec": {
   "display_name": "Python 3",
   "language": "python",
   "name": "python3"
  },
  "language_info": {
   "codemirror_mode": {
    "name": "ipython",
    "version": 3
   },
   "file_extension": ".py",
   "mimetype": "text/x-python",
   "name": "python",
   "nbconvert_exporter": "python",
   "pygments_lexer": "ipython3",
   "version": "3.6.1"
  }
 },
 "nbformat": 4,
 "nbformat_minor": 2
}
