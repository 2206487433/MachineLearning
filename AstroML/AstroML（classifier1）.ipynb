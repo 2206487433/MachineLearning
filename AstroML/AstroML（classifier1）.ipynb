{
 "cells": [
  {
   "cell_type": "markdown",
   "metadata": {
    "slideshow": {
     "slide_type": "slide"
    }
   },
   "source": [
    "# 机器学习在天文学上的应用（分类)\n",
    "\n",
    "- 从不可变主序列恒星中分离可变的RR Lyrae恒星"
   ]
  },
  {
   "cell_type": "markdown",
   "metadata": {
    "slideshow": {
     "slide_type": "slide"
    }
   },
   "source": [
    "** 导入模块 **"
   ]
  },
  {
   "cell_type": "code",
   "execution_count": 41,
   "metadata": {
    "collapsed": true,
    "slideshow": {
     "slide_type": "fragment"
    }
   },
   "outputs": [],
   "source": [
    "import numpy as np\n",
    "from matplotlib import pyplot as plt\n",
    "import pandas as pd\n",
    "from astropy.io import fits \n",
    "\n",
    "from sklearn.neighbors import KNeighborsClassifier\n",
    "from sklearn.naive_bayes import GaussianNB, BernoulliNB, MultinomialNB\n",
    "from sklearn.tree import DecisionTreeClassifier\n",
    "from sklearn.linear_model import LogisticRegression\n",
    "from sklearn.ensemble import RandomForestClassifier\n",
    "from sklearn.svm import SVC\n",
    "\n",
    "import time\n",
    "\n",
    "#warnings\n",
    "import warnings\n",
    "warnings.filterwarnings('ignore')"
   ]
  },
  {
   "cell_type": "markdown",
   "metadata": {
    "slideshow": {
     "slide_type": "slide"
    }
   },
   "source": [
    "** 加载数据 **"
   ]
  },
  {
   "cell_type": "code",
   "execution_count": 42,
   "metadata": {
    "collapsed": true,
    "slideshow": {
     "slide_type": "fragment"
    }
   },
   "outputs": [],
   "source": [
    "hdulist = fits.open('../DATA/RRlyrae.fit')\n",
    "rrlyrae = np.asarray(hdulist[1].data)\n",
    "standards = np.load('../DATA/sdss_S82standards.npy')"
   ]
  },
  {
   "cell_type": "markdown",
   "metadata": {
    "slideshow": {
     "slide_type": "slide"
    }
   },
   "source": [
    "**数据预处理 **"
   ]
  },
  {
   "cell_type": "code",
   "execution_count": 43,
   "metadata": {
    "collapsed": true,
    "slideshow": {
     "slide_type": "fragment"
    }
   },
   "outputs": [],
   "source": [
    "u_g = standards['mmu_u'] - standards['mmu_g']\n",
    "g_r = standards['mmu_g'] - standards['mmu_r']\n",
    "r_i = standards['mmu_r'] - standards['mmu_i']\n",
    "i_z = standards['mmu_i'] - standards['mmu_z']"
   ]
  },
  {
   "cell_type": "code",
   "execution_count": 44,
   "metadata": {
    "collapsed": true,
    "slideshow": {
     "slide_type": "fragment"
    }
   },
   "outputs": [],
   "source": [
    "standards = standards[(u_g > 0.7) & (u_g < 1.35) &\n",
    "                      (g_r > -0.15) & (g_r < 0.4) &\n",
    "                      (r_i > -0.15) & (r_i < 0.22) &\n",
    "                      (i_z > -0.21) & (i_z < 0.25)]"
   ]
  },
  {
   "cell_type": "code",
   "execution_count": 53,
   "metadata": {
    "collapsed": true,
    "slideshow": {
     "slide_type": "fragment"
    }
   },
   "outputs": [],
   "source": [
    "standards = standards[:1000]"
   ]
  },
  {
   "cell_type": "markdown",
   "metadata": {
    "slideshow": {
     "slide_type": "slide"
    }
   },
   "source": [
    "**数据预处理 **"
   ]
  },
  {
   "cell_type": "code",
   "execution_count": 54,
   "metadata": {
    "collapsed": true,
    "slideshow": {
     "slide_type": "fragment"
    }
   },
   "outputs": [],
   "source": [
    "# get magnitudes and colors; split into train and test sets\n",
    "\n",
    "mags_rr = np.vstack([rrlyrae[f + 'mag'] for f in 'ugriz'])\n",
    "colors_rr = mags_rr[:-1] - mags_rr[1:]\n",
    "\n",
    "mags_st = np.vstack([standards['mmu_' + f] for f in 'ugriz'])\n",
    "colors_st = mags_st[:-1] - mags_st[1:]"
   ]
  },
  {
   "cell_type": "code",
   "execution_count": 55,
   "metadata": {
    "collapsed": true,
    "slideshow": {
     "slide_type": "fragment"
    }
   },
   "outputs": [],
   "source": [
    "# stack the two sets of colors together\n",
    "X = np.vstack((colors_st.T, colors_rr.T))\n",
    "y = np.zeros(X.shape[0])\n",
    "y[-colors_rr.shape[1]:] = 1\n",
    "y = y.astype(int)"
   ]
  },
  {
   "cell_type": "code",
   "execution_count": 56,
   "metadata": {
    "slideshow": {
     "slide_type": "fragment"
    }
   },
   "outputs": [
    {
     "data": {
      "text/plain": [
       "1483"
      ]
     },
     "execution_count": 56,
     "metadata": {},
     "output_type": "execute_result"
    }
   ],
   "source": [
    "X.shape[0]"
   ]
  },
  {
   "cell_type": "code",
   "execution_count": 57,
   "metadata": {
    "slideshow": {
     "slide_type": "fragment"
    }
   },
   "outputs": [
    {
     "data": {
      "text/plain": [
       "[2, 3, 1, 0]"
      ]
     },
     "execution_count": 57,
     "metadata": {},
     "output_type": "execute_result"
    }
   ],
   "source": [
    "# np.random.RandomState函数\n",
    "indices=[0,1,2,3]\n",
    "np.random.RandomState(0).shuffle(indices)\n",
    "indices"
   ]
  },
  {
   "cell_type": "markdown",
   "metadata": {
    "slideshow": {
     "slide_type": "slide"
    }
   },
   "source": [
    "** 训练集和测试集**"
   ]
  },
  {
   "cell_type": "code",
   "execution_count": 58,
   "metadata": {
    "collapsed": true,
    "slideshow": {
     "slide_type": "fragment"
    }
   },
   "outputs": [],
   "source": [
    "def split_samples(X, y, fractions=[0.75, 0.25], random_state=0):\n",
    "    X = np.asarray(X)\n",
    "    y = np.asarray(y)\n",
    "\n",
    "    if X.shape[0] != y.shape[0]:\n",
    "        raise ValueError(\"X and y should have the same leading dimension\")\n",
    "    n_samples = X.shape[0]\n",
    "\n",
    "    fractions = np.asarray(fractions).ravel().cumsum()\n",
    "    fractions /= fractions[-1]\n",
    "    fractions *= n_samples\n",
    "    N = np.concatenate([[0], fractions.astype(int)])\n",
    "    N[-1] = n_samples  # in case of roundoff errors\n",
    "\n",
    "    random_state = np.random.RandomState(random_state)\n",
    "    indices = np.arange(len(y))\n",
    "    random_state.shuffle(indices)\n",
    "\n",
    "    X_divisions = tuple(X[indices[N[i]:N[i + 1]]]\n",
    "                        for i in range(len(fractions)))\n",
    "    y_divisions = tuple(y[indices[N[i]:N[i + 1]]]\n",
    "                        for i in range(len(fractions)))\n",
    "\n",
    "    return X_divisions, y_divisions"
   ]
  },
  {
   "cell_type": "code",
   "execution_count": 59,
   "metadata": {
    "collapsed": true,
    "slideshow": {
     "slide_type": "fragment"
    }
   },
   "outputs": [],
   "source": [
    "#N = len(y)\n",
    "#Ntrain = int(N*0.75)\n",
    "#X_train = X[:Ntrain]\n",
    "#y_train = y[:Ntrain]\n",
    "\n",
    "#X_test = X[Ntrain:]\n",
    "#y_test = y[Ntrain:]\n",
    "(X_train, X_test), (y_train, y_test) = split_samples(X, y, [0.75, 0.25], random_state=0)"
   ]
  },
  {
   "cell_type": "markdown",
   "metadata": {
    "slideshow": {
     "slide_type": "slide"
    }
   },
   "source": [
    "** 计数 **"
   ]
  },
  {
   "cell_type": "code",
   "execution_count": 61,
   "metadata": {
    "slideshow": {
     "slide_type": "fragment"
    }
   },
   "outputs": [
    {
     "name": "stdout",
     "output_type": "stream",
     "text": [
      "[(0, 1000), (1, 483)]\n"
     ]
    }
   ],
   "source": [
    "from  collections import Counter\n",
    "import operator\n",
    "#进行统计\n",
    "a = dict(Counter(y))\n",
    "#进行排序\n",
    "b= sorted(a.items(), key=operator.itemgetter(1),reverse=True)\n",
    "print(b)"
   ]
  },
  {
   "cell_type": "code",
   "execution_count": 62,
   "metadata": {
    "collapsed": true,
    "slideshow": {
     "slide_type": "fragment"
    }
   },
   "outputs": [],
   "source": [
    "N_tot = len(y)\n",
    "N_st = np.sum(y == 0)\n",
    "N_rr = N_tot - N_st\n",
    "N_train = len(y_train)\n",
    "N_test = len(y_test)\n",
    "N_plot = 5000 + N_rr"
   ]
  },
  {
   "cell_type": "markdown",
   "metadata": {
    "slideshow": {
     "slide_type": "slide"
    }
   },
   "source": [
    "** 训练模型 **"
   ]
  },
  {
   "cell_type": "code",
   "execution_count": 63,
   "metadata": {
    "slideshow": {
     "slide_type": "fragment"
    }
   },
   "outputs": [
    {
     "data": {
      "text/plain": [
       "RandomForestClassifier(bootstrap=True, class_weight=None, criterion='gini',\n",
       "            max_depth=None, max_features='auto', max_leaf_nodes=None,\n",
       "            min_impurity_split=1e-07, min_samples_leaf=1,\n",
       "            min_samples_split=2, min_weight_fraction_leaf=0.0,\n",
       "            n_estimators=100, n_jobs=1, oob_score=False, random_state=33,\n",
       "            verbose=0, warm_start=False)"
      ]
     },
     "execution_count": 63,
     "metadata": {},
     "output_type": "execute_result"
    }
   ],
   "source": [
    "clf = RandomForestClassifier(n_estimators=100,random_state=33)\n",
    "clf.fit(X_train, y_train)"
   ]
  },
  {
   "cell_type": "markdown",
   "metadata": {
    "slideshow": {
     "slide_type": "slide"
    }
   },
   "source": [
    "** 模型预测 **"
   ]
  },
  {
   "cell_type": "code",
   "execution_count": 64,
   "metadata": {
    "collapsed": true,
    "slideshow": {
     "slide_type": "fragment"
    }
   },
   "outputs": [],
   "source": [
    "y_probs = clf.predict(X_test)"
   ]
  },
  {
   "cell_type": "markdown",
   "metadata": {
    "slideshow": {
     "slide_type": "slide"
    }
   },
   "source": [
    "** 结果 **"
   ]
  },
  {
   "cell_type": "code",
   "execution_count": 65,
   "metadata": {
    "slideshow": {
     "slide_type": "fragment"
    }
   },
   "outputs": [
    {
     "name": "stdout",
     "output_type": "stream",
     "text": [
      "361 of 371 test values correct.\n",
      "test accuracy: 0.973046\n"
     ]
    }
   ],
   "source": [
    "sum = 0\n",
    "for a, y in zip(y_probs, y_test):\n",
    "    if a == y:\n",
    "        sum = sum + 1\n",
    "print (\"%s of %s test values correct.\\ntest accuracy: %f\" % (sum, len(y_test), sum / len(y_test)))"
   ]
  },
  {
   "cell_type": "markdown",
   "metadata": {
    "slideshow": {
     "slide_type": "slide"
    }
   },
   "source": [
    "** 不同模型预测 **"
   ]
  },
  {
   "cell_type": "code",
   "execution_count": 66,
   "metadata": {
    "collapsed": true,
    "slideshow": {
     "slide_type": "fragment"
    }
   },
   "outputs": [],
   "source": [
    "# Fit all the models to the training data\n",
    "def compute_models(*args):\n",
    "    names = []\n",
    "    probs = []\n",
    "    for classifier, kwargs in args:\n",
    "        clf = classifier(**kwargs)\n",
    "        clf.fit(X_train, y_train)\n",
    "        y_probs = clf.predict(X_test)\n",
    "\n",
    "        names.append(classifier.__name__)\n",
    "        probs.append(y_probs)\n",
    "\n",
    "    return names, probs"
   ]
  },
  {
   "cell_type": "code",
   "execution_count": 67,
   "metadata": {
    "collapsed": true,
    "slideshow": {
     "slide_type": "fragment"
    }
   },
   "outputs": [],
   "source": [
    "names, probs = compute_models((SVC, dict(C=1000.0, kernel='rbf')),\n",
    "                              (LogisticRegression, dict(class_weight='auto')),\n",
    "                              (KNeighborsClassifier, dict(n_neighbors=10)),\n",
    "                              (DecisionTreeClassifier, dict(random_state=0, max_depth=12, criterion='entropy')),\n",
    "                              (GaussianNB, {}),\n",
    "                              (RandomForestClassifier, dict(n_estimators=1000,random_state=33)))\n"
   ]
  },
  {
   "cell_type": "markdown",
   "metadata": {
    "slideshow": {
     "slide_type": "slide"
    }
   },
   "source": [
    "** 结果**"
   ]
  },
  {
   "cell_type": "code",
   "execution_count": 68,
   "metadata": {
    "collapsed": true,
    "slideshow": {
     "slide_type": "fragment"
    }
   },
   "outputs": [],
   "source": [
    "def result(names, probs):\n",
    "    for i in range(len(names)):\n",
    "        sum = 0\n",
    "        for a, y in zip(probs[i], y_test):\n",
    "            if a == y:\n",
    "                sum = sum + 1\n",
    "        print (\"%s:\\n %s of %s test values correct.\\ntest accuracy: %f\\n\" % (names[i], sum, len(y_test), sum / len(y_test)))    "
   ]
  },
  {
   "cell_type": "code",
   "execution_count": 69,
   "metadata": {
    "slideshow": {
     "slide_type": "fragment"
    }
   },
   "outputs": [
    {
     "name": "stdout",
     "output_type": "stream",
     "text": [
      "SVC:\n",
      " 360 of 371 test values correct.\n",
      "test accuracy: 0.970350\n",
      "\n",
      "LogisticRegression:\n",
      " 360 of 371 test values correct.\n",
      "test accuracy: 0.970350\n",
      "\n",
      "KNeighborsClassifier:\n",
      " 360 of 371 test values correct.\n",
      "test accuracy: 0.970350\n",
      "\n",
      "DecisionTreeClassifier:\n",
      " 360 of 371 test values correct.\n",
      "test accuracy: 0.970350\n",
      "\n",
      "GaussianNB:\n",
      " 359 of 371 test values correct.\n",
      "test accuracy: 0.967655\n",
      "\n",
      "RandomForestClassifier:\n",
      " 361 of 371 test values correct.\n",
      "test accuracy: 0.973046\n",
      "\n"
     ]
    }
   ],
   "source": [
    "result(names, probs)"
   ]
  },
  {
   "cell_type": "code",
   "execution_count": null,
   "metadata": {
    "collapsed": true
   },
   "outputs": [],
   "source": []
  }
 ],
 "metadata": {
  "celltoolbar": "Slideshow",
  "kernelspec": {
   "display_name": "Python 3",
   "language": "python",
   "name": "python3"
  },
  "language_info": {
   "codemirror_mode": {
    "name": "ipython",
    "version": 3
   },
   "file_extension": ".py",
   "mimetype": "text/x-python",
   "name": "python",
   "nbconvert_exporter": "python",
   "pygments_lexer": "ipython3",
   "version": "3.6.1"
  }
 },
 "nbformat": 4,
 "nbformat_minor": 2
}
