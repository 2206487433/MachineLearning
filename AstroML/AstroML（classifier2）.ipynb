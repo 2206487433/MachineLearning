{
 "cells": [
  {
   "cell_type": "markdown",
   "metadata": {
    "slideshow": {
     "slide_type": "slide"
    }
   },
   "source": [
    "# 机器学习在天文学上的应用（分类)\n",
    "\n",
    "- 恒星与类星体分类"
   ]
  },
  {
   "cell_type": "markdown",
   "metadata": {
    "slideshow": {
     "slide_type": "slide"
    }
   },
   "source": [
    "** 导入模块 **"
   ]
  },
  {
   "cell_type": "code",
   "execution_count": 3,
   "metadata": {
    "collapsed": true,
    "slideshow": {
     "slide_type": "fragment"
    }
   },
   "outputs": [],
   "source": [
    "import numpy as np\n",
    "from matplotlib import pyplot as plt\n",
    "import pandas as pd\n",
    "from astropy.io import fits \n",
    "\n",
    "from sklearn.metrics import roc_curve\n",
    "from sklearn.neighbors import KNeighborsClassifier\n",
    "from sklearn.naive_bayes import GaussianNB, BernoulliNB, MultinomialNB\n",
    "from sklearn.tree import DecisionTreeClassifier\n",
    "from sklearn.linear_model import LogisticRegression\n",
    "from sklearn.ensemble import RandomForestClassifier\n",
    "from sklearn.svm import SVC\n",
    "\n",
    "import time\n",
    "\n",
    "#warnings\n",
    "import warnings\n",
    "warnings.filterwarnings('ignore')"
   ]
  },
  {
   "cell_type": "markdown",
   "metadata": {
    "slideshow": {
     "slide_type": "slide"
    }
   },
   "source": [
    "** 加载数据 **"
   ]
  },
  {
   "cell_type": "code",
   "execution_count": 8,
   "metadata": {
    "collapsed": true,
    "slideshow": {
     "slide_type": "fragment"
    }
   },
   "outputs": [],
   "source": [
    "quasars = np.load('../DATA/dr7_quasar.npy')\n",
    "hdulist = fits.open('../DATA/SDSSssppDR9_rerun122.fit')\n",
    "stars = np.asarray(hdulist[1].data)"
   ]
  },
  {
   "cell_type": "code",
   "execution_count": 9,
   "metadata": {
    "collapsed": true,
    "slideshow": {
     "slide_type": "fragment"
    }
   },
   "outputs": [],
   "source": [
    "# Truncate data for speed\n",
    "quasars = quasars[::5]\n",
    "stars = stars[::5]"
   ]
  },
  {
   "cell_type": "code",
   "execution_count": 46,
   "metadata": {
    "collapsed": true,
    "slideshow": {
     "slide_type": "skip"
    }
   },
   "outputs": [],
   "source": [
    "#quasars"
   ]
  },
  {
   "cell_type": "code",
   "execution_count": 47,
   "metadata": {
    "collapsed": true,
    "slideshow": {
     "slide_type": "skip"
    }
   },
   "outputs": [],
   "source": [
    "#stars"
   ]
  },
  {
   "cell_type": "markdown",
   "metadata": {
    "slideshow": {
     "slide_type": "slide"
    }
   },
   "source": [
    "** 数据预处理 **"
   ]
  },
  {
   "cell_type": "code",
   "execution_count": 48,
   "metadata": {
    "collapsed": true,
    "slideshow": {
     "slide_type": "fragment"
    }
   },
   "outputs": [],
   "source": [
    "Nqso = len(quasars)\n",
    "Nstars = len(stars)"
   ]
  },
  {
   "cell_type": "code",
   "execution_count": 49,
   "metadata": {
    "collapsed": true,
    "slideshow": {
     "slide_type": "fragment"
    }
   },
   "outputs": [],
   "source": [
    "X = np.empty((Nqso + Nstars, 4), dtype=float)\n",
    "\n",
    "X[:Nqso, 0] = quasars['mag_u'] - quasars['mag_g']\n",
    "X[:Nqso, 1] = quasars['mag_g'] - quasars['mag_r']\n",
    "X[:Nqso, 2] = quasars['mag_r'] - quasars['mag_i']\n",
    "X[:Nqso, 3] = quasars['mag_i'] - quasars['mag_z']\n",
    "\n",
    "X[Nqso:, 0] = stars['upsf'] - stars['gpsf']\n",
    "X[Nqso:, 1] = stars['gpsf'] - stars['rpsf']\n",
    "X[Nqso:, 2] = stars['rpsf'] - stars['ipsf']\n",
    "X[Nqso:, 3] = stars['ipsf'] - stars['zpsf']"
   ]
  },
  {
   "cell_type": "code",
   "execution_count": 50,
   "metadata": {
    "collapsed": true,
    "slideshow": {
     "slide_type": "fragment"
    }
   },
   "outputs": [],
   "source": [
    "y = np.zeros(Nqso + Nstars, dtype=int)\n",
    "y[:Nqso] = 1"
   ]
  },
  {
   "cell_type": "markdown",
   "metadata": {
    "slideshow": {
     "slide_type": "slide"
    }
   },
   "source": [
    "** 训练集和测试集**"
   ]
  },
  {
   "cell_type": "code",
   "execution_count": 13,
   "metadata": {
    "collapsed": true,
    "slideshow": {
     "slide_type": "fragment"
    }
   },
   "outputs": [],
   "source": [
    "def split_samples(X, y, fractions=[0.75, 0.25], random_state=0):\n",
    "    X = np.asarray(X)\n",
    "    y = np.asarray(y)\n",
    "\n",
    "    if X.shape[0] != y.shape[0]:\n",
    "        raise ValueError(\"X and y should have the same leading dimension\")\n",
    "    n_samples = X.shape[0]\n",
    "\n",
    "    fractions = np.asarray(fractions).ravel().cumsum()\n",
    "    fractions /= fractions[-1]\n",
    "    fractions *= n_samples\n",
    "    N = np.concatenate([[0], fractions.astype(int)])\n",
    "    N[-1] = n_samples  # in case of roundoff errors\n",
    "\n",
    "    random_state = np.random.RandomState(random_state)\n",
    "    indices = np.arange(len(y))\n",
    "    random_state.shuffle(indices)\n",
    "\n",
    "    X_divisions = tuple(X[indices[N[i]:N[i + 1]]]\n",
    "                        for i in range(len(fractions)))\n",
    "    y_divisions = tuple(y[indices[N[i]:N[i + 1]]]\n",
    "                        for i in range(len(fractions)))\n",
    "\n",
    "    return X_divisions, y_divisions"
   ]
  },
  {
   "cell_type": "code",
   "execution_count": 14,
   "metadata": {
    "collapsed": true,
    "slideshow": {
     "slide_type": "fragment"
    }
   },
   "outputs": [],
   "source": [
    "# split into training and test sets\n",
    "(X_train, X_test), (y_train, y_test) = split_samples(X, y, [0.9, 0.1],\n",
    "                                                     random_state=0)"
   ]
  },
  {
   "cell_type": "markdown",
   "metadata": {
    "slideshow": {
     "slide_type": "slide"
    }
   },
   "source": [
    "** 训练模型 **"
   ]
  },
  {
   "cell_type": "code",
   "execution_count": 54,
   "metadata": {
    "collapsed": true,
    "slideshow": {
     "slide_type": "fragment"
    }
   },
   "outputs": [],
   "source": [
    "# Compute fits for all the classifiers\n",
    "def compute_models(*args):\n",
    "    names = []\n",
    "    probs = []\n",
    "\n",
    "    for classifier, kwargs in args:\n",
    "        model = classifier(**kwargs)\n",
    "        model.fit(X, y)\n",
    "        y_prob = model.predict(X_test)\n",
    "\n",
    "        names.append(classifier.__name__)\n",
    "        probs.append(y_prob)\n",
    "\n",
    "    return names, probs"
   ]
  },
  {
   "cell_type": "markdown",
   "metadata": {
    "slideshow": {
     "slide_type": "slide"
    }
   },
   "source": [
    "** 模型预测 **"
   ]
  },
  {
   "cell_type": "code",
   "execution_count": 55,
   "metadata": {
    "collapsed": true,
    "slideshow": {
     "slide_type": "fragment"
    }
   },
   "outputs": [],
   "source": [
    "LRclass_weight = dict([(i, np.sum(y_train == i)) for i in (0, 1)])\n",
    "\n",
    "names, probs = compute_models((SVC, dict(C=1000.0, kernel='rbf')),\n",
    "                              (LogisticRegression, dict(class_weight=LRclass_weight)),\n",
    "                              (KNeighborsClassifier, dict(n_neighbors=10)),\n",
    "                              (DecisionTreeClassifier, dict(random_state=0, max_depth=12, criterion='entropy')),\n",
    "                              (GaussianNB, {}),\n",
    "                              (RandomForestClassifier, dict(n_estimators=1000,random_state=33)))\n"
   ]
  },
  {
   "cell_type": "markdown",
   "metadata": {
    "slideshow": {
     "slide_type": "slide"
    }
   },
   "source": [
    "** 画图 **"
   ]
  },
  {
   "cell_type": "code",
   "execution_count": 56,
   "metadata": {
    "slideshow": {
     "slide_type": "fragment"
    }
   },
   "outputs": [
    {
     "data": {
      "image/png": "[encoded data removed]",
      "text/plain": [
       "<matplotlib.figure.Figure at 0x1648eae9860>"
      ]
     },
     "metadata": {},
     "output_type": "display_data"
    }
   ],
   "source": [
    "# Plot results\n",
    "fig = plt.figure(figsize=(10, 5))\n",
    "fig.subplots_adjust(left=0.1, right=0.95, bottom=0.15, top=0.9, wspace=0.25)\n",
    "\n",
    "# First axis shows the data\n",
    "ax1 = fig.add_subplot(121)\n",
    "im = ax1.scatter(X_test[:, 0], X_test[:, 1], c=y_test, s=4,\n",
    "                 linewidths=0, edgecolors='none',\n",
    "                 cmap=plt.cm.binary)\n",
    "im.set_clim(-0.5, 1)\n",
    "ax1.set_xlim(-0.5, 3.0)\n",
    "ax1.set_ylim(-0.3, 1.4)\n",
    "ax1.set_xlabel('$u - g$')\n",
    "ax1.set_ylabel('$g - r$')\n",
    "\n",
    "\n",
    "plt.show()"
   ]
  },
  {
   "cell_type": "markdown",
   "metadata": {
    "slideshow": {
     "slide_type": "slide"
    }
   },
   "source": [
    "** 结果 **"
   ]
  },
  {
   "cell_type": "code",
   "execution_count": 57,
   "metadata": {
    "collapsed": true,
    "slideshow": {
     "slide_type": "fragment"
    }
   },
   "outputs": [],
   "source": [
    "def result(names, probs):\n",
    "    for i in range(len(names)):\n",
    "        sum = 0\n",
    "        for a, y in zip(probs[i], y_test):\n",
    "            if a == y:\n",
    "                sum = sum + 1\n",
    "        print (\"%s:\\n %s of %s test values correct.\\ntest accuracy: %f\\n\" % (names[i], sum, len(y_test), sum / len(y_test))) "
   ]
  },
  {
   "cell_type": "code",
   "execution_count": 58,
   "metadata": {
    "slideshow": {
     "slide_type": "fragment"
    }
   },
   "outputs": [
    {
     "name": "stdout",
     "output_type": "stream",
     "text": [
      "SVC:\n",
      " 8587 of 8661 test values correct.\n",
      "test accuracy: 0.991456\n",
      "\n",
      "LogisticRegression:\n",
      " 8167 of 8661 test values correct.\n",
      "test accuracy: 0.942963\n",
      "\n",
      "KNeighborsClassifier:\n",
      " 8593 of 8661 test values correct.\n",
      "test accuracy: 0.992149\n",
      "\n",
      "DecisionTreeClassifier:\n",
      " 8608 of 8661 test values correct.\n",
      "test accuracy: 0.993881\n",
      "\n",
      "GaussianNB:\n",
      " 8057 of 8661 test values correct.\n",
      "test accuracy: 0.930262\n",
      "\n",
      "RandomForestClassifier:\n",
      " 8661 of 8661 test values correct.\n",
      "test accuracy: 1.000000\n",
      "\n"
     ]
    }
   ],
   "source": [
    "result(names, probs)"
   ]
  }
 ],
 "metadata": {
  "celltoolbar": "Slideshow",
  "kernelspec": {
   "display_name": "Python 3",
   "language": "python",
   "name": "python3"
  },
  "language_info": {
   "codemirror_mode": {
    "name": "ipython",
    "version": 3
   },
   "file_extension": ".py",
   "mimetype": "text/x-python",
   "name": "python",
   "nbconvert_exporter": "python",
   "pygments_lexer": "ipython3",
   "version": "3.6.1"
  }
 },
 "nbformat": 4,
 "nbformat_minor": 2
}
