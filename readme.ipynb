{
 "cells": [
  {
   "cell_type": "markdown",
   "metadata": {
    "slideshow": {
     "slide_type": "slide"
    }
   },
   "source": [
    "# AI+ASTRON：机器学习、深度学习在天文学中应用"
   ]
  },
  {
   "cell_type": "markdown",
   "metadata": {
    "slideshow": {
     "slide_type": "slide"
    }
   },
   "source": [
    "## 第1篇  人工智能的前生\n",
    "\n",
    "- 从统计讲起\n",
    "\n",
    "- 从概率讲起"
   ]
  },
  {
   "cell_type": "markdown",
   "metadata": {
    "slideshow": {
     "slide_type": "slide"
    }
   },
   "source": [
    "## 第2篇 机器学习\n",
    "\n",
    "- 机器学习综述\n",
    "\n",
    "- [KNN算法](KNN/KNN算法.ipynb)\n",
    "\n",
    "- [逻辑回归（Logistic Regression）](LogisticRegression/逻辑回归（Logistic Regression）.ipynb)\n",
    "\n",
    "- [决策树（Decision Trees）](DT/决策树（Decision Trees）.ipynb)\n",
    "\n",
    "- [随机森林（Random Forests）](RandomForest/随机森林（Random Forests）.ipynb)\n",
    "\n",
    "- [贝叶斯（Bayesian Techniques）](Bayesian/贝叶斯（Bayesian Techniques）.ipynb)\n",
    "\n",
    "- [支持向量机（SVMs）](SVM/支持向量机（SVMs）.ipynb)\n",
    "\n",
    "- [机器学习在天文学中的应用](AstroML/readme.ipynb)\n",
    "\n",
    "- 总结"
   ]
  },
  {
   "cell_type": "markdown",
   "metadata": {
    "slideshow": {
     "slide_type": "slide"
    }
   },
   "source": [
    "## 第3篇 深度学习\n",
    "\n",
    "- 深度学习综述\n",
    "\n",
    "- [神经网络原理及实战](NN/神经网络原理.ipynb)\n",
    "\n",
    "- [卷积神经网络原理及实战](cnn/卷积神经网络原理（CNN）.ipynb)\n",
    "\n",
    "- [循环神经网络原理及实战](RNN/循环神经网络原理（RNN）.ipynb)\n",
    "\n",
    "- [强化学习原理及实战](RL/强化学习原理（RL）.ipynb)\n",
    "\n",
    "- [深度学习在天文学中的应用](AstroML/readme.ipynb)\n",
    "\n",
    "- 总结"
   ]
  },
  {
   "cell_type": "markdown",
   "metadata": {
    "slideshow": {
     "slide_type": "slide"
    }
   },
   "source": [
    "## 第4篇 人工智能的未来\n",
    "\n",
    "- 展望\n",
    "\n",
    "- ASTROML"
   ]
  },
  {
   "cell_type": "code",
   "execution_count": null,
   "metadata": {
    "collapsed": true,
    "slideshow": {
     "slide_type": "skip"
    }
   },
   "outputs": [],
   "source": []
  }
 ],
 "metadata": {
  "celltoolbar": "Slideshow",
  "kernelspec": {
   "display_name": "Python 3",
   "language": "python",
   "name": "python3"
  },
  "language_info": {
   "codemirror_mode": {
    "name": "ipython",
    "version": 3
   },
   "file_extension": ".py",
   "mimetype": "text/x-python",
   "name": "python",
   "nbconvert_exporter": "python",
   "pygments_lexer": "ipython3",
   "version": "3.6.1"
  }
 },
 "nbformat": 4,
 "nbformat_minor": 2
}
