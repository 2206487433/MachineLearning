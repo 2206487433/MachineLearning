{
 "cells": [
  {
   "cell_type": "markdown",
   "metadata": {
    "slideshow": {
     "slide_type": "slide"
    }
   },
   "source": [
    "# 决策树（Decision Trees）\n",
    "\n",
    "构建决策树三个步骤：\n",
    "\n",
    "- 特征选择\n",
    "- 决策数生成\n",
    "- 决策数剪枝"
   ]
  },
  {
   "cell_type": "markdown",
   "metadata": {
    "slideshow": {
     "slide_type": "slide"
    }
   },
   "source": [
    "### 特征选择"
   ]
  },
  {
   "cell_type": "markdown",
   "metadata": {
    "slideshow": {
     "slide_type": "slide"
    }
   },
   "source": [
    "** 熵(entropy) **   \n",
    "\n",
    "熵是表示随机变量不确定性的度量。设X是一个取有限个值的离散随机变量，其概率分布为\n",
    "\n",
    "$P(X=x_i) = p_i, i=1,2,3,...,n$\n"
   ]
  },
  {
   "cell_type": "markdown",
   "metadata": {
    "slideshow": {
     "slide_type": "slide"
    }
   },
   "source": [
    "随机变量的熵定义为:\n",
    "\n",
    "$H(X) = -\\sum_{i=1}^{n} p_ilog(p_i)$\n",
    "\n",
    "熵越大，随机变量的不确定性就越大"
   ]
  },
  {
   "cell_type": "markdown",
   "metadata": {
    "slideshow": {
     "slide_type": "slide"
    }
   },
   "source": [
    "** 条件熵(conditional entropy）  **\n",
    "\n",
    "设有随机变量（X，Y），联合概率分布为：\n",
    "\n",
    "$P(X=x_i，Y=y_i) = p_{ij}, i=1,2,3,...,n; j=1,2,3,...,n$"
   ]
  },
  {
   "cell_type": "markdown",
   "metadata": {
    "slideshow": {
     "slide_type": "slide"
    }
   },
   "source": [
    "条件熵H(Y|X)表示在已知随机变量X的条件下随机变量Y的不确定性。随机变量X给定的条件下随机变量Y的条件熵H(Y|X)，定义为X给定条件下Y的条件概率分布的熵对X的数学期望:\n",
    "\n",
    "$H(Y|X)=\\sum_{i=1}^{n}p_iH(Y|X=x_i)$"
   ]
  },
  {
   "cell_type": "markdown",
   "metadata": {
    "slideshow": {
     "slide_type": "slide"
    }
   },
   "source": [
    "** 信息增益（information gain）（ID3算法） **\n"
   ]
  },
  {
   "cell_type": "markdown",
   "metadata": {
    "slideshow": {
     "slide_type": "slide"
    }
   },
   "source": [
    "信息增益 =  entroy(前) -  entroy(后)"
   ]
  },
  {
   "cell_type": "markdown",
   "metadata": {
    "slideshow": {
     "slide_type": "slide"
    }
   },
   "source": [
    "信息增益表示得知特征X的信息而使得类Y的信息的不确定性减少的程度。特征A对训练数据集D的信息增益g(D,A)，定义为集合D的经验熵H(D)与特征A给定条件下D的经验条件熵H(D|A)之差，即\n",
    "\n",
    "$g(D,A)=H(D)−H(D|A)$"
   ]
  },
  {
   "cell_type": "markdown",
   "metadata": {
    "slideshow": {
     "slide_type": "slide"
    }
   },
   "source": [
    "根据信息增益准则的特征选择方法是：对训练数据集（或子集）计算其每个特征的信息增益，选择信息增益最大的特征。 \n",
    "计算信息增益的算法如下： \n",
    "\n",
    "- 输入：训练数据集D和特征A； \n",
    "- 输出：特征A对训练数据集D的信息增益g(D,A). "
   ]
  },
  {
   "cell_type": "markdown",
   "metadata": {
    "slideshow": {
     "slide_type": "slide"
    }
   },
   "source": [
    "1)计算数据集D的经验熵H(D)\n",
    "\n",
    "$H(D) = -\\sum_{k=1}^{K}\\frac{|C_k|}{D}log_2\\frac{|C_k|}{D}$"
   ]
  },
  {
   "cell_type": "markdown",
   "metadata": {
    "slideshow": {
     "slide_type": "slide"
    }
   },
   "source": [
    "2)计算特征A对数据集D的经验条件熵H(D|A)"
   ]
  },
  {
   "cell_type": "markdown",
   "metadata": {
    "slideshow": {
     "slide_type": "slide"
    }
   },
   "source": [
    "$H(D|A) = \\sum_{i=1}^{n}\\frac{|D_i|}{D}H(D_i) = - \\sum_{i=1}^{n}\\frac{|D_i|}{D}\\sum_{k=1}^{K}\\frac{|D_{ik}|}{D_i}log_2\\frac{|D_{ik}|}{D_i}$"
   ]
  },
  {
   "cell_type": "markdown",
   "metadata": {
    "slideshow": {
     "slide_type": "slide"
    }
   },
   "source": [
    "3)计算信息增益\n",
    "\n",
    "$g(D,A)=H(D)−H(D|A)$"
   ]
  },
  {
   "cell_type": "markdown",
   "metadata": {
    "slideshow": {
     "slide_type": "slide"
    }
   },
   "source": [
    "** 信息增益比（information gain ratio）（C4.5） **\n",
    "\n",
    "特征A对训练数据集D的信息增益比$g_R(D,A)$定义为其信息增益g(D,A)与训练数据集D关于特征A的值的熵$H_A(D)$之比，即"
   ]
  },
  {
   "cell_type": "markdown",
   "metadata": {
    "slideshow": {
     "slide_type": "slide"
    }
   },
   "source": [
    "信息增益比 = 惩罚参数 * 信息增益\n",
    "\n",
    "$g_R(D,A) = \\frac{g(D,A)}{H_A(D)}$     \n",
    "$H_A(D) = -\\sum_{i=1}^{n}\\frac{|D_i|}{D}log_2\\frac{|D_i|}{D}$"
   ]
  },
  {
   "cell_type": "markdown",
   "metadata": {
    "slideshow": {
     "slide_type": "slide"
    }
   },
   "source": [
    "** 基尼指数(CART) **"
   ]
  },
  {
   "cell_type": "markdown",
   "metadata": {
    "slideshow": {
     "slide_type": "slide"
    }
   },
   "source": [
    "基尼指数（基尼不纯度）= 样本被选中的概率 * 样本被分错的概率\n",
    "\n",
    "$Gini(D) = \\sum_{k=1}^{K}D_k(1-D_k) = 1 - \\sum_{k=1}^{K}D_k^2$\n",
    "\n",
    "> $D_k$表示选中的样本属于k类别的概率"
   ]
  },
  {
   "cell_type": "markdown",
   "metadata": {
    "slideshow": {
     "slide_type": "slide"
    }
   },
   "source": [
    "### 决策树生成 \n",
    "\n",
    "两种决策树学习的生成算法：ID3、C4.5和CART"
   ]
  },
  {
   "cell_type": "markdown",
   "metadata": {
    "slideshow": {
     "slide_type": "slide"
    }
   },
   "source": [
    "CART和C4.5的主要区别：\n",
    "\n",
    "- C4.5采用信息增益率来作为分支特征的选择标准，而CART则采用Gini系数；\n",
    "- C4.5不一定是二叉树，但CART一定是二叉树。"
   ]
  },
  {
   "cell_type": "markdown",
   "metadata": {
    "slideshow": {
     "slide_type": "slide"
    }
   },
   "source": [
    "决策树算法：\n",
    "\n",
    "$G(x) = \\sum_{c=1}^{C}[\\![b(x) = c]\\!]\\cdot G_c(x)$\n",
    "\n",
    "> $G(x)$:为完整的树   \n",
    "> $b(x)$: 每个分支的条件   \n",
    "> $G_c(x)$: 表示第c个分支下的子树"
   ]
  },
  {
   "cell_type": "markdown",
   "metadata": {
    "slideshow": {
     "slide_type": "slide"
    }
   },
   "source": [
    "### 决策数剪枝\n",
    "\n",
    "训练出得决策树存在过度拟合现象——决策树过于针对训练的数据，专门针对训练集创建出来的分支，其熵值可能会比真实情况有所降低。"
   ]
  },
  {
   "cell_type": "markdown",
   "metadata": {
    "slideshow": {
     "slide_type": "slide"
    }
   },
   "source": [
    "** 如何剪枝 **\n",
    "\n",
    "人工设置一个信息增益的阀值，自下而上遍历决策树，将信息增益低于该阀值的拆分进行合并\n",
    "\n",
    "决策树的剪枝往往通过极小化决策树整体的损失函数或代价函数来实现。"
   ]
  },
  {
   "cell_type": "markdown",
   "metadata": {
    "slideshow": {
     "slide_type": "slide"
    }
   },
   "source": [
    "设树T的叶结点个数为$|T_f|$，t是树T的叶结点，该叶结点有$D_t$个样本点，其中k类样本点有$D_{tk}$个，k=1,2,…,K,$H(T)$为叶结点t上的经验熵，α≥0为参数，则决策树学习的损失函数可以定义为："
   ]
  },
  {
   "cell_type": "markdown",
   "metadata": {
    "slideshow": {
     "slide_type": "slide"
    }
   },
   "source": [
    "$C_\\alpha(T) = \\sum_{t=1}^{|T_f|}N_tH(t) + \\alpha|T_f|H(t) = - \\sum_{k=1}^{K}\\frac{D_{tk}}{D_t}log_2\\frac{D_{tk}}{D_t}$\n",
    "\n",
    "令：\n",
    "\n",
    "$C(T) = \\sum_{t=1}^{|T_f|}N_tH(t) = -\\sum_{t=1}^{|T_f|}\\sum_{k=1}^{K}D_{tk}log_2\\frac{D_{tk}}{D_t}$"
   ]
  },
  {
   "cell_type": "markdown",
   "metadata": {
    "slideshow": {
     "slide_type": "slide"
    }
   },
   "source": [
    "则$C_\\alpha(T) = C(T) + \\alpha|T_f|$"
   ]
  },
  {
   "cell_type": "markdown",
   "metadata": {
    "collapsed": true,
    "slideshow": {
     "slide_type": "slide"
    }
   },
   "source": [
    " ** 决策树应用实例 **\n",
    " \n",
    " [决策树应用实例](决策树应用实例.ipynb)"
   ]
  },
  {
   "cell_type": "code",
   "execution_count": null,
   "metadata": {
    "collapsed": true
   },
   "outputs": [],
   "source": []
  }
 ],
 "metadata": {
  "celltoolbar": "Slideshow",
  "kernelspec": {
   "display_name": "Python 3",
   "language": "python",
   "name": "python3"
  },
  "language_info": {
   "codemirror_mode": {
    "name": "ipython",
    "version": 3
   },
   "file_extension": ".py",
   "mimetype": "text/x-python",
   "name": "python",
   "nbconvert_exporter": "python",
   "pygments_lexer": "ipython3",
   "version": "3.6.1"
  }
 },
 "nbformat": 4,
 "nbformat_minor": 2
}
